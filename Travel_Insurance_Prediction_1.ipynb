{
 "cells": [
  {
   "cell_type": "markdown",
   "metadata": {
    "colab_type": "text",
    "id": "CGnvcNRIUUwp"
   },
   "source": [
    "Problem Description\n",
    "Insurance companies take risks over customers. Risk management is a very important aspect of the insurance industry. Insurers consider every quantifiable factor to develop profiles of high and low insurance risks. Insurers collect vast amounts of information about policyholders and analyze the data.\n",
    "\n",
    "As a Data scientist in an insurance company, you need to analyze the available data and predict whether to sanction the insurance or not.\n",
    "\n",
    "Dataset Description\n",
    "A zipped file containing train, test and sample submission files are given. The training dataset consists of data corresponding to 52310 customers and the test dataset consists of 22421 customers. Following are the features of the dataset\n",
    "\n",
    "1. Target: Claim Status (Claim)\n",
    "2. Name of agency (Agency) - Categorical\n",
    "3. Type of travel insurance agencies (Agency.Type) - Categorical\n",
    "4. Distribution channel of travel insurance agencies  - Categorical\n",
    "5. Name of the travel insurance products (Product.Name) - Categorical\n",
    "6. Duration of travel (Duration)\n",
    "7. Destination of travel (Destination)\n",
    "8. Amount of sales of travel insurance policies (Net.Sales)\n",
    "9. The commission received for travel insurance agency (Commission)\n",
    "10. Age of insured (Age)\n",
    "11. The identification record of every observation (ID)\n",
    "\n",
    "\n",
    "\n"
   ]
  },
  {
   "cell_type": "markdown",
   "metadata": {
    "colab_type": "text",
    "id": "a3AO24OwUvBY"
   },
   "source": [
    "Given the above data, we have to predict whether to sanction an insurance claim or not. The data contains high number of categorical features and a few redundant features as well. We will go through each step of the data analysis process."
   ]
  },
  {
   "cell_type": "code",
   "execution_count": 1,
   "metadata": {
    "colab": {
     "base_uri": "https://localhost:8080/",
     "height": 71
    },
    "colab_type": "code",
    "id": "FI6w_BcaUSbw",
    "outputId": "ea93be76-5030-4843-df70-f385c7dd25f9"
   },
   "outputs": [
    {
     "name": "stderr",
     "output_type": "stream",
     "text": [
      "/usr/local/lib/python3.6/dist-packages/statsmodels/tools/_testing.py:19: FutureWarning: pandas.util.testing is deprecated. Use the functions in the public API at pandas.testing instead.\n",
      "  import pandas.util.testing as tm\n"
     ]
    }
   ],
   "source": [
    "#importing basic useful libraries to load and visualise dataset\n",
    "import numpy as np\n",
    "import pandas as pd\n",
    "import matplotlib.pyplot as plt\n",
    "import seaborn as sns\n",
    "%matplotlib inline"
   ]
  },
  {
   "cell_type": "code",
   "execution_count": 2,
   "metadata": {
    "colab": {},
    "colab_type": "code",
    "id": "aLNnCrggT3D9"
   },
   "outputs": [],
   "source": [
    "df_train = pd.read_csv('/content/train.csv')\n",
    "df_test = pd.read_csv('/content/test.csv')"
   ]
  },
  {
   "cell_type": "code",
   "execution_count": 3,
   "metadata": {
    "colab": {
     "base_uri": "https://localhost:8080/",
     "height": 204
    },
    "colab_type": "code",
    "id": "jbKj0Ar8UF5Q",
    "outputId": "85c88c09-7b19-441b-97b0-f742b481de72"
   },
   "outputs": [
    {
     "data": {
      "text/html": [
       "<div>\n",
       "<style scoped>\n",
       "    .dataframe tbody tr th:only-of-type {\n",
       "        vertical-align: middle;\n",
       "    }\n",
       "\n",
       "    .dataframe tbody tr th {\n",
       "        vertical-align: top;\n",
       "    }\n",
       "\n",
       "    .dataframe thead th {\n",
       "        text-align: right;\n",
       "    }\n",
       "</style>\n",
       "<table border=\"1\" class=\"dataframe\">\n",
       "  <thead>\n",
       "    <tr style=\"text-align: right;\">\n",
       "      <th></th>\n",
       "      <th>ID</th>\n",
       "      <th>Agency</th>\n",
       "      <th>Agency Type</th>\n",
       "      <th>Distribution Channel</th>\n",
       "      <th>Product Name</th>\n",
       "      <th>Duration</th>\n",
       "      <th>Destination</th>\n",
       "      <th>Net Sales</th>\n",
       "      <th>Commision (in value)</th>\n",
       "      <th>Age</th>\n",
       "      <th>Claim</th>\n",
       "    </tr>\n",
       "  </thead>\n",
       "  <tbody>\n",
       "    <tr>\n",
       "      <th>0</th>\n",
       "      <td>2010</td>\n",
       "      <td>EPX</td>\n",
       "      <td>Travel Agency</td>\n",
       "      <td>Online</td>\n",
       "      <td>Cancellation Plan</td>\n",
       "      <td>61</td>\n",
       "      <td>PHILIPPINES</td>\n",
       "      <td>12.0</td>\n",
       "      <td>0.00</td>\n",
       "      <td>41</td>\n",
       "      <td>0</td>\n",
       "    </tr>\n",
       "    <tr>\n",
       "      <th>1</th>\n",
       "      <td>4245</td>\n",
       "      <td>EPX</td>\n",
       "      <td>Travel Agency</td>\n",
       "      <td>Online</td>\n",
       "      <td>Cancellation Plan</td>\n",
       "      <td>4</td>\n",
       "      <td>MALAYSIA</td>\n",
       "      <td>17.0</td>\n",
       "      <td>0.00</td>\n",
       "      <td>35</td>\n",
       "      <td>0</td>\n",
       "    </tr>\n",
       "    <tr>\n",
       "      <th>2</th>\n",
       "      <td>9251</td>\n",
       "      <td>CWT</td>\n",
       "      <td>Travel Agency</td>\n",
       "      <td>Online</td>\n",
       "      <td>Rental Vehicle Excess Insurance</td>\n",
       "      <td>26</td>\n",
       "      <td>THAILAND</td>\n",
       "      <td>19.8</td>\n",
       "      <td>11.88</td>\n",
       "      <td>47</td>\n",
       "      <td>0</td>\n",
       "    </tr>\n",
       "    <tr>\n",
       "      <th>3</th>\n",
       "      <td>4754</td>\n",
       "      <td>EPX</td>\n",
       "      <td>Travel Agency</td>\n",
       "      <td>Online</td>\n",
       "      <td>2 way Comprehensive Plan</td>\n",
       "      <td>15</td>\n",
       "      <td>HONG KONG</td>\n",
       "      <td>27.0</td>\n",
       "      <td>0.00</td>\n",
       "      <td>48</td>\n",
       "      <td>0</td>\n",
       "    </tr>\n",
       "    <tr>\n",
       "      <th>4</th>\n",
       "      <td>8840</td>\n",
       "      <td>EPX</td>\n",
       "      <td>Travel Agency</td>\n",
       "      <td>Online</td>\n",
       "      <td>2 way Comprehensive Plan</td>\n",
       "      <td>15</td>\n",
       "      <td>MALAYSIA</td>\n",
       "      <td>37.0</td>\n",
       "      <td>0.00</td>\n",
       "      <td>36</td>\n",
       "      <td>0</td>\n",
       "    </tr>\n",
       "  </tbody>\n",
       "</table>\n",
       "</div>"
      ],
      "text/plain": [
       "     ID Agency    Agency Type  ... Commision (in value) Age  Claim\n",
       "0  2010    EPX  Travel Agency  ...                 0.00  41      0\n",
       "1  4245    EPX  Travel Agency  ...                 0.00  35      0\n",
       "2  9251    CWT  Travel Agency  ...                11.88  47      0\n",
       "3  4754    EPX  Travel Agency  ...                 0.00  48      0\n",
       "4  8840    EPX  Travel Agency  ...                 0.00  36      0\n",
       "\n",
       "[5 rows x 11 columns]"
      ]
     },
     "execution_count": 3,
     "metadata": {
      "tags": []
     },
     "output_type": "execute_result"
    }
   ],
   "source": [
    "df_train.head()"
   ]
  },
  {
   "cell_type": "code",
   "execution_count": 4,
   "metadata": {
    "colab": {
     "base_uri": "https://localhost:8080/",
     "height": 204
    },
    "colab_type": "code",
    "id": "q-AEXn9IUH1O",
    "outputId": "4f96afec-075f-48eb-afcd-11481b11e04d"
   },
   "outputs": [
    {
     "data": {
      "text/html": [
       "<div>\n",
       "<style scoped>\n",
       "    .dataframe tbody tr th:only-of-type {\n",
       "        vertical-align: middle;\n",
       "    }\n",
       "\n",
       "    .dataframe tbody tr th {\n",
       "        vertical-align: top;\n",
       "    }\n",
       "\n",
       "    .dataframe thead th {\n",
       "        text-align: right;\n",
       "    }\n",
       "</style>\n",
       "<table border=\"1\" class=\"dataframe\">\n",
       "  <thead>\n",
       "    <tr style=\"text-align: right;\">\n",
       "      <th></th>\n",
       "      <th>ID</th>\n",
       "      <th>Agency</th>\n",
       "      <th>Agency Type</th>\n",
       "      <th>Distribution Channel</th>\n",
       "      <th>Product Name</th>\n",
       "      <th>Duration</th>\n",
       "      <th>Destination</th>\n",
       "      <th>Net Sales</th>\n",
       "      <th>Commision (in value)</th>\n",
       "      <th>Age</th>\n",
       "    </tr>\n",
       "  </thead>\n",
       "  <tbody>\n",
       "    <tr>\n",
       "      <th>0</th>\n",
       "      <td>17631</td>\n",
       "      <td>EPX</td>\n",
       "      <td>Travel Agency</td>\n",
       "      <td>Online</td>\n",
       "      <td>Cancellation Plan</td>\n",
       "      <td>192</td>\n",
       "      <td>HONG KONG</td>\n",
       "      <td>18.0</td>\n",
       "      <td>0.00</td>\n",
       "      <td>36</td>\n",
       "    </tr>\n",
       "    <tr>\n",
       "      <th>1</th>\n",
       "      <td>15064</td>\n",
       "      <td>EPX</td>\n",
       "      <td>Travel Agency</td>\n",
       "      <td>Online</td>\n",
       "      <td>1 way Comprehensive Plan</td>\n",
       "      <td>2</td>\n",
       "      <td>SINGAPORE</td>\n",
       "      <td>20.0</td>\n",
       "      <td>0.00</td>\n",
       "      <td>36</td>\n",
       "    </tr>\n",
       "    <tr>\n",
       "      <th>2</th>\n",
       "      <td>14139</td>\n",
       "      <td>C2B</td>\n",
       "      <td>Airlines</td>\n",
       "      <td>Online</td>\n",
       "      <td>Bronze Plan</td>\n",
       "      <td>13</td>\n",
       "      <td>SINGAPORE</td>\n",
       "      <td>13.5</td>\n",
       "      <td>3.38</td>\n",
       "      <td>24</td>\n",
       "    </tr>\n",
       "    <tr>\n",
       "      <th>3</th>\n",
       "      <td>19754</td>\n",
       "      <td>EPX</td>\n",
       "      <td>Travel Agency</td>\n",
       "      <td>Online</td>\n",
       "      <td>2 way Comprehensive Plan</td>\n",
       "      <td>133</td>\n",
       "      <td>TAIWAN, PROVINCE OF CHINA</td>\n",
       "      <td>41.0</td>\n",
       "      <td>0.00</td>\n",
       "      <td>36</td>\n",
       "    </tr>\n",
       "    <tr>\n",
       "      <th>4</th>\n",
       "      <td>16439</td>\n",
       "      <td>C2B</td>\n",
       "      <td>Airlines</td>\n",
       "      <td>Online</td>\n",
       "      <td>Silver Plan</td>\n",
       "      <td>2</td>\n",
       "      <td>SINGAPORE</td>\n",
       "      <td>30.0</td>\n",
       "      <td>7.50</td>\n",
       "      <td>32</td>\n",
       "    </tr>\n",
       "  </tbody>\n",
       "</table>\n",
       "</div>"
      ],
      "text/plain": [
       "      ID Agency    Agency Type  ... Net Sales Commision (in value)  Age\n",
       "0  17631    EPX  Travel Agency  ...      18.0                 0.00   36\n",
       "1  15064    EPX  Travel Agency  ...      20.0                 0.00   36\n",
       "2  14139    C2B       Airlines  ...      13.5                 3.38   24\n",
       "3  19754    EPX  Travel Agency  ...      41.0                 0.00   36\n",
       "4  16439    C2B       Airlines  ...      30.0                 7.50   32\n",
       "\n",
       "[5 rows x 10 columns]"
      ]
     },
     "execution_count": 4,
     "metadata": {
      "tags": []
     },
     "output_type": "execute_result"
    }
   ],
   "source": [
    "df_test.head()"
   ]
  },
  {
   "cell_type": "markdown",
   "metadata": {
    "colab_type": "text",
    "id": "HIpfxonoWFN9"
   },
   "source": [
    "First, lets check all the categorical features and understand how many categories we have"
   ]
  },
  {
   "cell_type": "code",
   "execution_count": 5,
   "metadata": {
    "colab": {
     "base_uri": "https://localhost:8080/",
     "height": 306
    },
    "colab_type": "code",
    "id": "DUslFxiBUNVd",
    "outputId": "87668365-b94d-4221-f34f-af539a6867a7"
   },
   "outputs": [
    {
     "data": {
      "text/plain": [
       "EPX    26218\n",
       "C2B    10615\n",
       "CWT     6813\n",
       "JZI     4619\n",
       "LWC      806\n",
       "SSI      780\n",
       "JWT      550\n",
       "RAB      527\n",
       "TST      394\n",
       "KML      313\n",
       "ART      223\n",
       "CCR      156\n",
       "TTW      104\n",
       "CBH       76\n",
       "CSR       60\n",
       "ADM       56\n",
       "Name: Agency, dtype: int64"
      ]
     },
     "execution_count": 5,
     "metadata": {
      "tags": []
     },
     "output_type": "execute_result"
    }
   ],
   "source": [
    "df_train['Agency'].value_counts()"
   ]
  },
  {
   "cell_type": "markdown",
   "metadata": {
    "colab_type": "text",
    "id": "lrk58viwZQ9E"
   },
   "source": [
    "We have 16 agencies, distributed among Travel Agency and Airlines types an functioning among online and offline channels. Lets check the distribution of agencies among agency types and distribution channels"
   ]
  },
  {
   "cell_type": "code",
   "execution_count": 6,
   "metadata": {
    "colab": {
     "base_uri": "https://localhost:8080/",
     "height": 514
    },
    "colab_type": "code",
    "id": "6TN3EUNfZAAt",
    "outputId": "46079e35-81d1-45ca-b48b-fd8ebc0a9c5b"
   },
   "outputs": [
    {
     "data": {
      "text/plain": [
       "<matplotlib.axes._subplots.AxesSubplot at 0x7fa6213c9780>"
      ]
     },
     "execution_count": 6,
     "metadata": {
      "tags": []
     },
     "output_type": "execute_result"
    },
    {
     "data": {
      "image/png": "[encoded data removed]",
      "text/plain": [
       "<Figure size 864x576 with 1 Axes>"
      ]
     },
     "metadata": {
      "needs_background": "light",
      "tags": []
     },
     "output_type": "display_data"
    }
   ],
   "source": [
    "fig_dims = (12, 8)\n",
    "fig, ax = plt.subplots(figsize=fig_dims)\n",
    "sns.set(style=\"darkgrid\")\n",
    "sns.countplot(x = 'Agency', hue = 'Agency Type', data = df_train, ax = ax)"
   ]
  },
  {
   "cell_type": "markdown",
   "metadata": {
    "colab_type": "text",
    "id": "WtB8Wxcqe7h1"
   },
   "source": [
    "As seen in the above plot, we have 6 airlines and 10 travel agencies we are dealing with. EXP and CWT amounts to highest numbers among agencies and JZIO and C2B among Airlines. "
   ]
  },
  {
   "cell_type": "code",
   "execution_count": 7,
   "metadata": {
    "colab": {
     "base_uri": "https://localhost:8080/",
     "height": 519
    },
    "colab_type": "code",
    "id": "3bSIhC5ReeRy",
    "outputId": "f62f2653-43e5-437c-dca2-e3dc67ad6126"
   },
   "outputs": [
    {
     "data": {
      "text/plain": [
       "<matplotlib.axes._subplots.AxesSubplot at 0x7fa621287320>"
      ]
     },
     "execution_count": 7,
     "metadata": {
      "tags": []
     },
     "output_type": "execute_result"
    },
    {
     "data": {
      "image/png": "[encoded data removed]",
      "text/plain": [
       "<Figure size 864x576 with 1 Axes>"
      ]
     },
     "metadata": {
      "tags": []
     },
     "output_type": "display_data"
    }
   ],
   "source": [
    "fig_dims = (12, 8)\n",
    "fig, ax = plt.subplots(figsize=fig_dims)\n",
    "sns.set(style=\"darkgrid\")\n",
    "sns.countplot(x = 'Agency', hue = 'Distribution Channel', data = df_train, ax = ax)"
   ]
  },
  {
   "cell_type": "markdown",
   "metadata": {
    "colab_type": "text",
    "id": "0GPd0eCbfNIc"
   },
   "source": [
    "The baove graph shows how both agencies and airlines are conducting online distribution over offline. Similarly if we check the df_test datast, we will find similar pattern. We can see from the above graphs that the claim ratio is mainly dominated by online distribution and among agencies. Airlines have lower contributions compared to agencies. To confirm this, we will plot the net sales across agency types"
   ]
  },
  {
   "cell_type": "code",
   "execution_count": 8,
   "metadata": {
    "colab": {
     "base_uri": "https://localhost:8080/",
     "height": 382
    },
    "colab_type": "code",
    "id": "Xtb3Cyj7g8Un",
    "outputId": "7fad01df-e35e-44fd-8a1f-3f470d9f725c"
   },
   "outputs": [
    {
     "data": {
      "text/plain": [
       "<seaborn.axisgrid.FacetGrid at 0x7fa620d23748>"
      ]
     },
     "execution_count": 8,
     "metadata": {
      "tags": []
     },
     "output_type": "execute_result"
    },
    {
     "data": {
      "image/png": "[encoded data removed]",
      "text/plain": [
       "<Figure size 360x360 with 1 Axes>"
      ]
     },
     "metadata": {
      "tags": []
     },
     "output_type": "display_data"
    }
   ],
   "source": [
    "sns.catplot(x=\"Agency Type\", y=\"Net Sales\", data=df_train)"
   ]
  },
  {
   "cell_type": "code",
   "execution_count": 9,
   "metadata": {
    "colab": {
     "base_uri": "https://localhost:8080/",
     "height": 382
    },
    "colab_type": "code",
    "id": "tw4Eo5yAjKy4",
    "outputId": "beede647-b8f1-4897-ff73-d95f9baa256a"
   },
   "outputs": [
    {
     "data": {
      "text/plain": [
       "<seaborn.axisgrid.FacetGrid at 0x7fa6213b9978>"
      ]
     },
     "execution_count": 9,
     "metadata": {
      "tags": []
     },
     "output_type": "execute_result"
    },
    {
     "data": {
      "image/png": "[encoded data removed]",
      "text/plain": [
       "<Figure size 360x360 with 1 Axes>"
      ]
     },
     "metadata": {
      "tags": []
     },
     "output_type": "display_data"
    }
   ],
   "source": [
    "sns.catplot(x=\"Agency Type\", y=\"Net Sales\", data=df_test)"
   ]
  },
  {
   "cell_type": "markdown",
   "metadata": {
    "colab_type": "text",
    "id": "uPqwEIZCkC9t"
   },
   "source": [
    "As seen in both the charts above, Airlines have higher number of sales compared to agencies. Airlines also tend to make high value sales "
   ]
  },
  {
   "cell_type": "code",
   "execution_count": 10,
   "metadata": {
    "colab": {
     "base_uri": "https://localhost:8080/",
     "height": 382
    },
    "colab_type": "code",
    "id": "Wn01-URqj_wg",
    "outputId": "3e6396e3-8f8f-45fe-c765-59aea1439e57"
   },
   "outputs": [
    {
     "data": {
      "text/plain": [
       "<seaborn.axisgrid.FacetGrid at 0x7fa620ce7550>"
      ]
     },
     "execution_count": 10,
     "metadata": {
      "tags": []
     },
     "output_type": "execute_result"
    },
    {
     "data": {
      "image/png": "[encoded data removed]",
      "text/plain": [
       "<Figure size 360x360 with 1 Axes>"
      ]
     },
     "metadata": {
      "tags": []
     },
     "output_type": "display_data"
    }
   ],
   "source": [
    "sns.catplot(x=\"Agency Type\", y=\"Commision (in value)\", data=df_train)"
   ]
  },
  {
   "cell_type": "code",
   "execution_count": 11,
   "metadata": {
    "colab": {
     "base_uri": "https://localhost:8080/",
     "height": 85
    },
    "colab_type": "code",
    "id": "5x_bz175m8GU",
    "outputId": "d72eca46-3156-45b2-8ff5-0602893b57ee"
   },
   "outputs": [
    {
     "data": {
      "text/plain": [
       "Index(['ID', 'Agency', 'Agency Type', 'Distribution Channel', 'Product Name',\n",
       "       'Duration', 'Destination', 'Net Sales', 'Commision (in value)', 'Age',\n",
       "       'Claim'],\n",
       "      dtype='object')"
      ]
     },
     "execution_count": 11,
     "metadata": {
      "tags": []
     },
     "output_type": "execute_result"
    }
   ],
   "source": [
    "df_train.columns"
   ]
  },
  {
   "cell_type": "code",
   "execution_count": 12,
   "metadata": {
    "colab": {
     "base_uri": "https://localhost:8080/",
     "height": 519
    },
    "colab_type": "code",
    "id": "GaNb2aVVrL_2",
    "outputId": "5f257127-2efe-46d3-afe1-ecccb9e5d86a"
   },
   "outputs": [
    {
     "data": {
      "text/plain": [
       "<matplotlib.axes._subplots.AxesSubplot at 0x7fa620d2de80>"
      ]
     },
     "execution_count": 12,
     "metadata": {
      "tags": []
     },
     "output_type": "execute_result"
    },
    {
     "data": {
      "image/png": "[encoded data removed]",
      "text/plain": [
       "<Figure size 864x576 with 1 Axes>"
      ]
     },
     "metadata": {
      "tags": []
     },
     "output_type": "display_data"
    }
   ],
   "source": [
    "fig_dims = (12, 8)\n",
    "fig, ax = plt.subplots(figsize=fig_dims)\n",
    "sns.set(style=\"darkgrid\")\n",
    "sns.countplot(x = 'Agency', hue = 'Claim', data = df_train, ax = ax)"
   ]
  },
  {
   "cell_type": "markdown",
   "metadata": {
    "colab_type": "text",
    "id": "nnfzAlzuk-zz"
   },
   "source": [
    "However, if we look at comissions, agengies tend to make a lot more than the airlines. Lets check the cliam ratio acorss features"
   ]
  },
  {
   "cell_type": "code",
   "execution_count": 13,
   "metadata": {
    "colab": {
     "base_uri": "https://localhost:8080/",
     "height": 519
    },
    "colab_type": "code",
    "id": "qqWY_c3OrRD7",
    "outputId": "3b05ac42-02a6-45ef-8cef-c4d8f83145b0"
   },
   "outputs": [
    {
     "data": {
      "text/plain": [
       "<matplotlib.axes._subplots.AxesSubplot at 0x7fa61e407e48>"
      ]
     },
     "execution_count": 13,
     "metadata": {
      "tags": []
     },
     "output_type": "execute_result"
    },
    {
     "data": {
      "image/png": "[encoded data removed]",
      "text/plain": [
       "<Figure size 864x576 with 1 Axes>"
      ]
     },
     "metadata": {
      "tags": []
     },
     "output_type": "display_data"
    }
   ],
   "source": [
    "fig_dims = (12, 8)\n",
    "fig, ax = plt.subplots(figsize=fig_dims)\n",
    "sns.set(style=\"darkgrid\")\n",
    "sns.countplot(x = 'Distribution Channel', hue = 'Claim', data = df_train, ax = ax)"
   ]
  },
  {
   "cell_type": "code",
   "execution_count": 14,
   "metadata": {
    "colab": {
     "base_uri": "https://localhost:8080/",
     "height": 519
    },
    "colab_type": "code",
    "id": "5rQWTnU1rVDh",
    "outputId": "0652cf25-7460-4187-c7d9-0bedb61c041f"
   },
   "outputs": [
    {
     "data": {
      "text/plain": [
       "<matplotlib.axes._subplots.AxesSubplot at 0x7fa61e36d630>"
      ]
     },
     "execution_count": 14,
     "metadata": {
      "tags": []
     },
     "output_type": "execute_result"
    },
    {
     "data": {
      "image/png": "[encoded data removed]",
      "text/plain": [
       "<Figure size 864x576 with 1 Axes>"
      ]
     },
     "metadata": {
      "tags": []
     },
     "output_type": "display_data"
    }
   ],
   "source": [
    "fig_dims = (12, 8)\n",
    "fig, ax = plt.subplots(figsize=fig_dims)\n",
    "sns.set(style=\"darkgrid\")\n",
    "sns.countplot(x = 'Agency', hue = 'Claim', data = df_train, ax = ax)"
   ]
  },
  {
   "cell_type": "markdown",
   "metadata": {
    "colab_type": "text",
    "id": "G5_swtcIoHDn"
   },
   "source": [
    "The above chart shows how the claims rate is higher among airlines and majorly dominated by online distributions. We will also check for claim rates among product type since there are 25 products and the chart wont display all of those accurately"
   ]
  },
  {
   "cell_type": "code",
   "execution_count": 15,
   "metadata": {
    "colab": {
     "base_uri": "https://localhost:8080/",
     "height": 855
    },
    "colab_type": "code",
    "id": "PwZlWoE6qWYP",
    "outputId": "d92b23b5-c2b0-4bbf-f6a9-e510c0956df5"
   },
   "outputs": [
    {
     "data": {
      "text/html": [
       "<div>\n",
       "<style scoped>\n",
       "    .dataframe tbody tr th:only-of-type {\n",
       "        vertical-align: middle;\n",
       "    }\n",
       "\n",
       "    .dataframe tbody tr th {\n",
       "        vertical-align: top;\n",
       "    }\n",
       "\n",
       "    .dataframe thead th {\n",
       "        text-align: right;\n",
       "    }\n",
       "</style>\n",
       "<table border=\"1\" class=\"dataframe\">\n",
       "  <thead>\n",
       "    <tr style=\"text-align: right;\">\n",
       "      <th></th>\n",
       "      <th>Claim</th>\n",
       "    </tr>\n",
       "    <tr>\n",
       "      <th>Product Name</th>\n",
       "      <th></th>\n",
       "    </tr>\n",
       "  </thead>\n",
       "  <tbody>\n",
       "    <tr>\n",
       "      <th>Bronze Plan</th>\n",
       "      <td>2020</td>\n",
       "    </tr>\n",
       "    <tr>\n",
       "      <th>2 way Comprehensive Plan</th>\n",
       "      <td>1457</td>\n",
       "    </tr>\n",
       "    <tr>\n",
       "      <th>Annual Silver Plan</th>\n",
       "      <td>1451</td>\n",
       "    </tr>\n",
       "    <tr>\n",
       "      <th>Silver Plan</th>\n",
       "      <td>1384</td>\n",
       "    </tr>\n",
       "    <tr>\n",
       "      <th>Rental Vehicle Excess Insurance</th>\n",
       "      <td>848</td>\n",
       "    </tr>\n",
       "    <tr>\n",
       "      <th>Cancellation Plan</th>\n",
       "      <td>355</td>\n",
       "    </tr>\n",
       "    <tr>\n",
       "      <th>Basic Plan</th>\n",
       "      <td>246</td>\n",
       "    </tr>\n",
       "    <tr>\n",
       "      <th>Annual Gold Plan</th>\n",
       "      <td>172</td>\n",
       "    </tr>\n",
       "    <tr>\n",
       "      <th>Gold Plan</th>\n",
       "      <td>143</td>\n",
       "    </tr>\n",
       "    <tr>\n",
       "      <th>Single Trip Travel Protect Gold</th>\n",
       "      <td>121</td>\n",
       "    </tr>\n",
       "    <tr>\n",
       "      <th>Annual Travel Protect Gold</th>\n",
       "      <td>120</td>\n",
       "    </tr>\n",
       "    <tr>\n",
       "      <th>Value Plan</th>\n",
       "      <td>94</td>\n",
       "    </tr>\n",
       "    <tr>\n",
       "      <th>1 way Comprehensive Plan</th>\n",
       "      <td>68</td>\n",
       "    </tr>\n",
       "    <tr>\n",
       "      <th>Ticket Protector</th>\n",
       "      <td>57</td>\n",
       "    </tr>\n",
       "    <tr>\n",
       "      <th>Single Trip Travel Protect Platinum</th>\n",
       "      <td>50</td>\n",
       "    </tr>\n",
       "    <tr>\n",
       "      <th>Individual Comprehensive Plan</th>\n",
       "      <td>37</td>\n",
       "    </tr>\n",
       "    <tr>\n",
       "      <th>Annual Travel Protect Silver</th>\n",
       "      <td>31</td>\n",
       "    </tr>\n",
       "    <tr>\n",
       "      <th>Travel Cruise Protect</th>\n",
       "      <td>21</td>\n",
       "    </tr>\n",
       "    <tr>\n",
       "      <th>Single Trip Travel Protect Silver</th>\n",
       "      <td>16</td>\n",
       "    </tr>\n",
       "    <tr>\n",
       "      <th>Annual Travel Protect Platinum</th>\n",
       "      <td>14</td>\n",
       "    </tr>\n",
       "    <tr>\n",
       "      <th>Comprehensive Plan</th>\n",
       "      <td>12</td>\n",
       "    </tr>\n",
       "    <tr>\n",
       "      <th>Premier Plan</th>\n",
       "      <td>2</td>\n",
       "    </tr>\n",
       "    <tr>\n",
       "      <th>Spouse or Parents Comprehensive Plan</th>\n",
       "      <td>1</td>\n",
       "    </tr>\n",
       "    <tr>\n",
       "      <th>Child Comprehensive Plan</th>\n",
       "      <td>0</td>\n",
       "    </tr>\n",
       "    <tr>\n",
       "      <th>24 Protect</th>\n",
       "      <td>0</td>\n",
       "    </tr>\n",
       "  </tbody>\n",
       "</table>\n",
       "</div>"
      ],
      "text/plain": [
       "                                      Claim\n",
       "Product Name                               \n",
       "Bronze Plan                            2020\n",
       "2 way Comprehensive Plan               1457\n",
       "Annual Silver Plan                     1451\n",
       "Silver Plan                            1384\n",
       "Rental Vehicle Excess Insurance         848\n",
       "Cancellation Plan                       355\n",
       "Basic Plan                              246\n",
       "Annual Gold Plan                        172\n",
       "Gold Plan                               143\n",
       "Single Trip Travel Protect Gold         121\n",
       "Annual Travel Protect Gold              120\n",
       "Value Plan                               94\n",
       "1 way Comprehensive Plan                 68\n",
       "Ticket Protector                         57\n",
       "Single Trip Travel Protect Platinum      50\n",
       "Individual Comprehensive Plan            37\n",
       "Annual Travel Protect Silver             31\n",
       "Travel Cruise Protect                    21\n",
       "Single Trip Travel Protect Silver        16\n",
       "Annual Travel Protect Platinum           14\n",
       "Comprehensive Plan                       12\n",
       "Premier Plan                              2\n",
       "Spouse or Parents Comprehensive Plan      1\n",
       "Child Comprehensive Plan                  0\n",
       "24 Protect                                0"
      ]
     },
     "execution_count": 15,
     "metadata": {
      "tags": []
     },
     "output_type": "execute_result"
    }
   ],
   "source": [
    "product_claim = pd.pivot_table(df_train,index=[\"Product Name\"],values=[\"Claim\"],aggfunc=np.sum)\n",
    "product_claim.sort_values(by = ['Claim'], ascending = False)"
   ]
  },
  {
   "cell_type": "markdown",
   "metadata": {
    "colab_type": "text",
    "id": "NCa3QdBptUVv"
   },
   "source": [
    "The Above pivot table shows descending order of clims per product. Bronze Plan, 2 way Comprehensive Plan, Annual Silver Plan, Silver Plan, Rental Vehicle Excess Insurance amounts to over 82% of insurance claims. Lets also check the same for destinations to see which countries amounts to highest claims"
   ]
  },
  {
   "cell_type": "code",
   "execution_count": 16,
   "metadata": {
    "colab": {
     "base_uri": "https://localhost:8080/",
     "height": 450
    },
    "colab_type": "code",
    "id": "a9j_ygtDtTW6",
    "outputId": "b4884e60-cc56-4546-9798-72c6e8009b9b"
   },
   "outputs": [
    {
     "data": {
      "text/html": [
       "<div>\n",
       "<style scoped>\n",
       "    .dataframe tbody tr th:only-of-type {\n",
       "        vertical-align: middle;\n",
       "    }\n",
       "\n",
       "    .dataframe tbody tr th {\n",
       "        vertical-align: top;\n",
       "    }\n",
       "\n",
       "    .dataframe thead th {\n",
       "        text-align: right;\n",
       "    }\n",
       "</style>\n",
       "<table border=\"1\" class=\"dataframe\">\n",
       "  <thead>\n",
       "    <tr style=\"text-align: right;\">\n",
       "      <th></th>\n",
       "      <th>Claim</th>\n",
       "    </tr>\n",
       "    <tr>\n",
       "      <th>Destination</th>\n",
       "      <th></th>\n",
       "    </tr>\n",
       "  </thead>\n",
       "  <tbody>\n",
       "    <tr>\n",
       "      <th>SINGAPORE</th>\n",
       "      <td>5306</td>\n",
       "    </tr>\n",
       "    <tr>\n",
       "      <th>CHINA</th>\n",
       "      <td>642</td>\n",
       "    </tr>\n",
       "    <tr>\n",
       "      <th>THAILAND</th>\n",
       "      <td>458</td>\n",
       "    </tr>\n",
       "    <tr>\n",
       "      <th>AUSTRALIA</th>\n",
       "      <td>455</td>\n",
       "    </tr>\n",
       "    <tr>\n",
       "      <th>UNITED STATES</th>\n",
       "      <td>444</td>\n",
       "    </tr>\n",
       "    <tr>\n",
       "      <th>...</th>\n",
       "      <td>...</td>\n",
       "    </tr>\n",
       "    <tr>\n",
       "      <th>IRELAND</th>\n",
       "      <td>0</td>\n",
       "    </tr>\n",
       "    <tr>\n",
       "      <th>HUNGARY</th>\n",
       "      <td>0</td>\n",
       "    </tr>\n",
       "    <tr>\n",
       "      <th>GUAM</th>\n",
       "      <td>0</td>\n",
       "    </tr>\n",
       "    <tr>\n",
       "      <th>GEORGIA</th>\n",
       "      <td>0</td>\n",
       "    </tr>\n",
       "    <tr>\n",
       "      <th>ZAMBIA</th>\n",
       "      <td>0</td>\n",
       "    </tr>\n",
       "  </tbody>\n",
       "</table>\n",
       "<p>97 rows × 1 columns</p>\n",
       "</div>"
      ],
      "text/plain": [
       "               Claim\n",
       "Destination         \n",
       "SINGAPORE       5306\n",
       "CHINA            642\n",
       "THAILAND         458\n",
       "AUSTRALIA        455\n",
       "UNITED STATES    444\n",
       "...              ...\n",
       "IRELAND            0\n",
       "HUNGARY            0\n",
       "GUAM               0\n",
       "GEORGIA            0\n",
       "ZAMBIA             0\n",
       "\n",
       "[97 rows x 1 columns]"
      ]
     },
     "execution_count": 16,
     "metadata": {
      "tags": []
     },
     "output_type": "execute_result"
    }
   ],
   "source": [
    "country_claim = pd.pivot_table(df_train,index=[\"Destination\"],values=[\"Claim\"],aggfunc=np.sum)\n",
    "country_claim.sort_values(by = ['Claim'], ascending = False)"
   ]
  },
  {
   "cell_type": "markdown",
   "metadata": {
    "colab_type": "text",
    "id": "duYe57I6Y36U"
   },
   "source": [
    "\n",
    "The above pivot shows claims among 97 countries. However 92% claims have occured among top 10 countries : Singapore, China, Thailand, Australia, US, Malaysia, UK, Japan, Korea and Hong Kong. the remaining 87 countries only amounts to 8% claims in our train dataset. The test dataset also shows similar trend\n",
    "\n",
    "We will be fucussing on the top 20 claim approved countries for our model\n",
    "\n",
    "We also wish to check distribution of claim rates among different age groups and  duration of flight. FOr that we will have to create separate coulmns for those breaks. We will creat dummies for all categorical variables to have the entire dataset in 0 or 1 values which will be useful and mandatory to execute any preduction models later\n",
    "\n",
    "I am using the qcut method to cut Age, Sales and Duration into 4 quartiles to get categorical values in those columns. "
   ]
  },
  {
   "cell_type": "markdown",
   "metadata": {
    "colab_type": "text",
    "id": "2WFOqUBZ45Nm"
   },
   "source": [
    "**Data Processing**\n",
    "\n",
    "1. The existing dataframe we have have numerical inputs in Age, COmission, Duration and Sales columns. We will be binnin these inputs so that we have a clear idea of the categories in these columns.\n",
    "\n",
    "2. The Agency, Destination and Product columns also has a lot of variables, for which we will be using the names of agencies, countries and products that comprises of more than 90% of claim approvals\n",
    "\n",
    "I am using the **qcut** method to cut Age, Sales and Duration into 4 quartiles to get categorical values in those columns. "
   ]
  },
  {
   "cell_type": "code",
   "execution_count": 17,
   "metadata": {
    "colab": {
     "base_uri": "https://localhost:8080/",
     "height": 221
    },
    "colab_type": "code",
    "id": "1x35rebPP1jy",
    "outputId": "ed80f2ff-86a8-4823-c35c-c8f63b526d23"
   },
   "outputs": [
    {
     "data": {
      "text/plain": [
       "0      (36.0, 43.0]\n",
       "1      (33.0, 36.0]\n",
       "2     (43.0, 118.0]\n",
       "3     (43.0, 118.0]\n",
       "4      (33.0, 36.0]\n",
       "5      (36.0, 43.0]\n",
       "6      (33.0, 36.0]\n",
       "7      (36.0, 43.0]\n",
       "8      (33.0, 36.0]\n",
       "9    (-0.001, 33.0]\n",
       "Name: Age, dtype: category\n",
       "Categories (4, interval[float64]): [(-0.001, 33.0] < (33.0, 36.0] < (36.0, 43.0] < (43.0, 118.0]]"
      ]
     },
     "execution_count": 17,
     "metadata": {
      "tags": []
     },
     "output_type": "execute_result"
    }
   ],
   "source": [
    "pd.qcut(df_train['Age'], q =4).head(10)"
   ]
  },
  {
   "cell_type": "code",
   "execution_count": 18,
   "metadata": {
    "colab": {
     "base_uri": "https://localhost:8080/",
     "height": 204
    },
    "colab_type": "code",
    "id": "bWE56hS5Wyae",
    "outputId": "7a96187e-403a-45a3-b4d0-db9d37341a94"
   },
   "outputs": [
    {
     "data": {
      "text/html": [
       "<div>\n",
       "<style scoped>\n",
       "    .dataframe tbody tr th:only-of-type {\n",
       "        vertical-align: middle;\n",
       "    }\n",
       "\n",
       "    .dataframe tbody tr th {\n",
       "        vertical-align: top;\n",
       "    }\n",
       "\n",
       "    .dataframe thead th {\n",
       "        text-align: right;\n",
       "    }\n",
       "</style>\n",
       "<table border=\"1\" class=\"dataframe\">\n",
       "  <thead>\n",
       "    <tr style=\"text-align: right;\">\n",
       "      <th></th>\n",
       "      <th>ID</th>\n",
       "      <th>Agency</th>\n",
       "      <th>Agency Type</th>\n",
       "      <th>Distribution Channel</th>\n",
       "      <th>Product Name</th>\n",
       "      <th>Duration</th>\n",
       "      <th>Destination</th>\n",
       "      <th>Net Sales</th>\n",
       "      <th>Commision (in value)</th>\n",
       "      <th>Age</th>\n",
       "      <th>Claim</th>\n",
       "      <th>Age_band</th>\n",
       "    </tr>\n",
       "  </thead>\n",
       "  <tbody>\n",
       "    <tr>\n",
       "      <th>0</th>\n",
       "      <td>2010</td>\n",
       "      <td>EPX</td>\n",
       "      <td>Travel Agency</td>\n",
       "      <td>Online</td>\n",
       "      <td>Cancellation Plan</td>\n",
       "      <td>61</td>\n",
       "      <td>PHILIPPINES</td>\n",
       "      <td>12.0</td>\n",
       "      <td>0.00</td>\n",
       "      <td>41</td>\n",
       "      <td>0</td>\n",
       "      <td>Age 36-43</td>\n",
       "    </tr>\n",
       "    <tr>\n",
       "      <th>1</th>\n",
       "      <td>4245</td>\n",
       "      <td>EPX</td>\n",
       "      <td>Travel Agency</td>\n",
       "      <td>Online</td>\n",
       "      <td>Cancellation Plan</td>\n",
       "      <td>4</td>\n",
       "      <td>MALAYSIA</td>\n",
       "      <td>17.0</td>\n",
       "      <td>0.00</td>\n",
       "      <td>35</td>\n",
       "      <td>0</td>\n",
       "      <td>Age 33-36</td>\n",
       "    </tr>\n",
       "    <tr>\n",
       "      <th>2</th>\n",
       "      <td>9251</td>\n",
       "      <td>CWT</td>\n",
       "      <td>Travel Agency</td>\n",
       "      <td>Online</td>\n",
       "      <td>Rental Vehicle Excess Insurance</td>\n",
       "      <td>26</td>\n",
       "      <td>THAILAND</td>\n",
       "      <td>19.8</td>\n",
       "      <td>11.88</td>\n",
       "      <td>47</td>\n",
       "      <td>0</td>\n",
       "      <td>Age &lt;43</td>\n",
       "    </tr>\n",
       "    <tr>\n",
       "      <th>3</th>\n",
       "      <td>4754</td>\n",
       "      <td>EPX</td>\n",
       "      <td>Travel Agency</td>\n",
       "      <td>Online</td>\n",
       "      <td>2 way Comprehensive Plan</td>\n",
       "      <td>15</td>\n",
       "      <td>HONG KONG</td>\n",
       "      <td>27.0</td>\n",
       "      <td>0.00</td>\n",
       "      <td>48</td>\n",
       "      <td>0</td>\n",
       "      <td>Age &lt;43</td>\n",
       "    </tr>\n",
       "    <tr>\n",
       "      <th>4</th>\n",
       "      <td>8840</td>\n",
       "      <td>EPX</td>\n",
       "      <td>Travel Agency</td>\n",
       "      <td>Online</td>\n",
       "      <td>2 way Comprehensive Plan</td>\n",
       "      <td>15</td>\n",
       "      <td>MALAYSIA</td>\n",
       "      <td>37.0</td>\n",
       "      <td>0.00</td>\n",
       "      <td>36</td>\n",
       "      <td>0</td>\n",
       "      <td>Age 33-36</td>\n",
       "    </tr>\n",
       "  </tbody>\n",
       "</table>\n",
       "</div>"
      ],
      "text/plain": [
       "     ID Agency    Agency Type  ... Age Claim   Age_band\n",
       "0  2010    EPX  Travel Agency  ...  41     0  Age 36-43\n",
       "1  4245    EPX  Travel Agency  ...  35     0  Age 33-36\n",
       "2  9251    CWT  Travel Agency  ...  47     0    Age <43\n",
       "3  4754    EPX  Travel Agency  ...  48     0    Age <43\n",
       "4  8840    EPX  Travel Agency  ...  36     0  Age 33-36\n",
       "\n",
       "[5 rows x 12 columns]"
      ]
     },
     "execution_count": 18,
     "metadata": {
      "tags": []
     },
     "output_type": "execute_result"
    }
   ],
   "source": [
    "df_train['Age_band'] = pd.qcut(df_train.Age, q=4, labels=['Age <33', 'Age 33-36','Age 36-43', 'Age <43']) \n",
    "df_train.head()"
   ]
  },
  {
   "cell_type": "code",
   "execution_count": 19,
   "metadata": {
    "colab": {
     "base_uri": "https://localhost:8080/",
     "height": 102
    },
    "colab_type": "code",
    "id": "Njv1tIOXXGGj",
    "outputId": "fc9a1f59-07b3-47d2-fed5-ea622054ee80"
   },
   "outputs": [
    {
     "data": {
      "text/plain": [
       "Age 33-36    20958\n",
       "Age <33      13157\n",
       "Age <43      12715\n",
       "Age 36-43     5480\n",
       "Name: Age_band, dtype: int64"
      ]
     },
     "execution_count": 19,
     "metadata": {
      "tags": []
     },
     "output_type": "execute_result"
    }
   ],
   "source": [
    "df_train['Age_band'].value_counts()"
   ]
  },
  {
   "cell_type": "code",
   "execution_count": 20,
   "metadata": {
    "colab": {
     "base_uri": "https://localhost:8080/",
     "height": 221
    },
    "colab_type": "code",
    "id": "zMgS4rfbR_s_",
    "outputId": "332e303f-f101-42fd-ca00-2c26d2a019c1"
   },
   "outputs": [
    {
     "data": {
      "text/plain": [
       "0     (34.0, 36.0]\n",
       "1     (34.0, 36.0]\n",
       "2    (0.999, 34.0]\n",
       "3     (34.0, 36.0]\n",
       "4    (0.999, 34.0]\n",
       "5     (36.0, 43.0]\n",
       "6     (34.0, 36.0]\n",
       "7    (0.999, 34.0]\n",
       "8    (43.0, 118.0]\n",
       "9     (34.0, 36.0]\n",
       "Name: Age, dtype: category\n",
       "Categories (4, interval[float64]): [(0.999, 34.0] < (34.0, 36.0] < (36.0, 43.0] < (43.0, 118.0]]"
      ]
     },
     "execution_count": 20,
     "metadata": {
      "tags": []
     },
     "output_type": "execute_result"
    }
   ],
   "source": [
    "pd.qcut(df_test['Age'], q =4).head(10)"
   ]
  },
  {
   "cell_type": "code",
   "execution_count": 21,
   "metadata": {
    "colab": {
     "base_uri": "https://localhost:8080/",
     "height": 272
    },
    "colab_type": "code",
    "id": "J-MzrekcbZtq",
    "outputId": "203eea4b-a71b-41ab-b2a1-5d9eed3c6430"
   },
   "outputs": [
    {
     "data": {
      "text/html": [
       "<div>\n",
       "<style scoped>\n",
       "    .dataframe tbody tr th:only-of-type {\n",
       "        vertical-align: middle;\n",
       "    }\n",
       "\n",
       "    .dataframe tbody tr th {\n",
       "        vertical-align: top;\n",
       "    }\n",
       "\n",
       "    .dataframe thead th {\n",
       "        text-align: right;\n",
       "    }\n",
       "</style>\n",
       "<table border=\"1\" class=\"dataframe\">\n",
       "  <thead>\n",
       "    <tr style=\"text-align: right;\">\n",
       "      <th></th>\n",
       "      <th>ID</th>\n",
       "      <th>Agency</th>\n",
       "      <th>Agency Type</th>\n",
       "      <th>Distribution Channel</th>\n",
       "      <th>Product Name</th>\n",
       "      <th>Duration</th>\n",
       "      <th>Destination</th>\n",
       "      <th>Net Sales</th>\n",
       "      <th>Commision (in value)</th>\n",
       "      <th>Age</th>\n",
       "      <th>Age_band</th>\n",
       "    </tr>\n",
       "  </thead>\n",
       "  <tbody>\n",
       "    <tr>\n",
       "      <th>0</th>\n",
       "      <td>17631</td>\n",
       "      <td>EPX</td>\n",
       "      <td>Travel Agency</td>\n",
       "      <td>Online</td>\n",
       "      <td>Cancellation Plan</td>\n",
       "      <td>192</td>\n",
       "      <td>HONG KONG</td>\n",
       "      <td>18.0</td>\n",
       "      <td>0.00</td>\n",
       "      <td>36</td>\n",
       "      <td>Age 34-36</td>\n",
       "    </tr>\n",
       "    <tr>\n",
       "      <th>1</th>\n",
       "      <td>15064</td>\n",
       "      <td>EPX</td>\n",
       "      <td>Travel Agency</td>\n",
       "      <td>Online</td>\n",
       "      <td>1 way Comprehensive Plan</td>\n",
       "      <td>2</td>\n",
       "      <td>SINGAPORE</td>\n",
       "      <td>20.0</td>\n",
       "      <td>0.00</td>\n",
       "      <td>36</td>\n",
       "      <td>Age 34-36</td>\n",
       "    </tr>\n",
       "    <tr>\n",
       "      <th>2</th>\n",
       "      <td>14139</td>\n",
       "      <td>C2B</td>\n",
       "      <td>Airlines</td>\n",
       "      <td>Online</td>\n",
       "      <td>Bronze Plan</td>\n",
       "      <td>13</td>\n",
       "      <td>SINGAPORE</td>\n",
       "      <td>13.5</td>\n",
       "      <td>3.38</td>\n",
       "      <td>24</td>\n",
       "      <td>Age &lt;34</td>\n",
       "    </tr>\n",
       "    <tr>\n",
       "      <th>3</th>\n",
       "      <td>19754</td>\n",
       "      <td>EPX</td>\n",
       "      <td>Travel Agency</td>\n",
       "      <td>Online</td>\n",
       "      <td>2 way Comprehensive Plan</td>\n",
       "      <td>133</td>\n",
       "      <td>TAIWAN, PROVINCE OF CHINA</td>\n",
       "      <td>41.0</td>\n",
       "      <td>0.00</td>\n",
       "      <td>36</td>\n",
       "      <td>Age 34-36</td>\n",
       "    </tr>\n",
       "    <tr>\n",
       "      <th>4</th>\n",
       "      <td>16439</td>\n",
       "      <td>C2B</td>\n",
       "      <td>Airlines</td>\n",
       "      <td>Online</td>\n",
       "      <td>Silver Plan</td>\n",
       "      <td>2</td>\n",
       "      <td>SINGAPORE</td>\n",
       "      <td>30.0</td>\n",
       "      <td>7.50</td>\n",
       "      <td>32</td>\n",
       "      <td>Age &lt;34</td>\n",
       "    </tr>\n",
       "  </tbody>\n",
       "</table>\n",
       "</div>"
      ],
      "text/plain": [
       "      ID Agency    Agency Type  ... Commision (in value) Age   Age_band\n",
       "0  17631    EPX  Travel Agency  ...                 0.00  36  Age 34-36\n",
       "1  15064    EPX  Travel Agency  ...                 0.00  36  Age 34-36\n",
       "2  14139    C2B       Airlines  ...                 3.38  24    Age <34\n",
       "3  19754    EPX  Travel Agency  ...                 0.00  36  Age 34-36\n",
       "4  16439    C2B       Airlines  ...                 7.50  32    Age <34\n",
       "\n",
       "[5 rows x 11 columns]"
      ]
     },
     "execution_count": 21,
     "metadata": {
      "tags": []
     },
     "output_type": "execute_result"
    }
   ],
   "source": [
    "df_test['Age_band'] = pd.qcut(df_test.Age, q=4, labels=['Age <34', 'Age 34-36','Age 36-43', 'Age <43']) \n",
    "df_test.head()"
   ]
  },
  {
   "cell_type": "code",
   "execution_count": 22,
   "metadata": {
    "colab": {
     "base_uri": "https://localhost:8080/",
     "height": 102
    },
    "colab_type": "code",
    "id": "3Xke4O7adQ-e",
    "outputId": "5ea0756e-e8c9-4405-9521-2d1dfba3195c"
   },
   "outputs": [
    {
     "data": {
      "text/plain": [
       "Age 34-36    8630\n",
       "Age <34      5896\n",
       "Age <43      5605\n",
       "Age 36-43    2290\n",
       "Name: Age_band, dtype: int64"
      ]
     },
     "execution_count": 22,
     "metadata": {
      "tags": []
     },
     "output_type": "execute_result"
    }
   ],
   "source": [
    "df_test['Age_band'].value_counts()"
   ]
  },
  {
   "cell_type": "markdown",
   "metadata": {
    "colab_type": "text",
    "id": "fzlluJ4CECvf"
   },
   "source": [
    "In the above two cells, we created a column as Age_Band and insterted values based on classification in AGe column\n",
    "\n",
    "Lets check the claim numbers based these age bands we created"
   ]
  },
  {
   "cell_type": "code",
   "execution_count": 23,
   "metadata": {
    "colab": {
     "base_uri": "https://localhost:8080/",
     "height": 519
    },
    "colab_type": "code",
    "id": "74BlYvQ_C2OA",
    "outputId": "8cff86ee-7ae3-4a05-8cc2-96a630f638e0"
   },
   "outputs": [
    {
     "data": {
      "text/plain": [
       "<matplotlib.axes._subplots.AxesSubplot at 0x7fa61e227278>"
      ]
     },
     "execution_count": 23,
     "metadata": {
      "tags": []
     },
     "output_type": "execute_result"
    },
    {
     "data": {
      "image/png": "[encoded data removed]",
      "text/plain": [
       "<Figure size 864x576 with 1 Axes>"
      ]
     },
     "metadata": {
      "tags": []
     },
     "output_type": "display_data"
    }
   ],
   "source": [
    "fig_dims = (12, 8)\n",
    "fig, ax = plt.subplots(figsize=fig_dims)\n",
    "sns.set(style=\"darkgrid\")\n",
    "sns.countplot(x = 'Age_band', hue = 'Claim', data = df_train, ax = ax)"
   ]
  },
  {
   "cell_type": "markdown",
   "metadata": {
    "colab_type": "text",
    "id": "jEfRIz55EOSE"
   },
   "source": [
    "The plot shows the highest claims ratio is among 36-43 age group"
   ]
  },
  {
   "cell_type": "code",
   "execution_count": 24,
   "metadata": {
    "colab": {
     "base_uri": "https://localhost:8080/",
     "height": 221
    },
    "colab_type": "code",
    "id": "gYJSmiT1r_5e",
    "outputId": "de5fb3ed-da19-428a-9498-cfe4cd806c21"
   },
   "outputs": [
    {
     "data": {
      "text/plain": [
       "0    (57.0, 4881.0]\n",
       "1    (-2.001, 10.0]\n",
       "2      (24.0, 57.0]\n",
       "3      (10.0, 24.0]\n",
       "4      (10.0, 24.0]\n",
       "5    (-2.001, 10.0]\n",
       "6    (57.0, 4881.0]\n",
       "7      (24.0, 57.0]\n",
       "8      (10.0, 24.0]\n",
       "9    (-2.001, 10.0]\n",
       "Name: Duration, dtype: category\n",
       "Categories (4, interval[float64]): [(-2.001, 10.0] < (10.0, 24.0] < (24.0, 57.0] < (57.0, 4881.0]]"
      ]
     },
     "execution_count": 24,
     "metadata": {
      "tags": []
     },
     "output_type": "execute_result"
    }
   ],
   "source": [
    "pd.qcut(df_train['Duration'], q =4).head(10)"
   ]
  },
  {
   "cell_type": "code",
   "execution_count": 25,
   "metadata": {
    "colab": {
     "base_uri": "https://localhost:8080/",
     "height": 306
    },
    "colab_type": "code",
    "id": "2OYRwgGKsr2c",
    "outputId": "b7a43743-0c36-4f69-b72f-590caeba4d56"
   },
   "outputs": [
    {
     "data": {
      "text/html": [
       "<div>\n",
       "<style scoped>\n",
       "    .dataframe tbody tr th:only-of-type {\n",
       "        vertical-align: middle;\n",
       "    }\n",
       "\n",
       "    .dataframe tbody tr th {\n",
       "        vertical-align: top;\n",
       "    }\n",
       "\n",
       "    .dataframe thead th {\n",
       "        text-align: right;\n",
       "    }\n",
       "</style>\n",
       "<table border=\"1\" class=\"dataframe\">\n",
       "  <thead>\n",
       "    <tr style=\"text-align: right;\">\n",
       "      <th></th>\n",
       "      <th>ID</th>\n",
       "      <th>Agency</th>\n",
       "      <th>Agency Type</th>\n",
       "      <th>Distribution Channel</th>\n",
       "      <th>Product Name</th>\n",
       "      <th>Duration</th>\n",
       "      <th>Destination</th>\n",
       "      <th>Net Sales</th>\n",
       "      <th>Commision (in value)</th>\n",
       "      <th>Age</th>\n",
       "      <th>Claim</th>\n",
       "      <th>Age_band</th>\n",
       "      <th>Duration_interval</th>\n",
       "    </tr>\n",
       "  </thead>\n",
       "  <tbody>\n",
       "    <tr>\n",
       "      <th>0</th>\n",
       "      <td>2010</td>\n",
       "      <td>EPX</td>\n",
       "      <td>Travel Agency</td>\n",
       "      <td>Online</td>\n",
       "      <td>Cancellation Plan</td>\n",
       "      <td>61</td>\n",
       "      <td>PHILIPPINES</td>\n",
       "      <td>12.0</td>\n",
       "      <td>0.00</td>\n",
       "      <td>41</td>\n",
       "      <td>0</td>\n",
       "      <td>Age 36-43</td>\n",
       "      <td>Duration &lt;57</td>\n",
       "    </tr>\n",
       "    <tr>\n",
       "      <th>1</th>\n",
       "      <td>4245</td>\n",
       "      <td>EPX</td>\n",
       "      <td>Travel Agency</td>\n",
       "      <td>Online</td>\n",
       "      <td>Cancellation Plan</td>\n",
       "      <td>4</td>\n",
       "      <td>MALAYSIA</td>\n",
       "      <td>17.0</td>\n",
       "      <td>0.00</td>\n",
       "      <td>35</td>\n",
       "      <td>0</td>\n",
       "      <td>Age 33-36</td>\n",
       "      <td>Duration &lt;10</td>\n",
       "    </tr>\n",
       "    <tr>\n",
       "      <th>2</th>\n",
       "      <td>9251</td>\n",
       "      <td>CWT</td>\n",
       "      <td>Travel Agency</td>\n",
       "      <td>Online</td>\n",
       "      <td>Rental Vehicle Excess Insurance</td>\n",
       "      <td>26</td>\n",
       "      <td>THAILAND</td>\n",
       "      <td>19.8</td>\n",
       "      <td>11.88</td>\n",
       "      <td>47</td>\n",
       "      <td>0</td>\n",
       "      <td>Age &lt;43</td>\n",
       "      <td>Duration 24-57</td>\n",
       "    </tr>\n",
       "    <tr>\n",
       "      <th>3</th>\n",
       "      <td>4754</td>\n",
       "      <td>EPX</td>\n",
       "      <td>Travel Agency</td>\n",
       "      <td>Online</td>\n",
       "      <td>2 way Comprehensive Plan</td>\n",
       "      <td>15</td>\n",
       "      <td>HONG KONG</td>\n",
       "      <td>27.0</td>\n",
       "      <td>0.00</td>\n",
       "      <td>48</td>\n",
       "      <td>0</td>\n",
       "      <td>Age &lt;43</td>\n",
       "      <td>Duration 10-24</td>\n",
       "    </tr>\n",
       "    <tr>\n",
       "      <th>4</th>\n",
       "      <td>8840</td>\n",
       "      <td>EPX</td>\n",
       "      <td>Travel Agency</td>\n",
       "      <td>Online</td>\n",
       "      <td>2 way Comprehensive Plan</td>\n",
       "      <td>15</td>\n",
       "      <td>MALAYSIA</td>\n",
       "      <td>37.0</td>\n",
       "      <td>0.00</td>\n",
       "      <td>36</td>\n",
       "      <td>0</td>\n",
       "      <td>Age 33-36</td>\n",
       "      <td>Duration 10-24</td>\n",
       "    </tr>\n",
       "  </tbody>\n",
       "</table>\n",
       "</div>"
      ],
      "text/plain": [
       "     ID Agency    Agency Type  ... Claim   Age_band  Duration_interval\n",
       "0  2010    EPX  Travel Agency  ...     0  Age 36-43       Duration <57\n",
       "1  4245    EPX  Travel Agency  ...     0  Age 33-36       Duration <10\n",
       "2  9251    CWT  Travel Agency  ...     0    Age <43     Duration 24-57\n",
       "3  4754    EPX  Travel Agency  ...     0    Age <43     Duration 10-24\n",
       "4  8840    EPX  Travel Agency  ...     0  Age 33-36     Duration 10-24\n",
       "\n",
       "[5 rows x 13 columns]"
      ]
     },
     "execution_count": 25,
     "metadata": {
      "tags": []
     },
     "output_type": "execute_result"
    }
   ],
   "source": [
    "df_train['Duration_interval'] = pd.qcut(df_train.Duration, q=4, labels=['Duration <10', 'Duration 10-24','Duration 24-57', 'Duration <57']) \n",
    "df_train.head()"
   ]
  },
  {
   "cell_type": "code",
   "execution_count": 26,
   "metadata": {
    "colab": {
     "base_uri": "https://localhost:8080/",
     "height": 102
    },
    "colab_type": "code",
    "id": "tT8oczDztGnq",
    "outputId": "6d9a38b3-13f4-4a19-ac59-985d04128762"
   },
   "outputs": [
    {
     "data": {
      "text/plain": [
       "Duration <10      13659\n",
       "Duration <57      13059\n",
       "Duration 24-57    12800\n",
       "Duration 10-24    12792\n",
       "Name: Duration_interval, dtype: int64"
      ]
     },
     "execution_count": 26,
     "metadata": {
      "tags": []
     },
     "output_type": "execute_result"
    }
   ],
   "source": [
    "df_train['Duration_interval'].value_counts()"
   ]
  },
  {
   "cell_type": "code",
   "execution_count": 27,
   "metadata": {
    "colab": {
     "base_uri": "https://localhost:8080/",
     "height": 519
    },
    "colab_type": "code",
    "id": "RLVgz_RbJyqU",
    "outputId": "3c16b94d-951f-4ea9-df18-4662733cbe98"
   },
   "outputs": [
    {
     "data": {
      "text/plain": [
       "<matplotlib.axes._subplots.AxesSubplot at 0x7fa61e2beeb8>"
      ]
     },
     "execution_count": 27,
     "metadata": {
      "tags": []
     },
     "output_type": "execute_result"
    },
    {
     "data": {
      "image/png": "[encoded data removed]",
      "text/plain": [
       "<Figure size 864x576 with 1 Axes>"
      ]
     },
     "metadata": {
      "tags": []
     },
     "output_type": "display_data"
    }
   ],
   "source": [
    "fig_dims = (12, 8)\n",
    "fig, ax = plt.subplots(figsize=fig_dims)\n",
    "sns.set(style=\"darkgrid\")\n",
    "sns.countplot(x = 'Duration_interval', hue = 'Claim', data = df_train, ax = ax)"
   ]
  },
  {
   "cell_type": "markdown",
   "metadata": {
    "colab_type": "text",
    "id": "g7e-B8nN6B1I"
   },
   "source": [
    "The above chart shows positive or direct proportionality between duration and claims"
   ]
  },
  {
   "cell_type": "code",
   "execution_count": 28,
   "metadata": {
    "colab": {
     "base_uri": "https://localhost:8080/",
     "height": 272
    },
    "colab_type": "code",
    "id": "1f3oEtuCuxxU",
    "outputId": "9594381b-0982-480b-8a34-1ec20edb7340"
   },
   "outputs": [
    {
     "data": {
      "text/html": [
       "<div>\n",
       "<style scoped>\n",
       "    .dataframe tbody tr th:only-of-type {\n",
       "        vertical-align: middle;\n",
       "    }\n",
       "\n",
       "    .dataframe tbody tr th {\n",
       "        vertical-align: top;\n",
       "    }\n",
       "\n",
       "    .dataframe thead th {\n",
       "        text-align: right;\n",
       "    }\n",
       "</style>\n",
       "<table border=\"1\" class=\"dataframe\">\n",
       "  <thead>\n",
       "    <tr style=\"text-align: right;\">\n",
       "      <th></th>\n",
       "      <th>ID</th>\n",
       "      <th>Agency</th>\n",
       "      <th>Agency Type</th>\n",
       "      <th>Distribution Channel</th>\n",
       "      <th>Product Name</th>\n",
       "      <th>Duration</th>\n",
       "      <th>Destination</th>\n",
       "      <th>Net Sales</th>\n",
       "      <th>Commision (in value)</th>\n",
       "      <th>Age</th>\n",
       "      <th>Age_band</th>\n",
       "      <th>Duration_interval</th>\n",
       "    </tr>\n",
       "  </thead>\n",
       "  <tbody>\n",
       "    <tr>\n",
       "      <th>0</th>\n",
       "      <td>17631</td>\n",
       "      <td>EPX</td>\n",
       "      <td>Travel Agency</td>\n",
       "      <td>Online</td>\n",
       "      <td>Cancellation Plan</td>\n",
       "      <td>192</td>\n",
       "      <td>HONG KONG</td>\n",
       "      <td>18.0</td>\n",
       "      <td>0.00</td>\n",
       "      <td>36</td>\n",
       "      <td>Age 34-36</td>\n",
       "      <td>Duration &lt;57</td>\n",
       "    </tr>\n",
       "    <tr>\n",
       "      <th>1</th>\n",
       "      <td>15064</td>\n",
       "      <td>EPX</td>\n",
       "      <td>Travel Agency</td>\n",
       "      <td>Online</td>\n",
       "      <td>1 way Comprehensive Plan</td>\n",
       "      <td>2</td>\n",
       "      <td>SINGAPORE</td>\n",
       "      <td>20.0</td>\n",
       "      <td>0.00</td>\n",
       "      <td>36</td>\n",
       "      <td>Age 34-36</td>\n",
       "      <td>Duration &lt;10</td>\n",
       "    </tr>\n",
       "    <tr>\n",
       "      <th>2</th>\n",
       "      <td>14139</td>\n",
       "      <td>C2B</td>\n",
       "      <td>Airlines</td>\n",
       "      <td>Online</td>\n",
       "      <td>Bronze Plan</td>\n",
       "      <td>13</td>\n",
       "      <td>SINGAPORE</td>\n",
       "      <td>13.5</td>\n",
       "      <td>3.38</td>\n",
       "      <td>24</td>\n",
       "      <td>Age &lt;34</td>\n",
       "      <td>Duration 10-24</td>\n",
       "    </tr>\n",
       "    <tr>\n",
       "      <th>3</th>\n",
       "      <td>19754</td>\n",
       "      <td>EPX</td>\n",
       "      <td>Travel Agency</td>\n",
       "      <td>Online</td>\n",
       "      <td>2 way Comprehensive Plan</td>\n",
       "      <td>133</td>\n",
       "      <td>TAIWAN, PROVINCE OF CHINA</td>\n",
       "      <td>41.0</td>\n",
       "      <td>0.00</td>\n",
       "      <td>36</td>\n",
       "      <td>Age 34-36</td>\n",
       "      <td>Duration &lt;57</td>\n",
       "    </tr>\n",
       "    <tr>\n",
       "      <th>4</th>\n",
       "      <td>16439</td>\n",
       "      <td>C2B</td>\n",
       "      <td>Airlines</td>\n",
       "      <td>Online</td>\n",
       "      <td>Silver Plan</td>\n",
       "      <td>2</td>\n",
       "      <td>SINGAPORE</td>\n",
       "      <td>30.0</td>\n",
       "      <td>7.50</td>\n",
       "      <td>32</td>\n",
       "      <td>Age &lt;34</td>\n",
       "      <td>Duration &lt;10</td>\n",
       "    </tr>\n",
       "  </tbody>\n",
       "</table>\n",
       "</div>"
      ],
      "text/plain": [
       "      ID Agency    Agency Type  ... Age   Age_band  Duration_interval\n",
       "0  17631    EPX  Travel Agency  ...  36  Age 34-36       Duration <57\n",
       "1  15064    EPX  Travel Agency  ...  36  Age 34-36       Duration <10\n",
       "2  14139    C2B       Airlines  ...  24    Age <34     Duration 10-24\n",
       "3  19754    EPX  Travel Agency  ...  36  Age 34-36       Duration <57\n",
       "4  16439    C2B       Airlines  ...  32    Age <34       Duration <10\n",
       "\n",
       "[5 rows x 12 columns]"
      ]
     },
     "execution_count": 28,
     "metadata": {
      "tags": []
     },
     "output_type": "execute_result"
    }
   ],
   "source": [
    "pd.qcut(df_test['Duration'], q =4).head(10)\n",
    "df_test['Duration_interval'] = pd.qcut(df_test.Duration, q=4, labels=['Duration <10', 'Duration 10-24','Duration 24-57', 'Duration <57']) \n",
    "df_test.head()"
   ]
  },
  {
   "cell_type": "code",
   "execution_count": 29,
   "metadata": {
    "colab": {
     "base_uri": "https://localhost:8080/",
     "height": 102
    },
    "colab_type": "code",
    "id": "WLJVn1DPu7sL",
    "outputId": "77891057-7622-4ae0-f413-1ab3d637dca9"
   },
   "outputs": [
    {
     "data": {
      "text/plain": [
       "Duration <10      5849\n",
       "Duration 24-57    5532\n",
       "Duration <57      5524\n",
       "Duration 10-24    5516\n",
       "Name: Duration_interval, dtype: int64"
      ]
     },
     "execution_count": 29,
     "metadata": {
      "tags": []
     },
     "output_type": "execute_result"
    }
   ],
   "source": [
    "df_test['Duration_interval'].value_counts()"
   ]
  },
  {
   "cell_type": "markdown",
   "metadata": {
    "colab_type": "text",
    "id": "4_BiGc5n6XNq"
   },
   "source": [
    "Renaming a few columns for easier interpretation"
   ]
  },
  {
   "cell_type": "code",
   "execution_count": 30,
   "metadata": {
    "colab": {},
    "colab_type": "code",
    "id": "MpeIOJiNtRNh"
   },
   "outputs": [],
   "source": [
    "df_train = df_train.rename({'Commision (in value)' : 'Comission'}, axis = 'columns')\n",
    "df_test = df_test.rename({'Commision (in value)' : 'Comission'}, axis = 'columns')\n",
    "df_train = df_train.rename({'Net Sales' : 'Net_Sales'}, axis = 'columns')\n",
    "df_test = df_test.rename({'Net Sales' : 'Net_Sales'}, axis = 'columns')\n",
    "df_train = df_train.rename({'Product Name' : 'Product'}, axis = 'columns')\n",
    "df_test = df_test.rename({'Product Name' : 'Product'}, axis = 'columns')\n",
    "df_train = df_train.rename({'Distribution Channel' : 'Channel'}, axis = 'columns')\n",
    "df_test = df_test.rename({'Distribution Channel' : 'Channel'}, axis = 'columns')"
   ]
  },
  {
   "cell_type": "code",
   "execution_count": 31,
   "metadata": {
    "colab": {
     "base_uri": "https://localhost:8080/",
     "height": 204
    },
    "colab_type": "code",
    "id": "yFuMLu60FFmO",
    "outputId": "f6642bdf-a556-4eae-c536-99f41381c134"
   },
   "outputs": [
    {
     "data": {
      "text/html": [
       "<div>\n",
       "<style scoped>\n",
       "    .dataframe tbody tr th:only-of-type {\n",
       "        vertical-align: middle;\n",
       "    }\n",
       "\n",
       "    .dataframe tbody tr th {\n",
       "        vertical-align: top;\n",
       "    }\n",
       "\n",
       "    .dataframe thead th {\n",
       "        text-align: right;\n",
       "    }\n",
       "</style>\n",
       "<table border=\"1\" class=\"dataframe\">\n",
       "  <thead>\n",
       "    <tr style=\"text-align: right;\">\n",
       "      <th></th>\n",
       "      <th>ID</th>\n",
       "      <th>Agency</th>\n",
       "      <th>Agency Type</th>\n",
       "      <th>Channel</th>\n",
       "      <th>Product</th>\n",
       "      <th>Duration</th>\n",
       "      <th>Destination</th>\n",
       "      <th>Net_Sales</th>\n",
       "      <th>Comission</th>\n",
       "      <th>Age</th>\n",
       "      <th>Claim</th>\n",
       "      <th>Age_band</th>\n",
       "      <th>Duration_interval</th>\n",
       "    </tr>\n",
       "  </thead>\n",
       "  <tbody>\n",
       "    <tr>\n",
       "      <th>0</th>\n",
       "      <td>2010</td>\n",
       "      <td>EPX</td>\n",
       "      <td>Travel Agency</td>\n",
       "      <td>Online</td>\n",
       "      <td>Cancellation Plan</td>\n",
       "      <td>61</td>\n",
       "      <td>PHILIPPINES</td>\n",
       "      <td>12.0</td>\n",
       "      <td>0.00</td>\n",
       "      <td>41</td>\n",
       "      <td>0</td>\n",
       "      <td>Age 36-43</td>\n",
       "      <td>Duration &lt;57</td>\n",
       "    </tr>\n",
       "    <tr>\n",
       "      <th>1</th>\n",
       "      <td>4245</td>\n",
       "      <td>EPX</td>\n",
       "      <td>Travel Agency</td>\n",
       "      <td>Online</td>\n",
       "      <td>Cancellation Plan</td>\n",
       "      <td>4</td>\n",
       "      <td>MALAYSIA</td>\n",
       "      <td>17.0</td>\n",
       "      <td>0.00</td>\n",
       "      <td>35</td>\n",
       "      <td>0</td>\n",
       "      <td>Age 33-36</td>\n",
       "      <td>Duration &lt;10</td>\n",
       "    </tr>\n",
       "    <tr>\n",
       "      <th>2</th>\n",
       "      <td>9251</td>\n",
       "      <td>CWT</td>\n",
       "      <td>Travel Agency</td>\n",
       "      <td>Online</td>\n",
       "      <td>Rental Vehicle Excess Insurance</td>\n",
       "      <td>26</td>\n",
       "      <td>THAILAND</td>\n",
       "      <td>19.8</td>\n",
       "      <td>11.88</td>\n",
       "      <td>47</td>\n",
       "      <td>0</td>\n",
       "      <td>Age &lt;43</td>\n",
       "      <td>Duration 24-57</td>\n",
       "    </tr>\n",
       "    <tr>\n",
       "      <th>3</th>\n",
       "      <td>4754</td>\n",
       "      <td>EPX</td>\n",
       "      <td>Travel Agency</td>\n",
       "      <td>Online</td>\n",
       "      <td>2 way Comprehensive Plan</td>\n",
       "      <td>15</td>\n",
       "      <td>HONG KONG</td>\n",
       "      <td>27.0</td>\n",
       "      <td>0.00</td>\n",
       "      <td>48</td>\n",
       "      <td>0</td>\n",
       "      <td>Age &lt;43</td>\n",
       "      <td>Duration 10-24</td>\n",
       "    </tr>\n",
       "    <tr>\n",
       "      <th>4</th>\n",
       "      <td>8840</td>\n",
       "      <td>EPX</td>\n",
       "      <td>Travel Agency</td>\n",
       "      <td>Online</td>\n",
       "      <td>2 way Comprehensive Plan</td>\n",
       "      <td>15</td>\n",
       "      <td>MALAYSIA</td>\n",
       "      <td>37.0</td>\n",
       "      <td>0.00</td>\n",
       "      <td>36</td>\n",
       "      <td>0</td>\n",
       "      <td>Age 33-36</td>\n",
       "      <td>Duration 10-24</td>\n",
       "    </tr>\n",
       "  </tbody>\n",
       "</table>\n",
       "</div>"
      ],
      "text/plain": [
       "     ID Agency    Agency Type Channel  ... Age  Claim   Age_band  Duration_interval\n",
       "0  2010    EPX  Travel Agency  Online  ...  41      0  Age 36-43       Duration <57\n",
       "1  4245    EPX  Travel Agency  Online  ...  35      0  Age 33-36       Duration <10\n",
       "2  9251    CWT  Travel Agency  Online  ...  47      0    Age <43     Duration 24-57\n",
       "3  4754    EPX  Travel Agency  Online  ...  48      0    Age <43     Duration 10-24\n",
       "4  8840    EPX  Travel Agency  Online  ...  36      0  Age 33-36     Duration 10-24\n",
       "\n",
       "[5 rows x 13 columns]"
      ]
     },
     "execution_count": 31,
     "metadata": {
      "tags": []
     },
     "output_type": "execute_result"
    }
   ],
   "source": [
    "df_train.head()"
   ]
  },
  {
   "cell_type": "code",
   "execution_count": 32,
   "metadata": {
    "colab": {
     "base_uri": "https://localhost:8080/",
     "height": 221
    },
    "colab_type": "code",
    "id": "81snEPhIHOoK",
    "outputId": "645fecc5-b904-4b4c-da79-8d3f070b15d0"
   },
   "outputs": [
    {
     "data": {
      "text/plain": [
       "0    (-389.001, 19.8]\n",
       "1    (-389.001, 19.8]\n",
       "2    (-389.001, 19.8]\n",
       "3        (19.8, 29.5]\n",
       "4        (29.5, 55.0]\n",
       "5        (19.8, 29.5]\n",
       "6       (55.0, 682.0]\n",
       "7        (19.8, 29.5]\n",
       "8        (29.5, 55.0]\n",
       "9        (19.8, 29.5]\n",
       "Name: Net_Sales, dtype: category\n",
       "Categories (4, interval[float64]): [(-389.001, 19.8] < (19.8, 29.5] < (29.5, 55.0] < (55.0, 682.0]]"
      ]
     },
     "execution_count": 32,
     "metadata": {
      "tags": []
     },
     "output_type": "execute_result"
    }
   ],
   "source": [
    "pd.qcut(df_train['Net_Sales'], q =4).head(10)\n"
   ]
  },
  {
   "cell_type": "code",
   "execution_count": 33,
   "metadata": {
    "colab": {
     "base_uri": "https://localhost:8080/",
     "height": 306
    },
    "colab_type": "code",
    "id": "2mABdXkZHPfK",
    "outputId": "4eb9d636-3e67-4d24-ca66-74365e7069b5"
   },
   "outputs": [
    {
     "data": {
      "text/html": [
       "<div>\n",
       "<style scoped>\n",
       "    .dataframe tbody tr th:only-of-type {\n",
       "        vertical-align: middle;\n",
       "    }\n",
       "\n",
       "    .dataframe tbody tr th {\n",
       "        vertical-align: top;\n",
       "    }\n",
       "\n",
       "    .dataframe thead th {\n",
       "        text-align: right;\n",
       "    }\n",
       "</style>\n",
       "<table border=\"1\" class=\"dataframe\">\n",
       "  <thead>\n",
       "    <tr style=\"text-align: right;\">\n",
       "      <th></th>\n",
       "      <th>ID</th>\n",
       "      <th>Agency</th>\n",
       "      <th>Agency Type</th>\n",
       "      <th>Channel</th>\n",
       "      <th>Product</th>\n",
       "      <th>Duration</th>\n",
       "      <th>Destination</th>\n",
       "      <th>Net_Sales</th>\n",
       "      <th>Comission</th>\n",
       "      <th>Age</th>\n",
       "      <th>Claim</th>\n",
       "      <th>Age_band</th>\n",
       "      <th>Duration_interval</th>\n",
       "      <th>Net_Sales_Interval</th>\n",
       "    </tr>\n",
       "  </thead>\n",
       "  <tbody>\n",
       "    <tr>\n",
       "      <th>0</th>\n",
       "      <td>2010</td>\n",
       "      <td>EPX</td>\n",
       "      <td>Travel Agency</td>\n",
       "      <td>Online</td>\n",
       "      <td>Cancellation Plan</td>\n",
       "      <td>61</td>\n",
       "      <td>PHILIPPINES</td>\n",
       "      <td>12.0</td>\n",
       "      <td>0.00</td>\n",
       "      <td>41</td>\n",
       "      <td>0</td>\n",
       "      <td>Age 36-43</td>\n",
       "      <td>Duration &lt;57</td>\n",
       "      <td>Sales &lt;20</td>\n",
       "    </tr>\n",
       "    <tr>\n",
       "      <th>1</th>\n",
       "      <td>4245</td>\n",
       "      <td>EPX</td>\n",
       "      <td>Travel Agency</td>\n",
       "      <td>Online</td>\n",
       "      <td>Cancellation Plan</td>\n",
       "      <td>4</td>\n",
       "      <td>MALAYSIA</td>\n",
       "      <td>17.0</td>\n",
       "      <td>0.00</td>\n",
       "      <td>35</td>\n",
       "      <td>0</td>\n",
       "      <td>Age 33-36</td>\n",
       "      <td>Duration &lt;10</td>\n",
       "      <td>Sales &lt;20</td>\n",
       "    </tr>\n",
       "    <tr>\n",
       "      <th>2</th>\n",
       "      <td>9251</td>\n",
       "      <td>CWT</td>\n",
       "      <td>Travel Agency</td>\n",
       "      <td>Online</td>\n",
       "      <td>Rental Vehicle Excess Insurance</td>\n",
       "      <td>26</td>\n",
       "      <td>THAILAND</td>\n",
       "      <td>19.8</td>\n",
       "      <td>11.88</td>\n",
       "      <td>47</td>\n",
       "      <td>0</td>\n",
       "      <td>Age &lt;43</td>\n",
       "      <td>Duration 24-57</td>\n",
       "      <td>Sales &lt;20</td>\n",
       "    </tr>\n",
       "    <tr>\n",
       "      <th>3</th>\n",
       "      <td>4754</td>\n",
       "      <td>EPX</td>\n",
       "      <td>Travel Agency</td>\n",
       "      <td>Online</td>\n",
       "      <td>2 way Comprehensive Plan</td>\n",
       "      <td>15</td>\n",
       "      <td>HONG KONG</td>\n",
       "      <td>27.0</td>\n",
       "      <td>0.00</td>\n",
       "      <td>48</td>\n",
       "      <td>0</td>\n",
       "      <td>Age &lt;43</td>\n",
       "      <td>Duration 10-24</td>\n",
       "      <td>Sales 20-29</td>\n",
       "    </tr>\n",
       "    <tr>\n",
       "      <th>4</th>\n",
       "      <td>8840</td>\n",
       "      <td>EPX</td>\n",
       "      <td>Travel Agency</td>\n",
       "      <td>Online</td>\n",
       "      <td>2 way Comprehensive Plan</td>\n",
       "      <td>15</td>\n",
       "      <td>MALAYSIA</td>\n",
       "      <td>37.0</td>\n",
       "      <td>0.00</td>\n",
       "      <td>36</td>\n",
       "      <td>0</td>\n",
       "      <td>Age 33-36</td>\n",
       "      <td>Duration 10-24</td>\n",
       "      <td>Sales 30-55</td>\n",
       "    </tr>\n",
       "  </tbody>\n",
       "</table>\n",
       "</div>"
      ],
      "text/plain": [
       "     ID Agency    Agency Type  ...   Age_band Duration_interval  Net_Sales_Interval\n",
       "0  2010    EPX  Travel Agency  ...  Age 36-43      Duration <57           Sales <20\n",
       "1  4245    EPX  Travel Agency  ...  Age 33-36      Duration <10           Sales <20\n",
       "2  9251    CWT  Travel Agency  ...    Age <43    Duration 24-57           Sales <20\n",
       "3  4754    EPX  Travel Agency  ...    Age <43    Duration 10-24         Sales 20-29\n",
       "4  8840    EPX  Travel Agency  ...  Age 33-36    Duration 10-24         Sales 30-55\n",
       "\n",
       "[5 rows x 14 columns]"
      ]
     },
     "execution_count": 33,
     "metadata": {
      "tags": []
     },
     "output_type": "execute_result"
    }
   ],
   "source": [
    "df_train['Net_Sales_Interval'] = pd.qcut(df_train.Net_Sales, q=4, labels=['Sales <20', 'Sales 20-29','Sales 30-55', 'Sales <55']) \n",
    "df_train.head()"
   ]
  },
  {
   "cell_type": "code",
   "execution_count": 34,
   "metadata": {
    "colab": {
     "base_uri": "https://localhost:8080/",
     "height": 102
    },
    "colab_type": "code",
    "id": "7XvzXO2yHlt1",
    "outputId": "d8966949-934a-4bfd-fcad-6740509b443a"
   },
   "outputs": [
    {
     "data": {
      "text/plain": [
       "Sales <20      13193\n",
       "Sales <55      13061\n",
       "Sales 20-29    13059\n",
       "Sales 30-55    12997\n",
       "Name: Net_Sales_Interval, dtype: int64"
      ]
     },
     "execution_count": 34,
     "metadata": {
      "tags": []
     },
     "output_type": "execute_result"
    }
   ],
   "source": [
    "df_train['Net_Sales_Interval'].value_counts()"
   ]
  },
  {
   "cell_type": "code",
   "execution_count": 35,
   "metadata": {
    "colab": {
     "base_uri": "https://localhost:8080/",
     "height": 519
    },
    "colab_type": "code",
    "id": "GDQ0ocsSJ7Re",
    "outputId": "a20e702b-3184-4cfd-c6b5-30fc9edc074d"
   },
   "outputs": [
    {
     "data": {
      "text/plain": [
       "<matplotlib.axes._subplots.AxesSubplot at 0x7fa61e0d36a0>"
      ]
     },
     "execution_count": 35,
     "metadata": {
      "tags": []
     },
     "output_type": "execute_result"
    },
    {
     "data": {
      "image/png": "[encoded data removed]",
      "text/plain": [
       "<Figure size 864x576 with 1 Axes>"
      ]
     },
     "metadata": {
      "tags": []
     },
     "output_type": "display_data"
    }
   ],
   "source": [
    "fig_dims = (12, 8)\n",
    "fig, ax = plt.subplots(figsize=fig_dims)\n",
    "sns.set(style=\"darkgrid\")\n",
    "sns.countplot(x = 'Net_Sales_Interval', hue = 'Claim', data = df_train, ax = ax)"
   ]
  },
  {
   "cell_type": "markdown",
   "metadata": {
    "colab_type": "text",
    "id": "SdyagG6l6hEo"
   },
   "source": [
    "Again there is direct propotionaity between Sales and Claims"
   ]
  },
  {
   "cell_type": "code",
   "execution_count": 36,
   "metadata": {
    "colab": {
     "base_uri": "https://localhost:8080/",
     "height": 221
    },
    "colab_type": "code",
    "id": "8kmVIZykI1CN",
    "outputId": "b18ec0a5-ff2d-4718-ada9-1c18e128ec36"
   },
   "outputs": [
    {
     "data": {
      "text/plain": [
       "0    (-297.001, 19.8]\n",
       "1      (19.8, 29.519]\n",
       "2    (-297.001, 19.8]\n",
       "3      (29.519, 56.0]\n",
       "4      (29.519, 56.0]\n",
       "5    (-297.001, 19.8]\n",
       "6      (19.8, 29.519]\n",
       "7       (56.0, 810.0]\n",
       "8    (-297.001, 19.8]\n",
       "9      (29.519, 56.0]\n",
       "Name: Net_Sales, dtype: category\n",
       "Categories (4, interval[float64]): [(-297.001, 19.8] < (19.8, 29.519] < (29.519, 56.0] < (56.0, 810.0]]"
      ]
     },
     "execution_count": 36,
     "metadata": {
      "tags": []
     },
     "output_type": "execute_result"
    }
   ],
   "source": [
    "pd.qcut(df_test['Net_Sales'], q =4).head(10)\n"
   ]
  },
  {
   "cell_type": "code",
   "execution_count": 37,
   "metadata": {
    "colab": {
     "base_uri": "https://localhost:8080/",
     "height": 272
    },
    "colab_type": "code",
    "id": "LYedLdm7Jdgt",
    "outputId": "c840eb5c-d29d-49f4-da0b-8308edd8cfab"
   },
   "outputs": [
    {
     "data": {
      "text/html": [
       "<div>\n",
       "<style scoped>\n",
       "    .dataframe tbody tr th:only-of-type {\n",
       "        vertical-align: middle;\n",
       "    }\n",
       "\n",
       "    .dataframe tbody tr th {\n",
       "        vertical-align: top;\n",
       "    }\n",
       "\n",
       "    .dataframe thead th {\n",
       "        text-align: right;\n",
       "    }\n",
       "</style>\n",
       "<table border=\"1\" class=\"dataframe\">\n",
       "  <thead>\n",
       "    <tr style=\"text-align: right;\">\n",
       "      <th></th>\n",
       "      <th>ID</th>\n",
       "      <th>Agency</th>\n",
       "      <th>Agency Type</th>\n",
       "      <th>Channel</th>\n",
       "      <th>Product</th>\n",
       "      <th>Duration</th>\n",
       "      <th>Destination</th>\n",
       "      <th>Net_Sales</th>\n",
       "      <th>Comission</th>\n",
       "      <th>Age</th>\n",
       "      <th>Age_band</th>\n",
       "      <th>Duration_interval</th>\n",
       "      <th>Net_Sales_Interval</th>\n",
       "    </tr>\n",
       "  </thead>\n",
       "  <tbody>\n",
       "    <tr>\n",
       "      <th>0</th>\n",
       "      <td>17631</td>\n",
       "      <td>EPX</td>\n",
       "      <td>Travel Agency</td>\n",
       "      <td>Online</td>\n",
       "      <td>Cancellation Plan</td>\n",
       "      <td>192</td>\n",
       "      <td>HONG KONG</td>\n",
       "      <td>18.0</td>\n",
       "      <td>0.00</td>\n",
       "      <td>36</td>\n",
       "      <td>Age 34-36</td>\n",
       "      <td>Duration &lt;57</td>\n",
       "      <td>Sales &lt;20</td>\n",
       "    </tr>\n",
       "    <tr>\n",
       "      <th>1</th>\n",
       "      <td>15064</td>\n",
       "      <td>EPX</td>\n",
       "      <td>Travel Agency</td>\n",
       "      <td>Online</td>\n",
       "      <td>1 way Comprehensive Plan</td>\n",
       "      <td>2</td>\n",
       "      <td>SINGAPORE</td>\n",
       "      <td>20.0</td>\n",
       "      <td>0.00</td>\n",
       "      <td>36</td>\n",
       "      <td>Age 34-36</td>\n",
       "      <td>Duration &lt;10</td>\n",
       "      <td>Sales 20-29</td>\n",
       "    </tr>\n",
       "    <tr>\n",
       "      <th>2</th>\n",
       "      <td>14139</td>\n",
       "      <td>C2B</td>\n",
       "      <td>Airlines</td>\n",
       "      <td>Online</td>\n",
       "      <td>Bronze Plan</td>\n",
       "      <td>13</td>\n",
       "      <td>SINGAPORE</td>\n",
       "      <td>13.5</td>\n",
       "      <td>3.38</td>\n",
       "      <td>24</td>\n",
       "      <td>Age &lt;34</td>\n",
       "      <td>Duration 10-24</td>\n",
       "      <td>Sales &lt;20</td>\n",
       "    </tr>\n",
       "    <tr>\n",
       "      <th>3</th>\n",
       "      <td>19754</td>\n",
       "      <td>EPX</td>\n",
       "      <td>Travel Agency</td>\n",
       "      <td>Online</td>\n",
       "      <td>2 way Comprehensive Plan</td>\n",
       "      <td>133</td>\n",
       "      <td>TAIWAN, PROVINCE OF CHINA</td>\n",
       "      <td>41.0</td>\n",
       "      <td>0.00</td>\n",
       "      <td>36</td>\n",
       "      <td>Age 34-36</td>\n",
       "      <td>Duration &lt;57</td>\n",
       "      <td>Sales 30-56</td>\n",
       "    </tr>\n",
       "    <tr>\n",
       "      <th>4</th>\n",
       "      <td>16439</td>\n",
       "      <td>C2B</td>\n",
       "      <td>Airlines</td>\n",
       "      <td>Online</td>\n",
       "      <td>Silver Plan</td>\n",
       "      <td>2</td>\n",
       "      <td>SINGAPORE</td>\n",
       "      <td>30.0</td>\n",
       "      <td>7.50</td>\n",
       "      <td>32</td>\n",
       "      <td>Age &lt;34</td>\n",
       "      <td>Duration &lt;10</td>\n",
       "      <td>Sales 30-56</td>\n",
       "    </tr>\n",
       "  </tbody>\n",
       "</table>\n",
       "</div>"
      ],
      "text/plain": [
       "      ID Agency    Agency Type  ...   Age_band Duration_interval  Net_Sales_Interval\n",
       "0  17631    EPX  Travel Agency  ...  Age 34-36      Duration <57           Sales <20\n",
       "1  15064    EPX  Travel Agency  ...  Age 34-36      Duration <10         Sales 20-29\n",
       "2  14139    C2B       Airlines  ...    Age <34    Duration 10-24           Sales <20\n",
       "3  19754    EPX  Travel Agency  ...  Age 34-36      Duration <57         Sales 30-56\n",
       "4  16439    C2B       Airlines  ...    Age <34      Duration <10         Sales 30-56\n",
       "\n",
       "[5 rows x 13 columns]"
      ]
     },
     "execution_count": 37,
     "metadata": {
      "tags": []
     },
     "output_type": "execute_result"
    }
   ],
   "source": [
    "df_test['Net_Sales_Interval'] = pd.qcut(df_test.Net_Sales, q=4, labels=['Sales <20', 'Sales 20-29','Sales 30-56', 'Sales <56']) \n",
    "df_test.head()"
   ]
  },
  {
   "cell_type": "code",
   "execution_count": 38,
   "metadata": {
    "colab": {
     "base_uri": "https://localhost:8080/",
     "height": 102
    },
    "colab_type": "code",
    "id": "3KzW0tppJg5T",
    "outputId": "04734278-f700-4f42-a4a1-7cc57b80b46d"
   },
   "outputs": [
    {
     "data": {
      "text/plain": [
       "Sales <20      5688\n",
       "Sales 30-56    5618\n",
       "Sales <56      5592\n",
       "Sales 20-29    5523\n",
       "Name: Net_Sales_Interval, dtype: int64"
      ]
     },
     "execution_count": 38,
     "metadata": {
      "tags": []
     },
     "output_type": "execute_result"
    }
   ],
   "source": [
    "df_test['Net_Sales_Interval'].value_counts()"
   ]
  },
  {
   "cell_type": "code",
   "execution_count": 39,
   "metadata": {
    "colab": {
     "base_uri": "https://localhost:8080/",
     "height": 85
    },
    "colab_type": "code",
    "id": "XCDUmJPfTAde",
    "outputId": "e6dd30d5-c120-4973-a149-d85db9d1d21c"
   },
   "outputs": [
    {
     "data": {
      "text/plain": [
       "No Comission          26260\n",
       "Low Comission(<26)    18455\n",
       "High Comission(>26     7595\n",
       "Name: Comission_band, dtype: int64"
      ]
     },
     "execution_count": 39,
     "metadata": {
      "tags": []
     },
     "output_type": "execute_result"
    }
   ],
   "source": [
    "df_train['Comission_band'] = 0\n",
    "df_train['Comission_band'] = df_train['Comission'].apply(lambda x: 'No Comission' if x<=0 else 'Low Comission(<26)' if 0<x<26 else 'High Comission(>26' ) \n",
    "df_train['Comission_band'].value_counts()"
   ]
  },
  {
   "cell_type": "code",
   "execution_count": 40,
   "metadata": {
    "colab": {
     "base_uri": "https://localhost:8080/",
     "height": 85
    },
    "colab_type": "code",
    "id": "xMQyunwrVF_a",
    "outputId": "ee868c3c-5158-40ab-f4e5-80e944efcc9e"
   },
   "outputs": [
    {
     "data": {
      "text/plain": [
       "No Comission          11279\n",
       "Low Comission(<26)     7829\n",
       "High Comission(>26     3313\n",
       "Name: Comission_band, dtype: int64"
      ]
     },
     "execution_count": 40,
     "metadata": {
      "tags": []
     },
     "output_type": "execute_result"
    }
   ],
   "source": [
    "df_test['Comission_band'] = 0\n",
    "df_test['Comission_band'] = df_test['Comission'].apply(lambda x: 'No Comission' if x<=0 else 'Low Comission(<26)' if 0<x<26 else 'High Comission(>26' ) \n",
    "df_test['Comission_band'].value_counts()"
   ]
  },
  {
   "cell_type": "code",
   "execution_count": 41,
   "metadata": {
    "colab": {
     "base_uri": "https://localhost:8080/",
     "height": 377
    },
    "colab_type": "code",
    "id": "1qnv__kETkj_",
    "outputId": "acad4c99-9b93-411d-e978-9c3786a5dfe5"
   },
   "outputs": [
    {
     "data": {
      "text/html": [
       "<div>\n",
       "<style scoped>\n",
       "    .dataframe tbody tr th:only-of-type {\n",
       "        vertical-align: middle;\n",
       "    }\n",
       "\n",
       "    .dataframe tbody tr th {\n",
       "        vertical-align: top;\n",
       "    }\n",
       "\n",
       "    .dataframe thead th {\n",
       "        text-align: right;\n",
       "    }\n",
       "</style>\n",
       "<table border=\"1\" class=\"dataframe\">\n",
       "  <thead>\n",
       "    <tr style=\"text-align: right;\">\n",
       "      <th></th>\n",
       "      <th>ID</th>\n",
       "      <th>Agency</th>\n",
       "      <th>Agency Type</th>\n",
       "      <th>Channel</th>\n",
       "      <th>Product</th>\n",
       "      <th>Duration</th>\n",
       "      <th>Destination</th>\n",
       "      <th>Net_Sales</th>\n",
       "      <th>Comission</th>\n",
       "      <th>Age</th>\n",
       "      <th>Claim</th>\n",
       "      <th>Age_band</th>\n",
       "      <th>Duration_interval</th>\n",
       "      <th>Net_Sales_Interval</th>\n",
       "      <th>Comission_band</th>\n",
       "    </tr>\n",
       "  </thead>\n",
       "  <tbody>\n",
       "    <tr>\n",
       "      <th>0</th>\n",
       "      <td>2010</td>\n",
       "      <td>EPX</td>\n",
       "      <td>Travel Agency</td>\n",
       "      <td>Online</td>\n",
       "      <td>Cancellation Plan</td>\n",
       "      <td>61</td>\n",
       "      <td>PHILIPPINES</td>\n",
       "      <td>12.0</td>\n",
       "      <td>0.00</td>\n",
       "      <td>41</td>\n",
       "      <td>0</td>\n",
       "      <td>Age 36-43</td>\n",
       "      <td>Duration &lt;57</td>\n",
       "      <td>Sales &lt;20</td>\n",
       "      <td>No Comission</td>\n",
       "    </tr>\n",
       "    <tr>\n",
       "      <th>1</th>\n",
       "      <td>4245</td>\n",
       "      <td>EPX</td>\n",
       "      <td>Travel Agency</td>\n",
       "      <td>Online</td>\n",
       "      <td>Cancellation Plan</td>\n",
       "      <td>4</td>\n",
       "      <td>MALAYSIA</td>\n",
       "      <td>17.0</td>\n",
       "      <td>0.00</td>\n",
       "      <td>35</td>\n",
       "      <td>0</td>\n",
       "      <td>Age 33-36</td>\n",
       "      <td>Duration &lt;10</td>\n",
       "      <td>Sales &lt;20</td>\n",
       "      <td>No Comission</td>\n",
       "    </tr>\n",
       "    <tr>\n",
       "      <th>2</th>\n",
       "      <td>9251</td>\n",
       "      <td>CWT</td>\n",
       "      <td>Travel Agency</td>\n",
       "      <td>Online</td>\n",
       "      <td>Rental Vehicle Excess Insurance</td>\n",
       "      <td>26</td>\n",
       "      <td>THAILAND</td>\n",
       "      <td>19.8</td>\n",
       "      <td>11.88</td>\n",
       "      <td>47</td>\n",
       "      <td>0</td>\n",
       "      <td>Age &lt;43</td>\n",
       "      <td>Duration 24-57</td>\n",
       "      <td>Sales &lt;20</td>\n",
       "      <td>Low Comission(&lt;26)</td>\n",
       "    </tr>\n",
       "    <tr>\n",
       "      <th>3</th>\n",
       "      <td>4754</td>\n",
       "      <td>EPX</td>\n",
       "      <td>Travel Agency</td>\n",
       "      <td>Online</td>\n",
       "      <td>2 way Comprehensive Plan</td>\n",
       "      <td>15</td>\n",
       "      <td>HONG KONG</td>\n",
       "      <td>27.0</td>\n",
       "      <td>0.00</td>\n",
       "      <td>48</td>\n",
       "      <td>0</td>\n",
       "      <td>Age &lt;43</td>\n",
       "      <td>Duration 10-24</td>\n",
       "      <td>Sales 20-29</td>\n",
       "      <td>No Comission</td>\n",
       "    </tr>\n",
       "    <tr>\n",
       "      <th>4</th>\n",
       "      <td>8840</td>\n",
       "      <td>EPX</td>\n",
       "      <td>Travel Agency</td>\n",
       "      <td>Online</td>\n",
       "      <td>2 way Comprehensive Plan</td>\n",
       "      <td>15</td>\n",
       "      <td>MALAYSIA</td>\n",
       "      <td>37.0</td>\n",
       "      <td>0.00</td>\n",
       "      <td>36</td>\n",
       "      <td>0</td>\n",
       "      <td>Age 33-36</td>\n",
       "      <td>Duration 10-24</td>\n",
       "      <td>Sales 30-55</td>\n",
       "      <td>No Comission</td>\n",
       "    </tr>\n",
       "  </tbody>\n",
       "</table>\n",
       "</div>"
      ],
      "text/plain": [
       "     ID Agency  ... Net_Sales_Interval      Comission_band\n",
       "0  2010    EPX  ...          Sales <20        No Comission\n",
       "1  4245    EPX  ...          Sales <20        No Comission\n",
       "2  9251    CWT  ...          Sales <20  Low Comission(<26)\n",
       "3  4754    EPX  ...        Sales 20-29        No Comission\n",
       "4  8840    EPX  ...        Sales 30-55        No Comission\n",
       "\n",
       "[5 rows x 15 columns]"
      ]
     },
     "execution_count": 41,
     "metadata": {
      "tags": []
     },
     "output_type": "execute_result"
    }
   ],
   "source": [
    "df_train.head()"
   ]
  },
  {
   "cell_type": "code",
   "execution_count": 42,
   "metadata": {
    "colab": {
     "base_uri": "https://localhost:8080/",
     "height": 519
    },
    "colab_type": "code",
    "id": "_0a1GUBuVBLu",
    "outputId": "60f85644-5ce9-432f-9835-ab1f381c65e7"
   },
   "outputs": [
    {
     "data": {
      "text/plain": [
       "<matplotlib.axes._subplots.AxesSubplot at 0x7fa61e0cd9b0>"
      ]
     },
     "execution_count": 42,
     "metadata": {
      "tags": []
     },
     "output_type": "execute_result"
    },
    {
     "data": {
      "image/png": "[encoded data removed]",
      "text/plain": [
       "<Figure size 864x576 with 1 Axes>"
      ]
     },
     "metadata": {
      "tags": []
     },
     "output_type": "display_data"
    }
   ],
   "source": [
    "fig_dims = (12, 8)\n",
    "fig, ax = plt.subplots(figsize=fig_dims)\n",
    "sns.set(style=\"darkgrid\")\n",
    "sns.countplot(x = 'Comission_band', hue = 'Claim', data = df_train, ax = ax)"
   ]
  },
  {
   "cell_type": "markdown",
   "metadata": {
    "colab_type": "text",
    "id": "DSCs8-SW6r-l"
   },
   "source": [
    "Low Comission i.e commision between 0-26 shows highest claim approvals"
   ]
  },
  {
   "cell_type": "markdown",
   "metadata": {
    "colab_type": "text",
    "id": "lDgG7E3y62U5"
   },
   "source": [
    "Since we have created separate columns for Sales, Duration, Comission and Age, dropping the original columns"
   ]
  },
  {
   "cell_type": "code",
   "execution_count": 43,
   "metadata": {
    "colab": {
     "base_uri": "https://localhost:8080/",
     "height": 204
    },
    "colab_type": "code",
    "id": "QAuGS_C5VUvy",
    "outputId": "9ad416df-ed30-4e73-a61f-26b5161cf633"
   },
   "outputs": [
    {
     "data": {
      "text/html": [
       "<div>\n",
       "<style scoped>\n",
       "    .dataframe tbody tr th:only-of-type {\n",
       "        vertical-align: middle;\n",
       "    }\n",
       "\n",
       "    .dataframe tbody tr th {\n",
       "        vertical-align: top;\n",
       "    }\n",
       "\n",
       "    .dataframe thead th {\n",
       "        text-align: right;\n",
       "    }\n",
       "</style>\n",
       "<table border=\"1\" class=\"dataframe\">\n",
       "  <thead>\n",
       "    <tr style=\"text-align: right;\">\n",
       "      <th></th>\n",
       "      <th>Agency</th>\n",
       "      <th>Agency Type</th>\n",
       "      <th>Channel</th>\n",
       "      <th>Product</th>\n",
       "      <th>Destination</th>\n",
       "      <th>Claim</th>\n",
       "      <th>Age_band</th>\n",
       "      <th>Duration_interval</th>\n",
       "      <th>Net_Sales_Interval</th>\n",
       "      <th>Comission_band</th>\n",
       "    </tr>\n",
       "  </thead>\n",
       "  <tbody>\n",
       "    <tr>\n",
       "      <th>0</th>\n",
       "      <td>EPX</td>\n",
       "      <td>Travel Agency</td>\n",
       "      <td>Online</td>\n",
       "      <td>Cancellation Plan</td>\n",
       "      <td>PHILIPPINES</td>\n",
       "      <td>0</td>\n",
       "      <td>Age 36-43</td>\n",
       "      <td>Duration &lt;57</td>\n",
       "      <td>Sales &lt;20</td>\n",
       "      <td>No Comission</td>\n",
       "    </tr>\n",
       "    <tr>\n",
       "      <th>1</th>\n",
       "      <td>EPX</td>\n",
       "      <td>Travel Agency</td>\n",
       "      <td>Online</td>\n",
       "      <td>Cancellation Plan</td>\n",
       "      <td>MALAYSIA</td>\n",
       "      <td>0</td>\n",
       "      <td>Age 33-36</td>\n",
       "      <td>Duration &lt;10</td>\n",
       "      <td>Sales &lt;20</td>\n",
       "      <td>No Comission</td>\n",
       "    </tr>\n",
       "    <tr>\n",
       "      <th>2</th>\n",
       "      <td>CWT</td>\n",
       "      <td>Travel Agency</td>\n",
       "      <td>Online</td>\n",
       "      <td>Rental Vehicle Excess Insurance</td>\n",
       "      <td>THAILAND</td>\n",
       "      <td>0</td>\n",
       "      <td>Age &lt;43</td>\n",
       "      <td>Duration 24-57</td>\n",
       "      <td>Sales &lt;20</td>\n",
       "      <td>Low Comission(&lt;26)</td>\n",
       "    </tr>\n",
       "    <tr>\n",
       "      <th>3</th>\n",
       "      <td>EPX</td>\n",
       "      <td>Travel Agency</td>\n",
       "      <td>Online</td>\n",
       "      <td>2 way Comprehensive Plan</td>\n",
       "      <td>HONG KONG</td>\n",
       "      <td>0</td>\n",
       "      <td>Age &lt;43</td>\n",
       "      <td>Duration 10-24</td>\n",
       "      <td>Sales 20-29</td>\n",
       "      <td>No Comission</td>\n",
       "    </tr>\n",
       "    <tr>\n",
       "      <th>4</th>\n",
       "      <td>EPX</td>\n",
       "      <td>Travel Agency</td>\n",
       "      <td>Online</td>\n",
       "      <td>2 way Comprehensive Plan</td>\n",
       "      <td>MALAYSIA</td>\n",
       "      <td>0</td>\n",
       "      <td>Age 33-36</td>\n",
       "      <td>Duration 10-24</td>\n",
       "      <td>Sales 30-55</td>\n",
       "      <td>No Comission</td>\n",
       "    </tr>\n",
       "  </tbody>\n",
       "</table>\n",
       "</div>"
      ],
      "text/plain": [
       "  Agency    Agency Type  ... Net_Sales_Interval      Comission_band\n",
       "0    EPX  Travel Agency  ...          Sales <20        No Comission\n",
       "1    EPX  Travel Agency  ...          Sales <20        No Comission\n",
       "2    CWT  Travel Agency  ...          Sales <20  Low Comission(<26)\n",
       "3    EPX  Travel Agency  ...        Sales 20-29        No Comission\n",
       "4    EPX  Travel Agency  ...        Sales 30-55        No Comission\n",
       "\n",
       "[5 rows x 10 columns]"
      ]
     },
     "execution_count": 43,
     "metadata": {
      "tags": []
     },
     "output_type": "execute_result"
    }
   ],
   "source": [
    "df_train = df_train.drop(labels = ['Net_Sales', 'Duration', 'Comission', 'Age', 'ID'], axis = 1)\n",
    "df_train.head()"
   ]
  },
  {
   "cell_type": "code",
   "execution_count": 44,
   "metadata": {
    "colab": {
     "base_uri": "https://localhost:8080/",
     "height": 204
    },
    "colab_type": "code",
    "id": "yH-HCZ4crPpJ",
    "outputId": "28e14ffc-cef9-42e1-bd86-502cb8b4a021"
   },
   "outputs": [
    {
     "data": {
      "text/html": [
       "<div>\n",
       "<style scoped>\n",
       "    .dataframe tbody tr th:only-of-type {\n",
       "        vertical-align: middle;\n",
       "    }\n",
       "\n",
       "    .dataframe tbody tr th {\n",
       "        vertical-align: top;\n",
       "    }\n",
       "\n",
       "    .dataframe thead th {\n",
       "        text-align: right;\n",
       "    }\n",
       "</style>\n",
       "<table border=\"1\" class=\"dataframe\">\n",
       "  <thead>\n",
       "    <tr style=\"text-align: right;\">\n",
       "      <th></th>\n",
       "      <th>ID</th>\n",
       "      <th>Agency</th>\n",
       "      <th>Agency Type</th>\n",
       "      <th>Channel</th>\n",
       "      <th>Product</th>\n",
       "      <th>Destination</th>\n",
       "      <th>Age_band</th>\n",
       "      <th>Duration_interval</th>\n",
       "      <th>Net_Sales_Interval</th>\n",
       "      <th>Comission_band</th>\n",
       "    </tr>\n",
       "  </thead>\n",
       "  <tbody>\n",
       "    <tr>\n",
       "      <th>0</th>\n",
       "      <td>17631</td>\n",
       "      <td>EPX</td>\n",
       "      <td>Travel Agency</td>\n",
       "      <td>Online</td>\n",
       "      <td>Cancellation Plan</td>\n",
       "      <td>HONG KONG</td>\n",
       "      <td>Age 34-36</td>\n",
       "      <td>Duration &lt;57</td>\n",
       "      <td>Sales &lt;20</td>\n",
       "      <td>No Comission</td>\n",
       "    </tr>\n",
       "    <tr>\n",
       "      <th>1</th>\n",
       "      <td>15064</td>\n",
       "      <td>EPX</td>\n",
       "      <td>Travel Agency</td>\n",
       "      <td>Online</td>\n",
       "      <td>1 way Comprehensive Plan</td>\n",
       "      <td>SINGAPORE</td>\n",
       "      <td>Age 34-36</td>\n",
       "      <td>Duration &lt;10</td>\n",
       "      <td>Sales 20-29</td>\n",
       "      <td>No Comission</td>\n",
       "    </tr>\n",
       "    <tr>\n",
       "      <th>2</th>\n",
       "      <td>14139</td>\n",
       "      <td>C2B</td>\n",
       "      <td>Airlines</td>\n",
       "      <td>Online</td>\n",
       "      <td>Bronze Plan</td>\n",
       "      <td>SINGAPORE</td>\n",
       "      <td>Age &lt;34</td>\n",
       "      <td>Duration 10-24</td>\n",
       "      <td>Sales &lt;20</td>\n",
       "      <td>Low Comission(&lt;26)</td>\n",
       "    </tr>\n",
       "    <tr>\n",
       "      <th>3</th>\n",
       "      <td>19754</td>\n",
       "      <td>EPX</td>\n",
       "      <td>Travel Agency</td>\n",
       "      <td>Online</td>\n",
       "      <td>2 way Comprehensive Plan</td>\n",
       "      <td>TAIWAN, PROVINCE OF CHINA</td>\n",
       "      <td>Age 34-36</td>\n",
       "      <td>Duration &lt;57</td>\n",
       "      <td>Sales 30-56</td>\n",
       "      <td>No Comission</td>\n",
       "    </tr>\n",
       "    <tr>\n",
       "      <th>4</th>\n",
       "      <td>16439</td>\n",
       "      <td>C2B</td>\n",
       "      <td>Airlines</td>\n",
       "      <td>Online</td>\n",
       "      <td>Silver Plan</td>\n",
       "      <td>SINGAPORE</td>\n",
       "      <td>Age &lt;34</td>\n",
       "      <td>Duration &lt;10</td>\n",
       "      <td>Sales 30-56</td>\n",
       "      <td>Low Comission(&lt;26)</td>\n",
       "    </tr>\n",
       "  </tbody>\n",
       "</table>\n",
       "</div>"
      ],
      "text/plain": [
       "      ID Agency  ... Net_Sales_Interval      Comission_band\n",
       "0  17631    EPX  ...          Sales <20        No Comission\n",
       "1  15064    EPX  ...        Sales 20-29        No Comission\n",
       "2  14139    C2B  ...          Sales <20  Low Comission(<26)\n",
       "3  19754    EPX  ...        Sales 30-56        No Comission\n",
       "4  16439    C2B  ...        Sales 30-56  Low Comission(<26)\n",
       "\n",
       "[5 rows x 10 columns]"
      ]
     },
     "execution_count": 44,
     "metadata": {
      "tags": []
     },
     "output_type": "execute_result"
    }
   ],
   "source": [
    "df_test = df_test.drop(labels = ['Net_Sales', 'Duration', 'Comission', 'Age'], axis = 1)\n",
    "df_test.head()"
   ]
  },
  {
   "cell_type": "markdown",
   "metadata": {
    "colab_type": "text",
    "id": "x-lFNbMH7E5V"
   },
   "source": [
    "Now we needto treat the Destination, Agency and Product columns. For that I am going to bin all countries with claim approvals less than 384 as 'others' and only keep top 20 countries. \n"
   ]
  },
  {
   "cell_type": "code",
   "execution_count": 45,
   "metadata": {
    "colab": {
     "base_uri": "https://localhost:8080/",
     "height": 238
    },
    "colab_type": "code",
    "id": "VVBqS4-veuMP",
    "outputId": "a4d8f3f8-95d5-4c6b-da56-988dcce70aaf"
   },
   "outputs": [
    {
     "data": {
      "text/plain": [
       "Destination\n",
       "SINGAPORE                           5306\n",
       "CHINA                                642\n",
       "THAILAND                             458\n",
       "AUSTRALIA                            455\n",
       "UNITED STATES                        444\n",
       "                                    ... \n",
       "MEXICO                                 0\n",
       "MONGOLIA                               0\n",
       "MOROCCO                                0\n",
       "OMAN                                   0\n",
       "LAO PEOPLE'S DEMOCRATIC REPUBLIC       0\n",
       "Name: Claim, Length: 97, dtype: int64"
      ]
     },
     "execution_count": 45,
     "metadata": {
      "tags": []
     },
     "output_type": "execute_result"
    }
   ],
   "source": [
    "df_train.Destination = df_train.Destination.apply(lambda x: x.strip())\n",
    "destination_stats = df_train.groupby('Destination')['Claim'].agg('sum').sort_values(ascending = False)\n",
    "destination_stats"
   ]
  },
  {
   "cell_type": "code",
   "execution_count": 46,
   "metadata": {
    "colab": {
     "base_uri": "https://localhost:8080/",
     "height": 34
    },
    "colab_type": "code",
    "id": "thKQrHjdjQip",
    "outputId": "bce3d814-24ec-47a3-aa94-c673c165feec"
   },
   "outputs": [
    {
     "data": {
      "text/plain": [
       "77"
      ]
     },
     "execution_count": 46,
     "metadata": {
      "tags": []
     },
     "output_type": "execute_result"
    }
   ],
   "source": [
    "len(destination_stats[destination_stats < 34])"
   ]
  },
  {
   "cell_type": "code",
   "execution_count": 47,
   "metadata": {
    "colab": {
     "base_uri": "https://localhost:8080/",
     "height": 238
    },
    "colab_type": "code",
    "id": "Dm9fVmDFm31Q",
    "outputId": "ab7020a2-078c-4964-8713-c6bb05146834"
   },
   "outputs": [
    {
     "data": {
      "text/plain": [
       "Destination\n",
       "GERMANY                             19\n",
       "CANADA                              14\n",
       "NEW ZEALAND                         13\n",
       "TURKEY                              11\n",
       "FRANCE                               6\n",
       "                                    ..\n",
       "MEXICO                               0\n",
       "MONGOLIA                             0\n",
       "MOROCCO                              0\n",
       "OMAN                                 0\n",
       "LAO PEOPLE'S DEMOCRATIC REPUBLIC     0\n",
       "Name: Claim, Length: 77, dtype: int64"
      ]
     },
     "execution_count": 47,
     "metadata": {
      "tags": []
     },
     "output_type": "execute_result"
    }
   ],
   "source": [
    "destination_stats_less_than_34 = destination_stats[destination_stats < 34]\n",
    "destination_stats_less_than_34"
   ]
  },
  {
   "cell_type": "code",
   "execution_count": 48,
   "metadata": {
    "colab": {
     "base_uri": "https://localhost:8080/",
     "height": 34
    },
    "colab_type": "code",
    "id": "4d9yeFt8nREX",
    "outputId": "65c93787-6bd2-4550-a148-5aa092f8c7be"
   },
   "outputs": [
    {
     "data": {
      "text/plain": [
       "21"
      ]
     },
     "execution_count": 48,
     "metadata": {
      "tags": []
     },
     "output_type": "execute_result"
    }
   ],
   "source": [
    "df_train.Destination = df_train.Destination.apply(lambda x: 'other' if x in destination_stats_less_than_34 else x )\n",
    "len(df_train.Destination.unique())"
   ]
  },
  {
   "cell_type": "code",
   "execution_count": 49,
   "metadata": {
    "colab": {
     "base_uri": "https://localhost:8080/",
     "height": 391
    },
    "colab_type": "code",
    "id": "HE_7iFTLsRfb",
    "outputId": "6d24a372-c250-4ada-9eed-a6d338828fd7"
   },
   "outputs": [
    {
     "data": {
      "text/plain": [
       "SINGAPORE                    14242\n",
       "other                         5252\n",
       "THAILAND                      4562\n",
       "MALAYSIA                      4359\n",
       "CHINA                         3909\n",
       "AUSTRALIA                     3011\n",
       "INDONESIA                     2516\n",
       "UNITED STATES                 2196\n",
       "PHILIPPINES                   1797\n",
       "HONG KONG                     1775\n",
       "JAPAN                         1611\n",
       "INDIA                         1596\n",
       "VIET NAM                      1205\n",
       "KOREA, REPUBLIC OF            1152\n",
       "UNITED KINGDOM                1044\n",
       "TAIWAN, PROVINCE OF CHINA      824\n",
       "ITALY                          408\n",
       "NETHERLANDS                    303\n",
       "SPAIN                          267\n",
       "SOUTH AFRICA                   153\n",
       "NEPAL                          128\n",
       "Name: Destination, dtype: int64"
      ]
     },
     "execution_count": 49,
     "metadata": {
      "tags": []
     },
     "output_type": "execute_result"
    }
   ],
   "source": [
    "df_train['Destination'].value_counts()"
   ]
  },
  {
   "cell_type": "markdown",
   "metadata": {
    "colab_type": "text",
    "id": "oHJx_CQWrlCQ"
   },
   "source": [
    "**The destination for test data has to be matched with the train set. look into this later**"
   ]
  },
  {
   "cell_type": "markdown",
   "metadata": {
    "colab_type": "text",
    "id": "puXI5hhC7jgR"
   },
   "source": [
    "Similar to Destination, will also reduce products to thos products contributing to more than 90% of claims"
   ]
  },
  {
   "cell_type": "code",
   "execution_count": 50,
   "metadata": {
    "colab": {
     "base_uri": "https://localhost:8080/",
     "height": 476
    },
    "colab_type": "code",
    "id": "tMRVRtTTqgr2",
    "outputId": "65d4830b-d092-4f8a-ff5f-25e838aa8259"
   },
   "outputs": [
    {
     "data": {
      "text/plain": [
       "Product\n",
       "Bronze Plan                             2020\n",
       "2 way Comprehensive Plan                1457\n",
       "Annual Silver Plan                      1451\n",
       "Silver Plan                             1384\n",
       "Rental Vehicle Excess Insurance          848\n",
       "Cancellation Plan                        355\n",
       "Basic Plan                               246\n",
       "Annual Gold Plan                         172\n",
       "Gold Plan                                143\n",
       "Single Trip Travel Protect Gold          121\n",
       "Annual Travel Protect Gold               120\n",
       "Value Plan                                94\n",
       "1 way Comprehensive Plan                  68\n",
       "Ticket Protector                          57\n",
       "Single Trip Travel Protect Platinum       50\n",
       "Individual Comprehensive Plan             37\n",
       "Annual Travel Protect Silver              31\n",
       "Travel Cruise Protect                     21\n",
       "Single Trip Travel Protect Silver         16\n",
       "Annual Travel Protect Platinum            14\n",
       "Comprehensive Plan                        12\n",
       "Premier Plan                               2\n",
       "Spouse or Parents Comprehensive Plan       1\n",
       "Child Comprehensive Plan                   0\n",
       "24 Protect                                 0\n",
       "Name: Claim, dtype: int64"
      ]
     },
     "execution_count": 50,
     "metadata": {
      "tags": []
     },
     "output_type": "execute_result"
    }
   ],
   "source": [
    "df_train.Product = df_train.Product.apply(lambda x: x.strip())\n",
    "product_stats = df_train.groupby('Product')['Claim'].agg('sum').sort_values(ascending = False)\n",
    "product_stats"
   ]
  },
  {
   "cell_type": "code",
   "execution_count": 51,
   "metadata": {
    "colab": {
     "base_uri": "https://localhost:8080/",
     "height": 34
    },
    "colab_type": "code",
    "id": "F1hxr7knqojo",
    "outputId": "4d260a26-2ab2-4f35-b9dd-508487a8a5cb"
   },
   "outputs": [
    {
     "data": {
      "text/plain": [
       "14"
      ]
     },
     "execution_count": 51,
     "metadata": {
      "tags": []
     },
     "output_type": "execute_result"
    }
   ],
   "source": [
    "len(product_stats[product_stats < 100])"
   ]
  },
  {
   "cell_type": "code",
   "execution_count": 52,
   "metadata": {
    "colab": {
     "base_uri": "https://localhost:8080/",
     "height": 289
    },
    "colab_type": "code",
    "id": "fiNaeZ6wvoD1",
    "outputId": "39aa5d7c-935d-4ee3-ffc5-1abba49af993"
   },
   "outputs": [
    {
     "data": {
      "text/plain": [
       "Product\n",
       "Value Plan                              94\n",
       "1 way Comprehensive Plan                68\n",
       "Ticket Protector                        57\n",
       "Single Trip Travel Protect Platinum     50\n",
       "Individual Comprehensive Plan           37\n",
       "Annual Travel Protect Silver            31\n",
       "Travel Cruise Protect                   21\n",
       "Single Trip Travel Protect Silver       16\n",
       "Annual Travel Protect Platinum          14\n",
       "Comprehensive Plan                      12\n",
       "Premier Plan                             2\n",
       "Spouse or Parents Comprehensive Plan     1\n",
       "Child Comprehensive Plan                 0\n",
       "24 Protect                               0\n",
       "Name: Claim, dtype: int64"
      ]
     },
     "execution_count": 52,
     "metadata": {
      "tags": []
     },
     "output_type": "execute_result"
    }
   ],
   "source": [
    "product_stats_less_than_100 = product_stats[product_stats < 100]\n",
    "product_stats_less_than_100"
   ]
  },
  {
   "cell_type": "code",
   "execution_count": 53,
   "metadata": {
    "colab": {
     "base_uri": "https://localhost:8080/",
     "height": 34
    },
    "colab_type": "code",
    "id": "0KsN48mrv39d",
    "outputId": "74db8229-0ddc-4e14-c9bc-8b91065e8167"
   },
   "outputs": [
    {
     "data": {
      "text/plain": [
       "12"
      ]
     },
     "execution_count": 53,
     "metadata": {
      "tags": []
     },
     "output_type": "execute_result"
    }
   ],
   "source": [
    "df_train.Product = df_train.Product.apply(lambda x: 'other' if x in product_stats_less_than_100 else x )\n",
    "len(df_train.Product.unique())"
   ]
  },
  {
   "cell_type": "code",
   "execution_count": 54,
   "metadata": {
    "colab": {
     "base_uri": "https://localhost:8080/",
     "height": 238
    },
    "colab_type": "code",
    "id": "dpDRM8IAwF_t",
    "outputId": "c5c3ca2a-f0cb-48bf-85a3-b079b63579c4"
   },
   "outputs": [
    {
     "data": {
      "text/plain": [
       "Cancellation Plan                  13254\n",
       "2 way Comprehensive Plan           10555\n",
       "Rental Vehicle Excess Insurance     6813\n",
       "other                               6604\n",
       "Bronze Plan                         4723\n",
       "Basic Plan                          4042\n",
       "Silver Plan                         2862\n",
       "Annual Silver Plan                  2348\n",
       "Gold Plan                            380\n",
       "Annual Gold Plan                     295\n",
       "Single Trip Travel Protect Gold      251\n",
       "Annual Travel Protect Gold           183\n",
       "Name: Product, dtype: int64"
      ]
     },
     "execution_count": 54,
     "metadata": {
      "tags": []
     },
     "output_type": "execute_result"
    }
   ],
   "source": [
    "df_train['Product'].value_counts()"
   ]
  },
  {
   "cell_type": "markdown",
   "metadata": {
    "colab_type": "text",
    "id": "VyveRyWc7xrs"
   },
   "source": [
    "Similarly for Agengies"
   ]
  },
  {
   "cell_type": "code",
   "execution_count": 55,
   "metadata": {
    "colab": {
     "base_uri": "https://localhost:8080/",
     "height": 323
    },
    "colab_type": "code",
    "id": "kCQELfcSwNIN",
    "outputId": "65dcf12e-5f43-4063-de01-262a9aacf5f3"
   },
   "outputs": [
    {
     "data": {
      "text/plain": [
       "Agency\n",
       "C2B    5177\n",
       "EPX    1880\n",
       "CWT     848\n",
       "LWC     352\n",
       "JZI     256\n",
       "SSI      57\n",
       "KML      47\n",
       "TTW      38\n",
       "JWT      31\n",
       "TST      21\n",
       "CCR      10\n",
       "RAB       1\n",
       "CSR       1\n",
       "CBH       1\n",
       "ART       0\n",
       "ADM       0\n",
       "Name: Claim, dtype: int64"
      ]
     },
     "execution_count": 55,
     "metadata": {
      "tags": []
     },
     "output_type": "execute_result"
    }
   ],
   "source": [
    "df_train.Agency = df_train.Agency.apply(lambda x: x.strip())\n",
    "agency_stats = df_train.groupby('Agency')['Claim'].agg('sum').sort_values(ascending = False)\n",
    "agency_stats"
   ]
  },
  {
   "cell_type": "code",
   "execution_count": 56,
   "metadata": {
    "colab": {
     "base_uri": "https://localhost:8080/",
     "height": 238
    },
    "colab_type": "code",
    "id": "IO4ie7Y8zQQ_",
    "outputId": "0c1b64a0-4ad3-4fd7-bcd4-343683a65a8f"
   },
   "outputs": [
    {
     "data": {
      "text/plain": [
       "Agency\n",
       "SSI    57\n",
       "KML    47\n",
       "TTW    38\n",
       "JWT    31\n",
       "TST    21\n",
       "CCR    10\n",
       "RAB     1\n",
       "CSR     1\n",
       "CBH     1\n",
       "ART     0\n",
       "ADM     0\n",
       "Name: Claim, dtype: int64"
      ]
     },
     "execution_count": 56,
     "metadata": {
      "tags": []
     },
     "output_type": "execute_result"
    }
   ],
   "source": [
    "agency_stats_less_than_100 = agency_stats[agency_stats < 100]\n",
    "agency_stats_less_than_100"
   ]
  },
  {
   "cell_type": "code",
   "execution_count": 57,
   "metadata": {
    "colab": {
     "base_uri": "https://localhost:8080/",
     "height": 34
    },
    "colab_type": "code",
    "id": "uHsVhOilzb7G",
    "outputId": "e75fd849-3abe-4d08-a078-6f4b1884df51"
   },
   "outputs": [
    {
     "data": {
      "text/plain": [
       "6"
      ]
     },
     "execution_count": 57,
     "metadata": {
      "tags": []
     },
     "output_type": "execute_result"
    }
   ],
   "source": [
    "df_train.Agency = df_train.Agency.apply(lambda x: 'other' if x in agency_stats_less_than_100 else x )\n",
    "len(df_train.Agency.unique())"
   ]
  },
  {
   "cell_type": "code",
   "execution_count": 58,
   "metadata": {
    "colab": {
     "base_uri": "https://localhost:8080/",
     "height": 136
    },
    "colab_type": "code",
    "id": "Qj6LIHu_zpMG",
    "outputId": "d16606c7-7eea-4826-96a3-4998d811bd8d"
   },
   "outputs": [
    {
     "data": {
      "text/plain": [
       "EPX      26218\n",
       "C2B      10615\n",
       "CWT       6813\n",
       "JZI       4619\n",
       "other     3239\n",
       "LWC        806\n",
       "Name: Agency, dtype: int64"
      ]
     },
     "execution_count": 58,
     "metadata": {
      "tags": []
     },
     "output_type": "execute_result"
    }
   ],
   "source": [
    "df_train['Agency'].value_counts()"
   ]
  },
  {
   "cell_type": "code",
   "execution_count": 59,
   "metadata": {
    "colab": {
     "base_uri": "https://localhost:8080/",
     "height": 204
    },
    "colab_type": "code",
    "id": "IooHFikdzyi-",
    "outputId": "657fe36f-f873-4858-8fe5-2b323a7b2895"
   },
   "outputs": [
    {
     "data": {
      "text/html": [
       "<div>\n",
       "<style scoped>\n",
       "    .dataframe tbody tr th:only-of-type {\n",
       "        vertical-align: middle;\n",
       "    }\n",
       "\n",
       "    .dataframe tbody tr th {\n",
       "        vertical-align: top;\n",
       "    }\n",
       "\n",
       "    .dataframe thead th {\n",
       "        text-align: right;\n",
       "    }\n",
       "</style>\n",
       "<table border=\"1\" class=\"dataframe\">\n",
       "  <thead>\n",
       "    <tr style=\"text-align: right;\">\n",
       "      <th></th>\n",
       "      <th>Agency</th>\n",
       "      <th>Agency Type</th>\n",
       "      <th>Channel</th>\n",
       "      <th>Product</th>\n",
       "      <th>Destination</th>\n",
       "      <th>Claim</th>\n",
       "      <th>Age_band</th>\n",
       "      <th>Duration_interval</th>\n",
       "      <th>Net_Sales_Interval</th>\n",
       "      <th>Comission_band</th>\n",
       "    </tr>\n",
       "  </thead>\n",
       "  <tbody>\n",
       "    <tr>\n",
       "      <th>0</th>\n",
       "      <td>EPX</td>\n",
       "      <td>Travel Agency</td>\n",
       "      <td>Online</td>\n",
       "      <td>Cancellation Plan</td>\n",
       "      <td>PHILIPPINES</td>\n",
       "      <td>0</td>\n",
       "      <td>Age 36-43</td>\n",
       "      <td>Duration &lt;57</td>\n",
       "      <td>Sales &lt;20</td>\n",
       "      <td>No Comission</td>\n",
       "    </tr>\n",
       "    <tr>\n",
       "      <th>1</th>\n",
       "      <td>EPX</td>\n",
       "      <td>Travel Agency</td>\n",
       "      <td>Online</td>\n",
       "      <td>Cancellation Plan</td>\n",
       "      <td>MALAYSIA</td>\n",
       "      <td>0</td>\n",
       "      <td>Age 33-36</td>\n",
       "      <td>Duration &lt;10</td>\n",
       "      <td>Sales &lt;20</td>\n",
       "      <td>No Comission</td>\n",
       "    </tr>\n",
       "    <tr>\n",
       "      <th>2</th>\n",
       "      <td>CWT</td>\n",
       "      <td>Travel Agency</td>\n",
       "      <td>Online</td>\n",
       "      <td>Rental Vehicle Excess Insurance</td>\n",
       "      <td>THAILAND</td>\n",
       "      <td>0</td>\n",
       "      <td>Age &lt;43</td>\n",
       "      <td>Duration 24-57</td>\n",
       "      <td>Sales &lt;20</td>\n",
       "      <td>Low Comission(&lt;26)</td>\n",
       "    </tr>\n",
       "    <tr>\n",
       "      <th>3</th>\n",
       "      <td>EPX</td>\n",
       "      <td>Travel Agency</td>\n",
       "      <td>Online</td>\n",
       "      <td>2 way Comprehensive Plan</td>\n",
       "      <td>HONG KONG</td>\n",
       "      <td>0</td>\n",
       "      <td>Age &lt;43</td>\n",
       "      <td>Duration 10-24</td>\n",
       "      <td>Sales 20-29</td>\n",
       "      <td>No Comission</td>\n",
       "    </tr>\n",
       "    <tr>\n",
       "      <th>4</th>\n",
       "      <td>EPX</td>\n",
       "      <td>Travel Agency</td>\n",
       "      <td>Online</td>\n",
       "      <td>2 way Comprehensive Plan</td>\n",
       "      <td>MALAYSIA</td>\n",
       "      <td>0</td>\n",
       "      <td>Age 33-36</td>\n",
       "      <td>Duration 10-24</td>\n",
       "      <td>Sales 30-55</td>\n",
       "      <td>No Comission</td>\n",
       "    </tr>\n",
       "  </tbody>\n",
       "</table>\n",
       "</div>"
      ],
      "text/plain": [
       "  Agency    Agency Type  ... Net_Sales_Interval      Comission_band\n",
       "0    EPX  Travel Agency  ...          Sales <20        No Comission\n",
       "1    EPX  Travel Agency  ...          Sales <20        No Comission\n",
       "2    CWT  Travel Agency  ...          Sales <20  Low Comission(<26)\n",
       "3    EPX  Travel Agency  ...        Sales 20-29        No Comission\n",
       "4    EPX  Travel Agency  ...        Sales 30-55        No Comission\n",
       "\n",
       "[5 rows x 10 columns]"
      ]
     },
     "execution_count": 59,
     "metadata": {
      "tags": []
     },
     "output_type": "execute_result"
    }
   ],
   "source": [
    "df_train.head()"
   ]
  },
  {
   "cell_type": "markdown",
   "metadata": {
    "colab_type": "text",
    "id": "h9yWtb4v74qX"
   },
   "source": [
    "Now we will check and convert column dtypes to get dummies so that we can have uniform categorical columns to implement our models"
   ]
  },
  {
   "cell_type": "code",
   "execution_count": 60,
   "metadata": {
    "colab": {
     "base_uri": "https://localhost:8080/",
     "height": 204
    },
    "colab_type": "code",
    "id": "s7Qqnsp8z6I5",
    "outputId": "43b7f76a-25d8-4a82-c20e-7c5af2c4df14"
   },
   "outputs": [
    {
     "data": {
      "text/plain": [
       "Agency                  object\n",
       "Agency Type             object\n",
       "Channel                 object\n",
       "Product                 object\n",
       "Destination             object\n",
       "Claim                    int64\n",
       "Age_band              category\n",
       "Duration_interval     category\n",
       "Net_Sales_Interval    category\n",
       "Comission_band          object\n",
       "dtype: object"
      ]
     },
     "execution_count": 60,
     "metadata": {
      "tags": []
     },
     "output_type": "execute_result"
    }
   ],
   "source": [
    "df_train.dtypes"
   ]
  },
  {
   "cell_type": "code",
   "execution_count": 61,
   "metadata": {
    "colab": {},
    "colab_type": "code",
    "id": "hQJrBjIq0hcu"
   },
   "outputs": [],
   "source": [
    "df_train['Age_band'] = df_train['Age_band'].astype('object')\n",
    "df_train['Duration_interval'] = df_train['Duration_interval'].astype('object')\n",
    "df_train['Net_Sales_Interval'] = df_train['Net_Sales_Interval'].astype('object')\n",
    "df_test['Age_band'] = df_test['Age_band'].astype('object')\n",
    "df_test['Duration_interval'] = df_test['Duration_interval'].astype('object')\n",
    "df_test['Net_Sales_Interval'] = df_test['Net_Sales_Interval'].astype('object')"
   ]
  },
  {
   "cell_type": "code",
   "execution_count": 62,
   "metadata": {
    "colab": {
     "base_uri": "https://localhost:8080/",
     "height": 204
    },
    "colab_type": "code",
    "id": "uXD75a8O8HpM",
    "outputId": "bc415258-fced-462d-9b2d-29f9c399eede"
   },
   "outputs": [
    {
     "data": {
      "text/plain": [
       "Agency                object\n",
       "Agency Type           object\n",
       "Channel               object\n",
       "Product               object\n",
       "Destination           object\n",
       "Claim                  int64\n",
       "Age_band              object\n",
       "Duration_interval     object\n",
       "Net_Sales_Interval    object\n",
       "Comission_band        object\n",
       "dtype: object"
      ]
     },
     "execution_count": 62,
     "metadata": {
      "tags": []
     },
     "output_type": "execute_result"
    }
   ],
   "source": [
    "df_train.dtypes"
   ]
  },
  {
   "cell_type": "code",
   "execution_count": 63,
   "metadata": {
    "colab": {
     "base_uri": "https://localhost:8080/",
     "height": 258
    },
    "colab_type": "code",
    "id": "d7fauT5N1FSM",
    "outputId": "28ead793-fcd0-4985-dfc6-a4a43ea16370"
   },
   "outputs": [
    {
     "data": {
      "text/html": [
       "<div>\n",
       "<style scoped>\n",
       "    .dataframe tbody tr th:only-of-type {\n",
       "        vertical-align: middle;\n",
       "    }\n",
       "\n",
       "    .dataframe tbody tr th {\n",
       "        vertical-align: top;\n",
       "    }\n",
       "\n",
       "    .dataframe thead th {\n",
       "        text-align: right;\n",
       "    }\n",
       "</style>\n",
       "<table border=\"1\" class=\"dataframe\">\n",
       "  <thead>\n",
       "    <tr style=\"text-align: right;\">\n",
       "      <th></th>\n",
       "      <th>Claim</th>\n",
       "      <th>Agency_C2B</th>\n",
       "      <th>Agency_CWT</th>\n",
       "      <th>Agency_EPX</th>\n",
       "      <th>Agency_JZI</th>\n",
       "      <th>Agency_LWC</th>\n",
       "      <th>Agency_other</th>\n",
       "      <th>Agency Type_Airlines</th>\n",
       "      <th>Agency Type_Travel Agency</th>\n",
       "      <th>Channel_Offline</th>\n",
       "      <th>Channel_Online</th>\n",
       "      <th>Product_2 way Comprehensive Plan</th>\n",
       "      <th>Product_Annual Gold Plan</th>\n",
       "      <th>Product_Annual Silver Plan</th>\n",
       "      <th>Product_Annual Travel Protect Gold</th>\n",
       "      <th>Product_Basic Plan</th>\n",
       "      <th>Product_Bronze Plan</th>\n",
       "      <th>Product_Cancellation Plan</th>\n",
       "      <th>Product_Gold Plan</th>\n",
       "      <th>Product_Rental Vehicle Excess Insurance</th>\n",
       "      <th>Product_Silver Plan</th>\n",
       "      <th>Product_Single Trip Travel Protect Gold</th>\n",
       "      <th>Product_other</th>\n",
       "      <th>Destination_AUSTRALIA</th>\n",
       "      <th>Destination_CHINA</th>\n",
       "      <th>Destination_HONG KONG</th>\n",
       "      <th>Destination_INDIA</th>\n",
       "      <th>Destination_INDONESIA</th>\n",
       "      <th>Destination_ITALY</th>\n",
       "      <th>Destination_JAPAN</th>\n",
       "      <th>Destination_KOREA, REPUBLIC OF</th>\n",
       "      <th>Destination_MALAYSIA</th>\n",
       "      <th>Destination_NEPAL</th>\n",
       "      <th>Destination_NETHERLANDS</th>\n",
       "      <th>Destination_PHILIPPINES</th>\n",
       "      <th>Destination_SINGAPORE</th>\n",
       "      <th>Destination_SOUTH AFRICA</th>\n",
       "      <th>Destination_SPAIN</th>\n",
       "      <th>Destination_TAIWAN, PROVINCE OF CHINA</th>\n",
       "      <th>Destination_THAILAND</th>\n",
       "      <th>Destination_UNITED KINGDOM</th>\n",
       "      <th>Destination_UNITED STATES</th>\n",
       "      <th>Destination_VIET NAM</th>\n",
       "      <th>Destination_other</th>\n",
       "      <th>Age_band_Age 33-36</th>\n",
       "      <th>Age_band_Age 36-43</th>\n",
       "      <th>Age_band_Age &lt;33</th>\n",
       "      <th>Age_band_Age &lt;43</th>\n",
       "      <th>Duration_interval_Duration 10-24</th>\n",
       "      <th>Duration_interval_Duration 24-57</th>\n",
       "      <th>Duration_interval_Duration &lt;10</th>\n",
       "      <th>Duration_interval_Duration &lt;57</th>\n",
       "      <th>Net_Sales_Interval_Sales 20-29</th>\n",
       "      <th>Net_Sales_Interval_Sales 30-55</th>\n",
       "      <th>Net_Sales_Interval_Sales &lt;20</th>\n",
       "      <th>Net_Sales_Interval_Sales &lt;55</th>\n",
       "      <th>Comission_band_High Comission(&gt;26</th>\n",
       "      <th>Comission_band_Low Comission(&lt;26)</th>\n",
       "      <th>Comission_band_No Comission</th>\n",
       "    </tr>\n",
       "  </thead>\n",
       "  <tbody>\n",
       "    <tr>\n",
       "      <th>0</th>\n",
       "      <td>0</td>\n",
       "      <td>0</td>\n",
       "      <td>0</td>\n",
       "      <td>1</td>\n",
       "      <td>0</td>\n",
       "      <td>0</td>\n",
       "      <td>0</td>\n",
       "      <td>0</td>\n",
       "      <td>1</td>\n",
       "      <td>0</td>\n",
       "      <td>1</td>\n",
       "      <td>0</td>\n",
       "      <td>0</td>\n",
       "      <td>0</td>\n",
       "      <td>0</td>\n",
       "      <td>0</td>\n",
       "      <td>0</td>\n",
       "      <td>1</td>\n",
       "      <td>0</td>\n",
       "      <td>0</td>\n",
       "      <td>0</td>\n",
       "      <td>0</td>\n",
       "      <td>0</td>\n",
       "      <td>0</td>\n",
       "      <td>0</td>\n",
       "      <td>0</td>\n",
       "      <td>0</td>\n",
       "      <td>0</td>\n",
       "      <td>0</td>\n",
       "      <td>0</td>\n",
       "      <td>0</td>\n",
       "      <td>0</td>\n",
       "      <td>0</td>\n",
       "      <td>0</td>\n",
       "      <td>1</td>\n",
       "      <td>0</td>\n",
       "      <td>0</td>\n",
       "      <td>0</td>\n",
       "      <td>0</td>\n",
       "      <td>0</td>\n",
       "      <td>0</td>\n",
       "      <td>0</td>\n",
       "      <td>0</td>\n",
       "      <td>0</td>\n",
       "      <td>0</td>\n",
       "      <td>1</td>\n",
       "      <td>0</td>\n",
       "      <td>0</td>\n",
       "      <td>0</td>\n",
       "      <td>0</td>\n",
       "      <td>0</td>\n",
       "      <td>1</td>\n",
       "      <td>0</td>\n",
       "      <td>0</td>\n",
       "      <td>1</td>\n",
       "      <td>0</td>\n",
       "      <td>0</td>\n",
       "      <td>0</td>\n",
       "      <td>1</td>\n",
       "    </tr>\n",
       "    <tr>\n",
       "      <th>1</th>\n",
       "      <td>0</td>\n",
       "      <td>0</td>\n",
       "      <td>0</td>\n",
       "      <td>1</td>\n",
       "      <td>0</td>\n",
       "      <td>0</td>\n",
       "      <td>0</td>\n",
       "      <td>0</td>\n",
       "      <td>1</td>\n",
       "      <td>0</td>\n",
       "      <td>1</td>\n",
       "      <td>0</td>\n",
       "      <td>0</td>\n",
       "      <td>0</td>\n",
       "      <td>0</td>\n",
       "      <td>0</td>\n",
       "      <td>0</td>\n",
       "      <td>1</td>\n",
       "      <td>0</td>\n",
       "      <td>0</td>\n",
       "      <td>0</td>\n",
       "      <td>0</td>\n",
       "      <td>0</td>\n",
       "      <td>0</td>\n",
       "      <td>0</td>\n",
       "      <td>0</td>\n",
       "      <td>0</td>\n",
       "      <td>0</td>\n",
       "      <td>0</td>\n",
       "      <td>0</td>\n",
       "      <td>0</td>\n",
       "      <td>1</td>\n",
       "      <td>0</td>\n",
       "      <td>0</td>\n",
       "      <td>0</td>\n",
       "      <td>0</td>\n",
       "      <td>0</td>\n",
       "      <td>0</td>\n",
       "      <td>0</td>\n",
       "      <td>0</td>\n",
       "      <td>0</td>\n",
       "      <td>0</td>\n",
       "      <td>0</td>\n",
       "      <td>0</td>\n",
       "      <td>1</td>\n",
       "      <td>0</td>\n",
       "      <td>0</td>\n",
       "      <td>0</td>\n",
       "      <td>0</td>\n",
       "      <td>0</td>\n",
       "      <td>1</td>\n",
       "      <td>0</td>\n",
       "      <td>0</td>\n",
       "      <td>0</td>\n",
       "      <td>1</td>\n",
       "      <td>0</td>\n",
       "      <td>0</td>\n",
       "      <td>0</td>\n",
       "      <td>1</td>\n",
       "    </tr>\n",
       "    <tr>\n",
       "      <th>2</th>\n",
       "      <td>0</td>\n",
       "      <td>0</td>\n",
       "      <td>1</td>\n",
       "      <td>0</td>\n",
       "      <td>0</td>\n",
       "      <td>0</td>\n",
       "      <td>0</td>\n",
       "      <td>0</td>\n",
       "      <td>1</td>\n",
       "      <td>0</td>\n",
       "      <td>1</td>\n",
       "      <td>0</td>\n",
       "      <td>0</td>\n",
       "      <td>0</td>\n",
       "      <td>0</td>\n",
       "      <td>0</td>\n",
       "      <td>0</td>\n",
       "      <td>0</td>\n",
       "      <td>0</td>\n",
       "      <td>1</td>\n",
       "      <td>0</td>\n",
       "      <td>0</td>\n",
       "      <td>0</td>\n",
       "      <td>0</td>\n",
       "      <td>0</td>\n",
       "      <td>0</td>\n",
       "      <td>0</td>\n",
       "      <td>0</td>\n",
       "      <td>0</td>\n",
       "      <td>0</td>\n",
       "      <td>0</td>\n",
       "      <td>0</td>\n",
       "      <td>0</td>\n",
       "      <td>0</td>\n",
       "      <td>0</td>\n",
       "      <td>0</td>\n",
       "      <td>0</td>\n",
       "      <td>0</td>\n",
       "      <td>0</td>\n",
       "      <td>1</td>\n",
       "      <td>0</td>\n",
       "      <td>0</td>\n",
       "      <td>0</td>\n",
       "      <td>0</td>\n",
       "      <td>0</td>\n",
       "      <td>0</td>\n",
       "      <td>0</td>\n",
       "      <td>1</td>\n",
       "      <td>0</td>\n",
       "      <td>1</td>\n",
       "      <td>0</td>\n",
       "      <td>0</td>\n",
       "      <td>0</td>\n",
       "      <td>0</td>\n",
       "      <td>1</td>\n",
       "      <td>0</td>\n",
       "      <td>0</td>\n",
       "      <td>1</td>\n",
       "      <td>0</td>\n",
       "    </tr>\n",
       "    <tr>\n",
       "      <th>3</th>\n",
       "      <td>0</td>\n",
       "      <td>0</td>\n",
       "      <td>0</td>\n",
       "      <td>1</td>\n",
       "      <td>0</td>\n",
       "      <td>0</td>\n",
       "      <td>0</td>\n",
       "      <td>0</td>\n",
       "      <td>1</td>\n",
       "      <td>0</td>\n",
       "      <td>1</td>\n",
       "      <td>1</td>\n",
       "      <td>0</td>\n",
       "      <td>0</td>\n",
       "      <td>0</td>\n",
       "      <td>0</td>\n",
       "      <td>0</td>\n",
       "      <td>0</td>\n",
       "      <td>0</td>\n",
       "      <td>0</td>\n",
       "      <td>0</td>\n",
       "      <td>0</td>\n",
       "      <td>0</td>\n",
       "      <td>0</td>\n",
       "      <td>0</td>\n",
       "      <td>1</td>\n",
       "      <td>0</td>\n",
       "      <td>0</td>\n",
       "      <td>0</td>\n",
       "      <td>0</td>\n",
       "      <td>0</td>\n",
       "      <td>0</td>\n",
       "      <td>0</td>\n",
       "      <td>0</td>\n",
       "      <td>0</td>\n",
       "      <td>0</td>\n",
       "      <td>0</td>\n",
       "      <td>0</td>\n",
       "      <td>0</td>\n",
       "      <td>0</td>\n",
       "      <td>0</td>\n",
       "      <td>0</td>\n",
       "      <td>0</td>\n",
       "      <td>0</td>\n",
       "      <td>0</td>\n",
       "      <td>0</td>\n",
       "      <td>0</td>\n",
       "      <td>1</td>\n",
       "      <td>1</td>\n",
       "      <td>0</td>\n",
       "      <td>0</td>\n",
       "      <td>0</td>\n",
       "      <td>1</td>\n",
       "      <td>0</td>\n",
       "      <td>0</td>\n",
       "      <td>0</td>\n",
       "      <td>0</td>\n",
       "      <td>0</td>\n",
       "      <td>1</td>\n",
       "    </tr>\n",
       "    <tr>\n",
       "      <th>4</th>\n",
       "      <td>0</td>\n",
       "      <td>0</td>\n",
       "      <td>0</td>\n",
       "      <td>1</td>\n",
       "      <td>0</td>\n",
       "      <td>0</td>\n",
       "      <td>0</td>\n",
       "      <td>0</td>\n",
       "      <td>1</td>\n",
       "      <td>0</td>\n",
       "      <td>1</td>\n",
       "      <td>1</td>\n",
       "      <td>0</td>\n",
       "      <td>0</td>\n",
       "      <td>0</td>\n",
       "      <td>0</td>\n",
       "      <td>0</td>\n",
       "      <td>0</td>\n",
       "      <td>0</td>\n",
       "      <td>0</td>\n",
       "      <td>0</td>\n",
       "      <td>0</td>\n",
       "      <td>0</td>\n",
       "      <td>0</td>\n",
       "      <td>0</td>\n",
       "      <td>0</td>\n",
       "      <td>0</td>\n",
       "      <td>0</td>\n",
       "      <td>0</td>\n",
       "      <td>0</td>\n",
       "      <td>0</td>\n",
       "      <td>1</td>\n",
       "      <td>0</td>\n",
       "      <td>0</td>\n",
       "      <td>0</td>\n",
       "      <td>0</td>\n",
       "      <td>0</td>\n",
       "      <td>0</td>\n",
       "      <td>0</td>\n",
       "      <td>0</td>\n",
       "      <td>0</td>\n",
       "      <td>0</td>\n",
       "      <td>0</td>\n",
       "      <td>0</td>\n",
       "      <td>1</td>\n",
       "      <td>0</td>\n",
       "      <td>0</td>\n",
       "      <td>0</td>\n",
       "      <td>1</td>\n",
       "      <td>0</td>\n",
       "      <td>0</td>\n",
       "      <td>0</td>\n",
       "      <td>0</td>\n",
       "      <td>1</td>\n",
       "      <td>0</td>\n",
       "      <td>0</td>\n",
       "      <td>0</td>\n",
       "      <td>0</td>\n",
       "      <td>1</td>\n",
       "    </tr>\n",
       "  </tbody>\n",
       "</table>\n",
       "</div>"
      ],
      "text/plain": [
       "   Claim  ...  Comission_band_No Comission\n",
       "0      0  ...                            1\n",
       "1      0  ...                            1\n",
       "2      0  ...                            0\n",
       "3      0  ...                            1\n",
       "4      0  ...                            1\n",
       "\n",
       "[5 rows x 59 columns]"
      ]
     },
     "execution_count": 63,
     "metadata": {
      "tags": []
     },
     "output_type": "execute_result"
    }
   ],
   "source": [
    "df_train = pd.get_dummies(df_train, drop_first= False)\n",
    "df_train.head()"
   ]
  },
  {
   "cell_type": "code",
   "execution_count": 64,
   "metadata": {
    "colab": {
     "base_uri": "https://localhost:8080/",
     "height": 255
    },
    "colab_type": "code",
    "id": "3Ry5Jjcg1iLC",
    "outputId": "2b59189f-c6e0-4d83-ca7d-794805e3b92b"
   },
   "outputs": [
    {
     "data": {
      "text/plain": [
       "<bound method DataFrame.info of        Claim  ...  Comission_band_No Comission\n",
       "0          0  ...                            1\n",
       "1          0  ...                            1\n",
       "2          0  ...                            0\n",
       "3          0  ...                            1\n",
       "4          0  ...                            1\n",
       "...      ...  ...                          ...\n",
       "52305      1  ...                            0\n",
       "52306      0  ...                            0\n",
       "52307      0  ...                            0\n",
       "52308      0  ...                            1\n",
       "52309      0  ...                            0\n",
       "\n",
       "[52310 rows x 59 columns]>"
      ]
     },
     "execution_count": 64,
     "metadata": {
      "tags": []
     },
     "output_type": "execute_result"
    }
   ],
   "source": [
    "df_train.info"
   ]
  },
  {
   "cell_type": "code",
   "execution_count": 65,
   "metadata": {
    "colab": {
     "base_uri": "https://localhost:8080/",
     "height": 258
    },
    "colab_type": "code",
    "id": "5yej8fDn3AkG",
    "outputId": "de9dc1ba-d00c-4abf-ec3f-1915a67a699c"
   },
   "outputs": [
    {
     "data": {
      "text/html": [
       "<div>\n",
       "<style scoped>\n",
       "    .dataframe tbody tr th:only-of-type {\n",
       "        vertical-align: middle;\n",
       "    }\n",
       "\n",
       "    .dataframe tbody tr th {\n",
       "        vertical-align: top;\n",
       "    }\n",
       "\n",
       "    .dataframe thead th {\n",
       "        text-align: right;\n",
       "    }\n",
       "</style>\n",
       "<table border=\"1\" class=\"dataframe\">\n",
       "  <thead>\n",
       "    <tr style=\"text-align: right;\">\n",
       "      <th></th>\n",
       "      <th>Claim</th>\n",
       "      <th>Agency_C2B</th>\n",
       "      <th>Agency_CWT</th>\n",
       "      <th>Agency_EPX</th>\n",
       "      <th>Agency_JZI</th>\n",
       "      <th>Agency_LWC</th>\n",
       "      <th>Agency Type_Travel Agency</th>\n",
       "      <th>Channel_Online</th>\n",
       "      <th>Product_2 way Comprehensive Plan</th>\n",
       "      <th>Product_Annual Gold Plan</th>\n",
       "      <th>Product_Annual Silver Plan</th>\n",
       "      <th>Product_Annual Travel Protect Gold</th>\n",
       "      <th>Product_Basic Plan</th>\n",
       "      <th>Product_Bronze Plan</th>\n",
       "      <th>Product_Cancellation Plan</th>\n",
       "      <th>Product_Gold Plan</th>\n",
       "      <th>Product_Rental Vehicle Excess Insurance</th>\n",
       "      <th>Product_Silver Plan</th>\n",
       "      <th>Product_Single Trip Travel Protect Gold</th>\n",
       "      <th>Destination_AUSTRALIA</th>\n",
       "      <th>Destination_CHINA</th>\n",
       "      <th>Destination_HONG KONG</th>\n",
       "      <th>Destination_INDIA</th>\n",
       "      <th>Destination_INDONESIA</th>\n",
       "      <th>Destination_ITALY</th>\n",
       "      <th>Destination_JAPAN</th>\n",
       "      <th>Destination_KOREA, REPUBLIC OF</th>\n",
       "      <th>Destination_MALAYSIA</th>\n",
       "      <th>Destination_NEPAL</th>\n",
       "      <th>Destination_NETHERLANDS</th>\n",
       "      <th>Destination_PHILIPPINES</th>\n",
       "      <th>Destination_SINGAPORE</th>\n",
       "      <th>Destination_SOUTH AFRICA</th>\n",
       "      <th>Destination_SPAIN</th>\n",
       "      <th>Destination_TAIWAN, PROVINCE OF CHINA</th>\n",
       "      <th>Destination_THAILAND</th>\n",
       "      <th>Destination_UNITED KINGDOM</th>\n",
       "      <th>Destination_UNITED STATES</th>\n",
       "      <th>Destination_VIET NAM</th>\n",
       "      <th>Age_band_Age 33-36</th>\n",
       "      <th>Age_band_Age 36-43</th>\n",
       "      <th>Age_band_Age &lt;33</th>\n",
       "      <th>Age_band_Age &lt;43</th>\n",
       "      <th>Duration_interval_Duration 10-24</th>\n",
       "      <th>Duration_interval_Duration 24-57</th>\n",
       "      <th>Duration_interval_Duration &lt;10</th>\n",
       "      <th>Duration_interval_Duration &lt;57</th>\n",
       "      <th>Net_Sales_Interval_Sales 20-29</th>\n",
       "      <th>Net_Sales_Interval_Sales 30-55</th>\n",
       "      <th>Net_Sales_Interval_Sales &lt;20</th>\n",
       "      <th>Net_Sales_Interval_Sales &lt;55</th>\n",
       "      <th>Comission_band_High Comission(&gt;26</th>\n",
       "      <th>Comission_band_Low Comission(&lt;26)</th>\n",
       "      <th>Comission_band_No Comission</th>\n",
       "    </tr>\n",
       "  </thead>\n",
       "  <tbody>\n",
       "    <tr>\n",
       "      <th>0</th>\n",
       "      <td>0</td>\n",
       "      <td>0</td>\n",
       "      <td>0</td>\n",
       "      <td>1</td>\n",
       "      <td>0</td>\n",
       "      <td>0</td>\n",
       "      <td>1</td>\n",
       "      <td>1</td>\n",
       "      <td>0</td>\n",
       "      <td>0</td>\n",
       "      <td>0</td>\n",
       "      <td>0</td>\n",
       "      <td>0</td>\n",
       "      <td>0</td>\n",
       "      <td>1</td>\n",
       "      <td>0</td>\n",
       "      <td>0</td>\n",
       "      <td>0</td>\n",
       "      <td>0</td>\n",
       "      <td>0</td>\n",
       "      <td>0</td>\n",
       "      <td>0</td>\n",
       "      <td>0</td>\n",
       "      <td>0</td>\n",
       "      <td>0</td>\n",
       "      <td>0</td>\n",
       "      <td>0</td>\n",
       "      <td>0</td>\n",
       "      <td>0</td>\n",
       "      <td>0</td>\n",
       "      <td>1</td>\n",
       "      <td>0</td>\n",
       "      <td>0</td>\n",
       "      <td>0</td>\n",
       "      <td>0</td>\n",
       "      <td>0</td>\n",
       "      <td>0</td>\n",
       "      <td>0</td>\n",
       "      <td>0</td>\n",
       "      <td>0</td>\n",
       "      <td>1</td>\n",
       "      <td>0</td>\n",
       "      <td>0</td>\n",
       "      <td>0</td>\n",
       "      <td>0</td>\n",
       "      <td>0</td>\n",
       "      <td>1</td>\n",
       "      <td>0</td>\n",
       "      <td>0</td>\n",
       "      <td>1</td>\n",
       "      <td>0</td>\n",
       "      <td>0</td>\n",
       "      <td>0</td>\n",
       "      <td>1</td>\n",
       "    </tr>\n",
       "    <tr>\n",
       "      <th>1</th>\n",
       "      <td>0</td>\n",
       "      <td>0</td>\n",
       "      <td>0</td>\n",
       "      <td>1</td>\n",
       "      <td>0</td>\n",
       "      <td>0</td>\n",
       "      <td>1</td>\n",
       "      <td>1</td>\n",
       "      <td>0</td>\n",
       "      <td>0</td>\n",
       "      <td>0</td>\n",
       "      <td>0</td>\n",
       "      <td>0</td>\n",
       "      <td>0</td>\n",
       "      <td>1</td>\n",
       "      <td>0</td>\n",
       "      <td>0</td>\n",
       "      <td>0</td>\n",
       "      <td>0</td>\n",
       "      <td>0</td>\n",
       "      <td>0</td>\n",
       "      <td>0</td>\n",
       "      <td>0</td>\n",
       "      <td>0</td>\n",
       "      <td>0</td>\n",
       "      <td>0</td>\n",
       "      <td>0</td>\n",
       "      <td>1</td>\n",
       "      <td>0</td>\n",
       "      <td>0</td>\n",
       "      <td>0</td>\n",
       "      <td>0</td>\n",
       "      <td>0</td>\n",
       "      <td>0</td>\n",
       "      <td>0</td>\n",
       "      <td>0</td>\n",
       "      <td>0</td>\n",
       "      <td>0</td>\n",
       "      <td>0</td>\n",
       "      <td>1</td>\n",
       "      <td>0</td>\n",
       "      <td>0</td>\n",
       "      <td>0</td>\n",
       "      <td>0</td>\n",
       "      <td>0</td>\n",
       "      <td>1</td>\n",
       "      <td>0</td>\n",
       "      <td>0</td>\n",
       "      <td>0</td>\n",
       "      <td>1</td>\n",
       "      <td>0</td>\n",
       "      <td>0</td>\n",
       "      <td>0</td>\n",
       "      <td>1</td>\n",
       "    </tr>\n",
       "    <tr>\n",
       "      <th>2</th>\n",
       "      <td>0</td>\n",
       "      <td>0</td>\n",
       "      <td>1</td>\n",
       "      <td>0</td>\n",
       "      <td>0</td>\n",
       "      <td>0</td>\n",
       "      <td>1</td>\n",
       "      <td>1</td>\n",
       "      <td>0</td>\n",
       "      <td>0</td>\n",
       "      <td>0</td>\n",
       "      <td>0</td>\n",
       "      <td>0</td>\n",
       "      <td>0</td>\n",
       "      <td>0</td>\n",
       "      <td>0</td>\n",
       "      <td>1</td>\n",
       "      <td>0</td>\n",
       "      <td>0</td>\n",
       "      <td>0</td>\n",
       "      <td>0</td>\n",
       "      <td>0</td>\n",
       "      <td>0</td>\n",
       "      <td>0</td>\n",
       "      <td>0</td>\n",
       "      <td>0</td>\n",
       "      <td>0</td>\n",
       "      <td>0</td>\n",
       "      <td>0</td>\n",
       "      <td>0</td>\n",
       "      <td>0</td>\n",
       "      <td>0</td>\n",
       "      <td>0</td>\n",
       "      <td>0</td>\n",
       "      <td>0</td>\n",
       "      <td>1</td>\n",
       "      <td>0</td>\n",
       "      <td>0</td>\n",
       "      <td>0</td>\n",
       "      <td>0</td>\n",
       "      <td>0</td>\n",
       "      <td>0</td>\n",
       "      <td>1</td>\n",
       "      <td>0</td>\n",
       "      <td>1</td>\n",
       "      <td>0</td>\n",
       "      <td>0</td>\n",
       "      <td>0</td>\n",
       "      <td>0</td>\n",
       "      <td>1</td>\n",
       "      <td>0</td>\n",
       "      <td>0</td>\n",
       "      <td>1</td>\n",
       "      <td>0</td>\n",
       "    </tr>\n",
       "    <tr>\n",
       "      <th>3</th>\n",
       "      <td>0</td>\n",
       "      <td>0</td>\n",
       "      <td>0</td>\n",
       "      <td>1</td>\n",
       "      <td>0</td>\n",
       "      <td>0</td>\n",
       "      <td>1</td>\n",
       "      <td>1</td>\n",
       "      <td>1</td>\n",
       "      <td>0</td>\n",
       "      <td>0</td>\n",
       "      <td>0</td>\n",
       "      <td>0</td>\n",
       "      <td>0</td>\n",
       "      <td>0</td>\n",
       "      <td>0</td>\n",
       "      <td>0</td>\n",
       "      <td>0</td>\n",
       "      <td>0</td>\n",
       "      <td>0</td>\n",
       "      <td>0</td>\n",
       "      <td>1</td>\n",
       "      <td>0</td>\n",
       "      <td>0</td>\n",
       "      <td>0</td>\n",
       "      <td>0</td>\n",
       "      <td>0</td>\n",
       "      <td>0</td>\n",
       "      <td>0</td>\n",
       "      <td>0</td>\n",
       "      <td>0</td>\n",
       "      <td>0</td>\n",
       "      <td>0</td>\n",
       "      <td>0</td>\n",
       "      <td>0</td>\n",
       "      <td>0</td>\n",
       "      <td>0</td>\n",
       "      <td>0</td>\n",
       "      <td>0</td>\n",
       "      <td>0</td>\n",
       "      <td>0</td>\n",
       "      <td>0</td>\n",
       "      <td>1</td>\n",
       "      <td>1</td>\n",
       "      <td>0</td>\n",
       "      <td>0</td>\n",
       "      <td>0</td>\n",
       "      <td>1</td>\n",
       "      <td>0</td>\n",
       "      <td>0</td>\n",
       "      <td>0</td>\n",
       "      <td>0</td>\n",
       "      <td>0</td>\n",
       "      <td>1</td>\n",
       "    </tr>\n",
       "    <tr>\n",
       "      <th>4</th>\n",
       "      <td>0</td>\n",
       "      <td>0</td>\n",
       "      <td>0</td>\n",
       "      <td>1</td>\n",
       "      <td>0</td>\n",
       "      <td>0</td>\n",
       "      <td>1</td>\n",
       "      <td>1</td>\n",
       "      <td>1</td>\n",
       "      <td>0</td>\n",
       "      <td>0</td>\n",
       "      <td>0</td>\n",
       "      <td>0</td>\n",
       "      <td>0</td>\n",
       "      <td>0</td>\n",
       "      <td>0</td>\n",
       "      <td>0</td>\n",
       "      <td>0</td>\n",
       "      <td>0</td>\n",
       "      <td>0</td>\n",
       "      <td>0</td>\n",
       "      <td>0</td>\n",
       "      <td>0</td>\n",
       "      <td>0</td>\n",
       "      <td>0</td>\n",
       "      <td>0</td>\n",
       "      <td>0</td>\n",
       "      <td>1</td>\n",
       "      <td>0</td>\n",
       "      <td>0</td>\n",
       "      <td>0</td>\n",
       "      <td>0</td>\n",
       "      <td>0</td>\n",
       "      <td>0</td>\n",
       "      <td>0</td>\n",
       "      <td>0</td>\n",
       "      <td>0</td>\n",
       "      <td>0</td>\n",
       "      <td>0</td>\n",
       "      <td>1</td>\n",
       "      <td>0</td>\n",
       "      <td>0</td>\n",
       "      <td>0</td>\n",
       "      <td>1</td>\n",
       "      <td>0</td>\n",
       "      <td>0</td>\n",
       "      <td>0</td>\n",
       "      <td>0</td>\n",
       "      <td>1</td>\n",
       "      <td>0</td>\n",
       "      <td>0</td>\n",
       "      <td>0</td>\n",
       "      <td>0</td>\n",
       "      <td>1</td>\n",
       "    </tr>\n",
       "  </tbody>\n",
       "</table>\n",
       "</div>"
      ],
      "text/plain": [
       "   Claim  ...  Comission_band_No Comission\n",
       "0      0  ...                            1\n",
       "1      0  ...                            1\n",
       "2      0  ...                            0\n",
       "3      0  ...                            1\n",
       "4      0  ...                            1\n",
       "\n",
       "[5 rows x 54 columns]"
      ]
     },
     "execution_count": 65,
     "metadata": {
      "tags": []
     },
     "output_type": "execute_result"
    }
   ],
   "source": [
    "df_train = df_train.drop(labels = ['Agency_other', 'Channel_Offline', 'Product_other', 'Destination_other', 'Agency Type_Airlines'], axis = 1)\n",
    "df_train.head()"
   ]
  },
  {
   "cell_type": "code",
   "execution_count": 65,
   "metadata": {
    "colab": {},
    "colab_type": "code",
    "id": "8ALgGYYL-UmU"
   },
   "outputs": [],
   "source": [
    " "
   ]
  }
 ],
 "metadata": {
  "colab": {
   "collapsed_sections": [],
   "name": "Travel Insurance Prediction_1",
   "provenance": []
  },
  "kernelspec": {
   "display_name": "Python 3",
   "language": "python",
   "name": "python3"
  },
  "language_info": {
   "codemirror_mode": {
    "name": "ipython",
    "version": 3
   },
   "file_extension": ".py",
   "mimetype": "text/x-python",
   "name": "python",
   "nbconvert_exporter": "python",
   "pygments_lexer": "ipython3",
   "version": "3.8.3"
  }
 },
 "nbformat": 4,
 "nbformat_minor": 1
}
