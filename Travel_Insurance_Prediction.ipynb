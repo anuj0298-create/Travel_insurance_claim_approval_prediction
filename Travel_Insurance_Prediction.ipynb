{
  "nbformat": 4,
  "nbformat_minor": 0,
  "metadata": {
    "colab": {
      "name": "Travel Insurance Prediction",
      "provenance": [],
      "collapsed_sections": []
    },
    "kernelspec": {
      "name": "python3",
      "display_name": "Python 3"
    }
  },
  "cells": [
    {
      "cell_type": "markdown",
      "metadata": {
        "id": "CGnvcNRIUUwp",
        "colab_type": "text"
      },
      "source": [
        "Problem Description\n",
        "Insurance companies take risks over customers. Risk management is a very important aspect of the insurance industry. Insurers consider every quantifiable factor to develop profiles of high and low insurance risks. Insurers collect vast amounts of information about policyholders and analyze the data.\n",
        "\n",
        "As a Data scientist in an insurance company, you need to analyze the available data and predict whether to sanction the insurance or not.\n",
        "\n",
        "Dataset Description\n",
        "A zipped file containing train, test and sample submission files are given. The training dataset consists of data corresponding to 52310 customers and the test dataset consists of 22421 customers. Following are the features of the dataset\n",
        "\n",
        "1. Target: Claim Status (Claim)\n",
        "2. Name of agency (Agency) - Categorical\n",
        "3. Type of travel insurance agencies (Agency.Type) - Categorical\n",
        "4. Distribution channel of travel insurance agencies  - Categorical\n",
        "5. Name of the travel insurance products (Product.Name) - Categorical\n",
        "6. Duration of travel (Duration)\n",
        "7. Destination of travel (Destination)\n",
        "8. Amount of sales of travel insurance policies (Net.Sales)\n",
        "9. The commission received for travel insurance agency (Commission)\n",
        "10. Age of insured (Age)\n",
        "11. The identification record of every observation (ID)\n",
        "\n",
        "\n",
        "\n"
      ]
    },
    {
      "cell_type": "markdown",
      "metadata": {
        "id": "a3AO24OwUvBY",
        "colab_type": "text"
      },
      "source": [
        "Given the above data, we have to predict whether to sanction an insurance claim or not. The data contains high number of categorical features and a few redundant features as well. We will go through each step of the data analysis process."
      ]
    },
    {
      "cell_type": "code",
      "metadata": {
        "id": "FI6w_BcaUSbw",
        "colab_type": "code",
        "colab": {
          "base_uri": "https://localhost:8080/",
          "height": 71
        },
        "outputId": "3c9da995-5052-4590-9421-cdc9a0c8ff7a"
      },
      "source": [
        "#importing basic useful libraries to load and visualise dataset\n",
        "import numpy as np\n",
        "import pandas as pd\n",
        "import matplotlib.pyplot as plt\n",
        "import seaborn as sns\n",
        "%matplotlib inline"
      ],
      "execution_count": 1,
      "outputs": [
        {
          "output_type": "stream",
          "text": [
            "/usr/local/lib/python3.6/dist-packages/statsmodels/tools/_testing.py:19: FutureWarning: pandas.util.testing is deprecated. Use the functions in the public API at pandas.testing instead.\n",
            "  import pandas.util.testing as tm\n"
          ],
          "name": "stderr"
        }
      ]
    },
    {
      "cell_type": "code",
      "metadata": {
        "id": "aLNnCrggT3D9",
        "colab_type": "code",
        "colab": {}
      },
      "source": [
        "df_train = pd.read_csv('/content/train.csv')\n",
        "df_test = pd.read_csv('/content/test.csv')"
      ],
      "execution_count": 2,
      "outputs": []
    },
    {
      "cell_type": "code",
      "metadata": {
        "id": "jbKj0Ar8UF5Q",
        "colab_type": "code",
        "colab": {
          "base_uri": "https://localhost:8080/",
          "height": 204
        },
        "outputId": "e42b591a-6e0f-4eb3-ed22-4035607816eb"
      },
      "source": [
        "df_train.head()"
      ],
      "execution_count": 3,
      "outputs": [
        {
          "output_type": "execute_result",
          "data": {
            "text/html": [
              "<div>\n",
              "<style scoped>\n",
              "    .dataframe tbody tr th:only-of-type {\n",
              "        vertical-align: middle;\n",
              "    }\n",
              "\n",
              "    .dataframe tbody tr th {\n",
              "        vertical-align: top;\n",
              "    }\n",
              "\n",
              "    .dataframe thead th {\n",
              "        text-align: right;\n",
              "    }\n",
              "</style>\n",
              "<table border=\"1\" class=\"dataframe\">\n",
              "  <thead>\n",
              "    <tr style=\"text-align: right;\">\n",
              "      <th></th>\n",
              "      <th>ID</th>\n",
              "      <th>Agency</th>\n",
              "      <th>Agency Type</th>\n",
              "      <th>Distribution Channel</th>\n",
              "      <th>Product Name</th>\n",
              "      <th>Duration</th>\n",
              "      <th>Destination</th>\n",
              "      <th>Net Sales</th>\n",
              "      <th>Commision (in value)</th>\n",
              "      <th>Age</th>\n",
              "      <th>Claim</th>\n",
              "    </tr>\n",
              "  </thead>\n",
              "  <tbody>\n",
              "    <tr>\n",
              "      <th>0</th>\n",
              "      <td>2010</td>\n",
              "      <td>EPX</td>\n",
              "      <td>Travel Agency</td>\n",
              "      <td>Online</td>\n",
              "      <td>Cancellation Plan</td>\n",
              "      <td>61</td>\n",
              "      <td>PHILIPPINES</td>\n",
              "      <td>12.0</td>\n",
              "      <td>0.00</td>\n",
              "      <td>41</td>\n",
              "      <td>0</td>\n",
              "    </tr>\n",
              "    <tr>\n",
              "      <th>1</th>\n",
              "      <td>4245</td>\n",
              "      <td>EPX</td>\n",
              "      <td>Travel Agency</td>\n",
              "      <td>Online</td>\n",
              "      <td>Cancellation Plan</td>\n",
              "      <td>4</td>\n",
              "      <td>MALAYSIA</td>\n",
              "      <td>17.0</td>\n",
              "      <td>0.00</td>\n",
              "      <td>35</td>\n",
              "      <td>0</td>\n",
              "    </tr>\n",
              "    <tr>\n",
              "      <th>2</th>\n",
              "      <td>9251</td>\n",
              "      <td>CWT</td>\n",
              "      <td>Travel Agency</td>\n",
              "      <td>Online</td>\n",
              "      <td>Rental Vehicle Excess Insurance</td>\n",
              "      <td>26</td>\n",
              "      <td>THAILAND</td>\n",
              "      <td>19.8</td>\n",
              "      <td>11.88</td>\n",
              "      <td>47</td>\n",
              "      <td>0</td>\n",
              "    </tr>\n",
              "    <tr>\n",
              "      <th>3</th>\n",
              "      <td>4754</td>\n",
              "      <td>EPX</td>\n",
              "      <td>Travel Agency</td>\n",
              "      <td>Online</td>\n",
              "      <td>2 way Comprehensive Plan</td>\n",
              "      <td>15</td>\n",
              "      <td>HONG KONG</td>\n",
              "      <td>27.0</td>\n",
              "      <td>0.00</td>\n",
              "      <td>48</td>\n",
              "      <td>0</td>\n",
              "    </tr>\n",
              "    <tr>\n",
              "      <th>4</th>\n",
              "      <td>8840</td>\n",
              "      <td>EPX</td>\n",
              "      <td>Travel Agency</td>\n",
              "      <td>Online</td>\n",
              "      <td>2 way Comprehensive Plan</td>\n",
              "      <td>15</td>\n",
              "      <td>MALAYSIA</td>\n",
              "      <td>37.0</td>\n",
              "      <td>0.00</td>\n",
              "      <td>36</td>\n",
              "      <td>0</td>\n",
              "    </tr>\n",
              "  </tbody>\n",
              "</table>\n",
              "</div>"
            ],
            "text/plain": [
              "     ID Agency    Agency Type  ... Commision (in value) Age  Claim\n",
              "0  2010    EPX  Travel Agency  ...                 0.00  41      0\n",
              "1  4245    EPX  Travel Agency  ...                 0.00  35      0\n",
              "2  9251    CWT  Travel Agency  ...                11.88  47      0\n",
              "3  4754    EPX  Travel Agency  ...                 0.00  48      0\n",
              "4  8840    EPX  Travel Agency  ...                 0.00  36      0\n",
              "\n",
              "[5 rows x 11 columns]"
            ]
          },
          "metadata": {
            "tags": []
          },
          "execution_count": 3
        }
      ]
    },
    {
      "cell_type": "code",
      "metadata": {
        "id": "q-AEXn9IUH1O",
        "colab_type": "code",
        "colab": {
          "base_uri": "https://localhost:8080/",
          "height": 204
        },
        "outputId": "156d27c5-3a35-4ae0-bf66-4c3ec731bd4f"
      },
      "source": [
        "df_test.head()"
      ],
      "execution_count": 4,
      "outputs": [
        {
          "output_type": "execute_result",
          "data": {
            "text/html": [
              "<div>\n",
              "<style scoped>\n",
              "    .dataframe tbody tr th:only-of-type {\n",
              "        vertical-align: middle;\n",
              "    }\n",
              "\n",
              "    .dataframe tbody tr th {\n",
              "        vertical-align: top;\n",
              "    }\n",
              "\n",
              "    .dataframe thead th {\n",
              "        text-align: right;\n",
              "    }\n",
              "</style>\n",
              "<table border=\"1\" class=\"dataframe\">\n",
              "  <thead>\n",
              "    <tr style=\"text-align: right;\">\n",
              "      <th></th>\n",
              "      <th>ID</th>\n",
              "      <th>Agency</th>\n",
              "      <th>Agency Type</th>\n",
              "      <th>Distribution Channel</th>\n",
              "      <th>Product Name</th>\n",
              "      <th>Duration</th>\n",
              "      <th>Destination</th>\n",
              "      <th>Net Sales</th>\n",
              "      <th>Commision (in value)</th>\n",
              "      <th>Age</th>\n",
              "    </tr>\n",
              "  </thead>\n",
              "  <tbody>\n",
              "    <tr>\n",
              "      <th>0</th>\n",
              "      <td>17631</td>\n",
              "      <td>EPX</td>\n",
              "      <td>Travel Agency</td>\n",
              "      <td>Online</td>\n",
              "      <td>Cancellation Plan</td>\n",
              "      <td>192</td>\n",
              "      <td>HONG KONG</td>\n",
              "      <td>18.0</td>\n",
              "      <td>0.00</td>\n",
              "      <td>36</td>\n",
              "    </tr>\n",
              "    <tr>\n",
              "      <th>1</th>\n",
              "      <td>15064</td>\n",
              "      <td>EPX</td>\n",
              "      <td>Travel Agency</td>\n",
              "      <td>Online</td>\n",
              "      <td>1 way Comprehensive Plan</td>\n",
              "      <td>2</td>\n",
              "      <td>SINGAPORE</td>\n",
              "      <td>20.0</td>\n",
              "      <td>0.00</td>\n",
              "      <td>36</td>\n",
              "    </tr>\n",
              "    <tr>\n",
              "      <th>2</th>\n",
              "      <td>14139</td>\n",
              "      <td>C2B</td>\n",
              "      <td>Airlines</td>\n",
              "      <td>Online</td>\n",
              "      <td>Bronze Plan</td>\n",
              "      <td>13</td>\n",
              "      <td>SINGAPORE</td>\n",
              "      <td>13.5</td>\n",
              "      <td>3.38</td>\n",
              "      <td>24</td>\n",
              "    </tr>\n",
              "    <tr>\n",
              "      <th>3</th>\n",
              "      <td>19754</td>\n",
              "      <td>EPX</td>\n",
              "      <td>Travel Agency</td>\n",
              "      <td>Online</td>\n",
              "      <td>2 way Comprehensive Plan</td>\n",
              "      <td>133</td>\n",
              "      <td>TAIWAN, PROVINCE OF CHINA</td>\n",
              "      <td>41.0</td>\n",
              "      <td>0.00</td>\n",
              "      <td>36</td>\n",
              "    </tr>\n",
              "    <tr>\n",
              "      <th>4</th>\n",
              "      <td>16439</td>\n",
              "      <td>C2B</td>\n",
              "      <td>Airlines</td>\n",
              "      <td>Online</td>\n",
              "      <td>Silver Plan</td>\n",
              "      <td>2</td>\n",
              "      <td>SINGAPORE</td>\n",
              "      <td>30.0</td>\n",
              "      <td>7.50</td>\n",
              "      <td>32</td>\n",
              "    </tr>\n",
              "  </tbody>\n",
              "</table>\n",
              "</div>"
            ],
            "text/plain": [
              "      ID Agency    Agency Type  ... Net Sales Commision (in value)  Age\n",
              "0  17631    EPX  Travel Agency  ...      18.0                 0.00   36\n",
              "1  15064    EPX  Travel Agency  ...      20.0                 0.00   36\n",
              "2  14139    C2B       Airlines  ...      13.5                 3.38   24\n",
              "3  19754    EPX  Travel Agency  ...      41.0                 0.00   36\n",
              "4  16439    C2B       Airlines  ...      30.0                 7.50   32\n",
              "\n",
              "[5 rows x 10 columns]"
            ]
          },
          "metadata": {
            "tags": []
          },
          "execution_count": 4
        }
      ]
    },
    {
      "cell_type": "markdown",
      "metadata": {
        "id": "HIpfxonoWFN9",
        "colab_type": "text"
      },
      "source": [
        "First, lets check all the categorical features and understand how many categories we have"
      ]
    },
    {
      "cell_type": "code",
      "metadata": {
        "id": "DUslFxiBUNVd",
        "colab_type": "code",
        "colab": {
          "base_uri": "https://localhost:8080/",
          "height": 306
        },
        "outputId": "e017765a-6ee0-4fc9-d751-d6df0ec15aa7"
      },
      "source": [
        "df_train['Agency'].value_counts()"
      ],
      "execution_count": 5,
      "outputs": [
        {
          "output_type": "execute_result",
          "data": {
            "text/plain": [
              "EPX    26218\n",
              "C2B    10615\n",
              "CWT     6813\n",
              "JZI     4619\n",
              "LWC      806\n",
              "SSI      780\n",
              "JWT      550\n",
              "RAB      527\n",
              "TST      394\n",
              "KML      313\n",
              "ART      223\n",
              "CCR      156\n",
              "TTW      104\n",
              "CBH       76\n",
              "CSR       60\n",
              "ADM       56\n",
              "Name: Agency, dtype: int64"
            ]
          },
          "metadata": {
            "tags": []
          },
          "execution_count": 5
        }
      ]
    },
    {
      "cell_type": "markdown",
      "metadata": {
        "id": "lrk58viwZQ9E",
        "colab_type": "text"
      },
      "source": [
        "We have 16 agencies, distributed among Travel Agency and Airlines types an functioning among online and offline channels. Lets check the distribution of agencies among agency types and distribution channels"
      ]
    },
    {
      "cell_type": "code",
      "metadata": {
        "id": "6TN3EUNfZAAt",
        "colab_type": "code",
        "colab": {
          "base_uri": "https://localhost:8080/",
          "height": 514
        },
        "outputId": "683ac848-6f85-4d59-f5d5-26ba6a5b6b86"
      },
      "source": [
        "fig_dims = (12, 8)\n",
        "fig, ax = plt.subplots(figsize=fig_dims)\n",
        "sns.set(style=\"darkgrid\")\n",
        "sns.countplot(x = 'Agency', hue = 'Agency Type', data = df_train, ax = ax)"
      ],
      "execution_count": 6,
      "outputs": [
        {
          "output_type": "execute_result",
          "data": {
            "text/plain": [
              "<matplotlib.axes._subplots.AxesSubplot at 0x7f28732147b8>"
            ]
          },
          "metadata": {
            "tags": []
          },
          "execution_count": 6
        },
        {
          "output_type": "display_data",
          "data": {
            "image/png": "[encoded data removed]",
            "text/plain": [
              "<Figure size 864x576 with 1 Axes>"
            ]
          },
          "metadata": {
            "tags": [],
            "needs_background": "light"
          }
        }
      ]
    },
    {
      "cell_type": "markdown",
      "metadata": {
        "id": "WtB8Wxcqe7h1",
        "colab_type": "text"
      },
      "source": [
        "As seen in the above plot, we have 6 airlines and 10 travel agencies we are dealing with. EXP and CWT amounts to highest numbers among agencies and JZIO and C2B among Airlines. "
      ]
    },
    {
      "cell_type": "code",
      "metadata": {
        "id": "3bSIhC5ReeRy",
        "colab_type": "code",
        "colab": {
          "base_uri": "https://localhost:8080/",
          "height": 519
        },
        "outputId": "ee37189f-da57-4aef-f1f8-850b74172171"
      },
      "source": [
        "fig_dims = (12, 8)\n",
        "fig, ax = plt.subplots(figsize=fig_dims)\n",
        "sns.set(style=\"darkgrid\")\n",
        "sns.countplot(x = 'Agency', hue = 'Distribution Channel', data = df_train, ax = ax)"
      ],
      "execution_count": 7,
      "outputs": [
        {
          "output_type": "execute_result",
          "data": {
            "text/plain": [
              "<matplotlib.axes._subplots.AxesSubplot at 0x7f2872c24e10>"
            ]
          },
          "metadata": {
            "tags": []
          },
          "execution_count": 7
        },
        {
          "output_type": "display_data",
          "data": {
            "image/png": "[encoded data removed]",
            "text/plain": [
              "<Figure size 864x576 with 1 Axes>"
            ]
          },
          "metadata": {
            "tags": []
          }
        }
      ]
    },
    {
      "cell_type": "markdown",
      "metadata": {
        "id": "0GPd0eCbfNIc",
        "colab_type": "text"
      },
      "source": [
        "The baove graph shows how both agencies and airlines are conducting online distribution over offline. Similarly if we check the df_test datast, we will find similar pattern. We can see from the above graphs that the claim ratio is mainly dominated by online distribution and among agencies. Airlines have lower contributions compared to agencies. To confirm this, we will plot the net sales across agency types"
      ]
    },
    {
      "cell_type": "code",
      "metadata": {
        "id": "Xtb3Cyj7g8Un",
        "colab_type": "code",
        "colab": {
          "base_uri": "https://localhost:8080/",
          "height": 382
        },
        "outputId": "d567257b-31c9-40b1-a0cd-f9e5d274f31c"
      },
      "source": [
        "sns.catplot(x=\"Agency Type\", y=\"Net Sales\", data=df_train)"
      ],
      "execution_count": 8,
      "outputs": [
        {
          "output_type": "execute_result",
          "data": {
            "text/plain": [
              "<seaborn.axisgrid.FacetGrid at 0x7f287e474320>"
            ]
          },
          "metadata": {
            "tags": []
          },
          "execution_count": 8
        },
        {
          "output_type": "display_data",
          "data": {
            "image/png": "[encoded data removed]",
            "text/plain": [
              "<Figure size 360x360 with 1 Axes>"
            ]
          },
          "metadata": {
            "tags": []
          }
        }
      ]
    },
    {
      "cell_type": "code",
      "metadata": {
        "id": "tw4Eo5yAjKy4",
        "colab_type": "code",
        "colab": {
          "base_uri": "https://localhost:8080/",
          "height": 382
        },
        "outputId": "92c683b1-e84b-4c65-a972-b846b0c66eb0"
      },
      "source": [
        "sns.catplot(x=\"Agency Type\", y=\"Net Sales\", data=df_test)"
      ],
      "execution_count": 9,
      "outputs": [
        {
          "output_type": "execute_result",
          "data": {
            "text/plain": [
              "<seaborn.axisgrid.FacetGrid at 0x7f287e474940>"
            ]
          },
          "metadata": {
            "tags": []
          },
          "execution_count": 9
        },
        {
          "output_type": "display_data",
          "data": {
            "image/png": "[encoded data removed]",
            "text/plain": [
              "<Figure size 360x360 with 1 Axes>"
            ]
          },
          "metadata": {
            "tags": []
          }
        }
      ]
    },
    {
      "cell_type": "markdown",
      "metadata": {
        "id": "uPqwEIZCkC9t",
        "colab_type": "text"
      },
      "source": [
        "As seen in both the charts above, Airlines have higher number of sales compared to agencies. Airlines also tend to make high value sales "
      ]
    },
    {
      "cell_type": "code",
      "metadata": {
        "id": "Wn01-URqj_wg",
        "colab_type": "code",
        "colab": {
          "base_uri": "https://localhost:8080/",
          "height": 382
        },
        "outputId": "02618608-4788-4139-bb75-cd6c2b23a5e4"
      },
      "source": [
        "sns.catplot(x=\"Agency Type\", y=\"Commision (in value)\", data=df_train)"
      ],
      "execution_count": 10,
      "outputs": [
        {
          "output_type": "execute_result",
          "data": {
            "text/plain": [
              "<seaborn.axisgrid.FacetGrid at 0x7f28700bd5c0>"
            ]
          },
          "metadata": {
            "tags": []
          },
          "execution_count": 10
        },
        {
          "output_type": "display_data",
          "data": {
            "image/png": "[encoded data removed]",
            "text/plain": [
              "<Figure size 360x360 with 1 Axes>"
            ]
          },
          "metadata": {
            "tags": []
          }
        }
      ]
    },
    {
      "cell_type": "code",
      "metadata": {
        "id": "5x_bz175m8GU",
        "colab_type": "code",
        "colab": {
          "base_uri": "https://localhost:8080/",
          "height": 85
        },
        "outputId": "b7a3e770-df6b-4609-e3e5-99c5827902de"
      },
      "source": [
        "df_train.columns"
      ],
      "execution_count": 11,
      "outputs": [
        {
          "output_type": "execute_result",
          "data": {
            "text/plain": [
              "Index(['ID', 'Agency', 'Agency Type', 'Distribution Channel', 'Product Name',\n",
              "       'Duration', 'Destination', 'Net Sales', 'Commision (in value)', 'Age',\n",
              "       'Claim'],\n",
              "      dtype='object')"
            ]
          },
          "metadata": {
            "tags": []
          },
          "execution_count": 11
        }
      ]
    },
    {
      "cell_type": "code",
      "metadata": {
        "id": "GaNb2aVVrL_2",
        "colab_type": "code",
        "colab": {
          "base_uri": "https://localhost:8080/",
          "height": 519
        },
        "outputId": "a8bc38a0-79c5-4a29-8d55-37e5a51fd8c4"
      },
      "source": [
        "fig_dims = (12, 8)\n",
        "fig, ax = plt.subplots(figsize=fig_dims)\n",
        "sns.set(style=\"darkgrid\")\n",
        "sns.countplot(x = 'Agency', hue = 'Claim', data = df_train, ax = ax)"
      ],
      "execution_count": 12,
      "outputs": [
        {
          "output_type": "execute_result",
          "data": {
            "text/plain": [
              "<matplotlib.axes._subplots.AxesSubplot at 0x7f2872b3fef0>"
            ]
          },
          "metadata": {
            "tags": []
          },
          "execution_count": 12
        },
        {
          "output_type": "display_data",
          "data": {
            "image/png": "[encoded data removed]",
            "text/plain": [
              "<Figure size 864x576 with 1 Axes>"
            ]
          },
          "metadata": {
            "tags": []
          }
        }
      ]
    },
    {
      "cell_type": "markdown",
      "metadata": {
        "id": "nnfzAlzuk-zz",
        "colab_type": "text"
      },
      "source": [
        "However, if we look at comissions, agengies tend to make a lot more than the airlines. Lets check the cliam ratio acorss features"
      ]
    },
    {
      "cell_type": "code",
      "metadata": {
        "id": "qqWY_c3OrRD7",
        "colab_type": "code",
        "colab": {
          "base_uri": "https://localhost:8080/",
          "height": 519
        },
        "outputId": "59efb88e-b9a0-43e9-b72e-17c9fecee368"
      },
      "source": [
        "fig_dims = (12, 8)\n",
        "fig, ax = plt.subplots(figsize=fig_dims)\n",
        "sns.set(style=\"darkgrid\")\n",
        "sns.countplot(x = 'Distribution Channel', hue = 'Claim', data = df_train, ax = ax)"
      ],
      "execution_count": 13,
      "outputs": [
        {
          "output_type": "execute_result",
          "data": {
            "text/plain": [
              "<matplotlib.axes._subplots.AxesSubplot at 0x7f28702fa780>"
            ]
          },
          "metadata": {
            "tags": []
          },
          "execution_count": 13
        },
        {
          "output_type": "display_data",
          "data": {
            "image/png": "[encoded data removed]",
            "text/plain": [
              "<Figure size 864x576 with 1 Axes>"
            ]
          },
          "metadata": {
            "tags": []
          }
        }
      ]
    },
    {
      "cell_type": "code",
      "metadata": {
        "id": "5rQWTnU1rVDh",
        "colab_type": "code",
        "colab": {
          "base_uri": "https://localhost:8080/",
          "height": 519
        },
        "outputId": "25485121-2083-4f67-a8e9-5c6c9990a331"
      },
      "source": [
        "fig_dims = (12, 8)\n",
        "fig, ax = plt.subplots(figsize=fig_dims)\n",
        "sns.set(style=\"darkgrid\")\n",
        "sns.countplot(x = 'Agency', hue = 'Claim', data = df_train, ax = ax)"
      ],
      "execution_count": 14,
      "outputs": [
        {
          "output_type": "execute_result",
          "data": {
            "text/plain": [
              "<matplotlib.axes._subplots.AxesSubplot at 0x7f28701b84e0>"
            ]
          },
          "metadata": {
            "tags": []
          },
          "execution_count": 14
        },
        {
          "output_type": "display_data",
          "data": {
            "image/png": "[encoded data removed]",
            "text/plain": [
              "<Figure size 864x576 with 1 Axes>"
            ]
          },
          "metadata": {
            "tags": []
          }
        }
      ]
    },
    {
      "cell_type": "markdown",
      "metadata": {
        "id": "G5_swtcIoHDn",
        "colab_type": "text"
      },
      "source": [
        "The above chart shows how the claims rate is higher among airlines and majorly dominated by online distributions. We will also check for claim rates among product type since there are 25 products and the chart wont display all of those accurately"
      ]
    },
    {
      "cell_type": "code",
      "metadata": {
        "id": "PwZlWoE6qWYP",
        "colab_type": "code",
        "colab": {
          "base_uri": "https://localhost:8080/",
          "height": 855
        },
        "outputId": "85ade82e-84c4-4e9d-d2c3-fb8d3a61c5d9"
      },
      "source": [
        "product_claim = pd.pivot_table(df_train,index=[\"Product Name\"],values=[\"Claim\"],aggfunc=np.sum)\n",
        "product_claim.sort_values(by = ['Claim'], ascending = False)"
      ],
      "execution_count": 15,
      "outputs": [
        {
          "output_type": "execute_result",
          "data": {
            "text/html": [
              "<div>\n",
              "<style scoped>\n",
              "    .dataframe tbody tr th:only-of-type {\n",
              "        vertical-align: middle;\n",
              "    }\n",
              "\n",
              "    .dataframe tbody tr th {\n",
              "        vertical-align: top;\n",
              "    }\n",
              "\n",
              "    .dataframe thead th {\n",
              "        text-align: right;\n",
              "    }\n",
              "</style>\n",
              "<table border=\"1\" class=\"dataframe\">\n",
              "  <thead>\n",
              "    <tr style=\"text-align: right;\">\n",
              "      <th></th>\n",
              "      <th>Claim</th>\n",
              "    </tr>\n",
              "    <tr>\n",
              "      <th>Product Name</th>\n",
              "      <th></th>\n",
              "    </tr>\n",
              "  </thead>\n",
              "  <tbody>\n",
              "    <tr>\n",
              "      <th>Bronze Plan</th>\n",
              "      <td>2020</td>\n",
              "    </tr>\n",
              "    <tr>\n",
              "      <th>2 way Comprehensive Plan</th>\n",
              "      <td>1457</td>\n",
              "    </tr>\n",
              "    <tr>\n",
              "      <th>Annual Silver Plan</th>\n",
              "      <td>1451</td>\n",
              "    </tr>\n",
              "    <tr>\n",
              "      <th>Silver Plan</th>\n",
              "      <td>1384</td>\n",
              "    </tr>\n",
              "    <tr>\n",
              "      <th>Rental Vehicle Excess Insurance</th>\n",
              "      <td>848</td>\n",
              "    </tr>\n",
              "    <tr>\n",
              "      <th>Cancellation Plan</th>\n",
              "      <td>355</td>\n",
              "    </tr>\n",
              "    <tr>\n",
              "      <th>Basic Plan</th>\n",
              "      <td>246</td>\n",
              "    </tr>\n",
              "    <tr>\n",
              "      <th>Annual Gold Plan</th>\n",
              "      <td>172</td>\n",
              "    </tr>\n",
              "    <tr>\n",
              "      <th>Gold Plan</th>\n",
              "      <td>143</td>\n",
              "    </tr>\n",
              "    <tr>\n",
              "      <th>Single Trip Travel Protect Gold</th>\n",
              "      <td>121</td>\n",
              "    </tr>\n",
              "    <tr>\n",
              "      <th>Annual Travel Protect Gold</th>\n",
              "      <td>120</td>\n",
              "    </tr>\n",
              "    <tr>\n",
              "      <th>Value Plan</th>\n",
              "      <td>94</td>\n",
              "    </tr>\n",
              "    <tr>\n",
              "      <th>1 way Comprehensive Plan</th>\n",
              "      <td>68</td>\n",
              "    </tr>\n",
              "    <tr>\n",
              "      <th>Ticket Protector</th>\n",
              "      <td>57</td>\n",
              "    </tr>\n",
              "    <tr>\n",
              "      <th>Single Trip Travel Protect Platinum</th>\n",
              "      <td>50</td>\n",
              "    </tr>\n",
              "    <tr>\n",
              "      <th>Individual Comprehensive Plan</th>\n",
              "      <td>37</td>\n",
              "    </tr>\n",
              "    <tr>\n",
              "      <th>Annual Travel Protect Silver</th>\n",
              "      <td>31</td>\n",
              "    </tr>\n",
              "    <tr>\n",
              "      <th>Travel Cruise Protect</th>\n",
              "      <td>21</td>\n",
              "    </tr>\n",
              "    <tr>\n",
              "      <th>Single Trip Travel Protect Silver</th>\n",
              "      <td>16</td>\n",
              "    </tr>\n",
              "    <tr>\n",
              "      <th>Annual Travel Protect Platinum</th>\n",
              "      <td>14</td>\n",
              "    </tr>\n",
              "    <tr>\n",
              "      <th>Comprehensive Plan</th>\n",
              "      <td>12</td>\n",
              "    </tr>\n",
              "    <tr>\n",
              "      <th>Premier Plan</th>\n",
              "      <td>2</td>\n",
              "    </tr>\n",
              "    <tr>\n",
              "      <th>Spouse or Parents Comprehensive Plan</th>\n",
              "      <td>1</td>\n",
              "    </tr>\n",
              "    <tr>\n",
              "      <th>Child Comprehensive Plan</th>\n",
              "      <td>0</td>\n",
              "    </tr>\n",
              "    <tr>\n",
              "      <th>24 Protect</th>\n",
              "      <td>0</td>\n",
              "    </tr>\n",
              "  </tbody>\n",
              "</table>\n",
              "</div>"
            ],
            "text/plain": [
              "                                      Claim\n",
              "Product Name                               \n",
              "Bronze Plan                            2020\n",
              "2 way Comprehensive Plan               1457\n",
              "Annual Silver Plan                     1451\n",
              "Silver Plan                            1384\n",
              "Rental Vehicle Excess Insurance         848\n",
              "Cancellation Plan                       355\n",
              "Basic Plan                              246\n",
              "Annual Gold Plan                        172\n",
              "Gold Plan                               143\n",
              "Single Trip Travel Protect Gold         121\n",
              "Annual Travel Protect Gold              120\n",
              "Value Plan                               94\n",
              "1 way Comprehensive Plan                 68\n",
              "Ticket Protector                         57\n",
              "Single Trip Travel Protect Platinum      50\n",
              "Individual Comprehensive Plan            37\n",
              "Annual Travel Protect Silver             31\n",
              "Travel Cruise Protect                    21\n",
              "Single Trip Travel Protect Silver        16\n",
              "Annual Travel Protect Platinum           14\n",
              "Comprehensive Plan                       12\n",
              "Premier Plan                              2\n",
              "Spouse or Parents Comprehensive Plan      1\n",
              "Child Comprehensive Plan                  0\n",
              "24 Protect                                0"
            ]
          },
          "metadata": {
            "tags": []
          },
          "execution_count": 15
        }
      ]
    },
    {
      "cell_type": "markdown",
      "metadata": {
        "id": "NCa3QdBptUVv",
        "colab_type": "text"
      },
      "source": [
        "The Above pivot table shows descending order of clims per product. Bronze Plan, 2 way Comprehensive Plan, Annual Silver Plan, Silver Plan, Rental Vehicle Excess Insurance amounts to over 82% of insurance claims. Lets also check the same for destinations to see which countries amounts to highest claims"
      ]
    },
    {
      "cell_type": "code",
      "metadata": {
        "id": "a9j_ygtDtTW6",
        "colab_type": "code",
        "colab": {
          "base_uri": "https://localhost:8080/",
          "height": 450
        },
        "outputId": "5b40e379-7f78-4afa-b138-28230ab76dc5"
      },
      "source": [
        "country_claim = pd.pivot_table(df_train,index=[\"Destination\"],values=[\"Claim\"],aggfunc=np.sum)\n",
        "country_claim.sort_values(by = ['Claim'], ascending = False)"
      ],
      "execution_count": 16,
      "outputs": [
        {
          "output_type": "execute_result",
          "data": {
            "text/html": [
              "<div>\n",
              "<style scoped>\n",
              "    .dataframe tbody tr th:only-of-type {\n",
              "        vertical-align: middle;\n",
              "    }\n",
              "\n",
              "    .dataframe tbody tr th {\n",
              "        vertical-align: top;\n",
              "    }\n",
              "\n",
              "    .dataframe thead th {\n",
              "        text-align: right;\n",
              "    }\n",
              "</style>\n",
              "<table border=\"1\" class=\"dataframe\">\n",
              "  <thead>\n",
              "    <tr style=\"text-align: right;\">\n",
              "      <th></th>\n",
              "      <th>Claim</th>\n",
              "    </tr>\n",
              "    <tr>\n",
              "      <th>Destination</th>\n",
              "      <th></th>\n",
              "    </tr>\n",
              "  </thead>\n",
              "  <tbody>\n",
              "    <tr>\n",
              "      <th>SINGAPORE</th>\n",
              "      <td>5306</td>\n",
              "    </tr>\n",
              "    <tr>\n",
              "      <th>CHINA</th>\n",
              "      <td>642</td>\n",
              "    </tr>\n",
              "    <tr>\n",
              "      <th>THAILAND</th>\n",
              "      <td>458</td>\n",
              "    </tr>\n",
              "    <tr>\n",
              "      <th>AUSTRALIA</th>\n",
              "      <td>455</td>\n",
              "    </tr>\n",
              "    <tr>\n",
              "      <th>UNITED STATES</th>\n",
              "      <td>444</td>\n",
              "    </tr>\n",
              "    <tr>\n",
              "      <th>...</th>\n",
              "      <td>...</td>\n",
              "    </tr>\n",
              "    <tr>\n",
              "      <th>IRELAND</th>\n",
              "      <td>0</td>\n",
              "    </tr>\n",
              "    <tr>\n",
              "      <th>HUNGARY</th>\n",
              "      <td>0</td>\n",
              "    </tr>\n",
              "    <tr>\n",
              "      <th>GUAM</th>\n",
              "      <td>0</td>\n",
              "    </tr>\n",
              "    <tr>\n",
              "      <th>GEORGIA</th>\n",
              "      <td>0</td>\n",
              "    </tr>\n",
              "    <tr>\n",
              "      <th>ZAMBIA</th>\n",
              "      <td>0</td>\n",
              "    </tr>\n",
              "  </tbody>\n",
              "</table>\n",
              "<p>97 rows × 1 columns</p>\n",
              "</div>"
            ],
            "text/plain": [
              "               Claim\n",
              "Destination         \n",
              "SINGAPORE       5306\n",
              "CHINA            642\n",
              "THAILAND         458\n",
              "AUSTRALIA        455\n",
              "UNITED STATES    444\n",
              "...              ...\n",
              "IRELAND            0\n",
              "HUNGARY            0\n",
              "GUAM               0\n",
              "GEORGIA            0\n",
              "ZAMBIA             0\n",
              "\n",
              "[97 rows x 1 columns]"
            ]
          },
          "metadata": {
            "tags": []
          },
          "execution_count": 16
        }
      ]
    },
    {
      "cell_type": "markdown",
      "metadata": {
        "id": "duYe57I6Y36U",
        "colab_type": "text"
      },
      "source": [
        "The above pivot shows claims among 97 countries. However 92% claims have occured among top 10 countries : Singapore, China, Thailand, Australia, US, Malaysia, UK, Japan, Korea and Hong Kong. the remaining 87 countries only amounts to 8% claims in our train dataset. The test dataset also shows similar trend\n",
        "\n",
        "We also wish to check distribution of claim rates among different age groups and  duration of flight. FOr that we will have to create separate coulmns for those breaks. We will creat dummies for all categorical variables to have the entire dataset in 0 or 1 values which will be useful and mandatory to execute any preduction models later"
      ]
    },
    {
      "cell_type": "code",
      "metadata": {
        "id": "1x35rebPP1jy",
        "colab_type": "code",
        "colab": {
          "base_uri": "https://localhost:8080/",
          "height": 221
        },
        "outputId": "34dd099f-8233-4c46-bd44-63b22ed419bc"
      },
      "source": [
        "pd.qcut(df_train['Age'], q =4).head(10)"
      ],
      "execution_count": 17,
      "outputs": [
        {
          "output_type": "execute_result",
          "data": {
            "text/plain": [
              "0      (36.0, 43.0]\n",
              "1      (33.0, 36.0]\n",
              "2     (43.0, 118.0]\n",
              "3     (43.0, 118.0]\n",
              "4      (33.0, 36.0]\n",
              "5      (36.0, 43.0]\n",
              "6      (33.0, 36.0]\n",
              "7      (36.0, 43.0]\n",
              "8      (33.0, 36.0]\n",
              "9    (-0.001, 33.0]\n",
              "Name: Age, dtype: category\n",
              "Categories (4, interval[float64]): [(-0.001, 33.0] < (33.0, 36.0] < (36.0, 43.0] < (43.0, 118.0]]"
            ]
          },
          "metadata": {
            "tags": []
          },
          "execution_count": 17
        }
      ]
    },
    {
      "cell_type": "code",
      "metadata": {
        "id": "bWE56hS5Wyae",
        "colab_type": "code",
        "colab": {
          "base_uri": "https://localhost:8080/",
          "height": 204
        },
        "outputId": "e66c2982-4b31-4dc7-cde1-bf88d4147d68"
      },
      "source": [
        "df_train['Age_band'] = pd.qcut(df_train.Age, q=4, labels=['<33', '33-36','36-43', '<43']) \n",
        "df_train.head()"
      ],
      "execution_count": 18,
      "outputs": [
        {
          "output_type": "execute_result",
          "data": {
            "text/html": [
              "<div>\n",
              "<style scoped>\n",
              "    .dataframe tbody tr th:only-of-type {\n",
              "        vertical-align: middle;\n",
              "    }\n",
              "\n",
              "    .dataframe tbody tr th {\n",
              "        vertical-align: top;\n",
              "    }\n",
              "\n",
              "    .dataframe thead th {\n",
              "        text-align: right;\n",
              "    }\n",
              "</style>\n",
              "<table border=\"1\" class=\"dataframe\">\n",
              "  <thead>\n",
              "    <tr style=\"text-align: right;\">\n",
              "      <th></th>\n",
              "      <th>ID</th>\n",
              "      <th>Agency</th>\n",
              "      <th>Agency Type</th>\n",
              "      <th>Distribution Channel</th>\n",
              "      <th>Product Name</th>\n",
              "      <th>Duration</th>\n",
              "      <th>Destination</th>\n",
              "      <th>Net Sales</th>\n",
              "      <th>Commision (in value)</th>\n",
              "      <th>Age</th>\n",
              "      <th>Claim</th>\n",
              "      <th>Age_band</th>\n",
              "    </tr>\n",
              "  </thead>\n",
              "  <tbody>\n",
              "    <tr>\n",
              "      <th>0</th>\n",
              "      <td>2010</td>\n",
              "      <td>EPX</td>\n",
              "      <td>Travel Agency</td>\n",
              "      <td>Online</td>\n",
              "      <td>Cancellation Plan</td>\n",
              "      <td>61</td>\n",
              "      <td>PHILIPPINES</td>\n",
              "      <td>12.0</td>\n",
              "      <td>0.00</td>\n",
              "      <td>41</td>\n",
              "      <td>0</td>\n",
              "      <td>36-43</td>\n",
              "    </tr>\n",
              "    <tr>\n",
              "      <th>1</th>\n",
              "      <td>4245</td>\n",
              "      <td>EPX</td>\n",
              "      <td>Travel Agency</td>\n",
              "      <td>Online</td>\n",
              "      <td>Cancellation Plan</td>\n",
              "      <td>4</td>\n",
              "      <td>MALAYSIA</td>\n",
              "      <td>17.0</td>\n",
              "      <td>0.00</td>\n",
              "      <td>35</td>\n",
              "      <td>0</td>\n",
              "      <td>33-36</td>\n",
              "    </tr>\n",
              "    <tr>\n",
              "      <th>2</th>\n",
              "      <td>9251</td>\n",
              "      <td>CWT</td>\n",
              "      <td>Travel Agency</td>\n",
              "      <td>Online</td>\n",
              "      <td>Rental Vehicle Excess Insurance</td>\n",
              "      <td>26</td>\n",
              "      <td>THAILAND</td>\n",
              "      <td>19.8</td>\n",
              "      <td>11.88</td>\n",
              "      <td>47</td>\n",
              "      <td>0</td>\n",
              "      <td>&lt;43</td>\n",
              "    </tr>\n",
              "    <tr>\n",
              "      <th>3</th>\n",
              "      <td>4754</td>\n",
              "      <td>EPX</td>\n",
              "      <td>Travel Agency</td>\n",
              "      <td>Online</td>\n",
              "      <td>2 way Comprehensive Plan</td>\n",
              "      <td>15</td>\n",
              "      <td>HONG KONG</td>\n",
              "      <td>27.0</td>\n",
              "      <td>0.00</td>\n",
              "      <td>48</td>\n",
              "      <td>0</td>\n",
              "      <td>&lt;43</td>\n",
              "    </tr>\n",
              "    <tr>\n",
              "      <th>4</th>\n",
              "      <td>8840</td>\n",
              "      <td>EPX</td>\n",
              "      <td>Travel Agency</td>\n",
              "      <td>Online</td>\n",
              "      <td>2 way Comprehensive Plan</td>\n",
              "      <td>15</td>\n",
              "      <td>MALAYSIA</td>\n",
              "      <td>37.0</td>\n",
              "      <td>0.00</td>\n",
              "      <td>36</td>\n",
              "      <td>0</td>\n",
              "      <td>33-36</td>\n",
              "    </tr>\n",
              "  </tbody>\n",
              "</table>\n",
              "</div>"
            ],
            "text/plain": [
              "     ID Agency    Agency Type  ... Age Claim  Age_band\n",
              "0  2010    EPX  Travel Agency  ...  41     0     36-43\n",
              "1  4245    EPX  Travel Agency  ...  35     0     33-36\n",
              "2  9251    CWT  Travel Agency  ...  47     0       <43\n",
              "3  4754    EPX  Travel Agency  ...  48     0       <43\n",
              "4  8840    EPX  Travel Agency  ...  36     0     33-36\n",
              "\n",
              "[5 rows x 12 columns]"
            ]
          },
          "metadata": {
            "tags": []
          },
          "execution_count": 18
        }
      ]
    },
    {
      "cell_type": "code",
      "metadata": {
        "id": "Njv1tIOXXGGj",
        "colab_type": "code",
        "colab": {
          "base_uri": "https://localhost:8080/",
          "height": 102
        },
        "outputId": "ab410a53-b983-453c-db6e-71ee60b8a718"
      },
      "source": [
        "df_train['Age_band'].value_counts()"
      ],
      "execution_count": 19,
      "outputs": [
        {
          "output_type": "execute_result",
          "data": {
            "text/plain": [
              "33-36    20958\n",
              "<33      13157\n",
              "<43      12715\n",
              "36-43     5480\n",
              "Name: Age_band, dtype: int64"
            ]
          },
          "metadata": {
            "tags": []
          },
          "execution_count": 19
        }
      ]
    },
    {
      "cell_type": "code",
      "metadata": {
        "id": "zMgS4rfbR_s_",
        "colab_type": "code",
        "colab": {
          "base_uri": "https://localhost:8080/",
          "height": 221
        },
        "outputId": "298ae177-f07b-4144-8f8f-6b2c45bdc2e0"
      },
      "source": [
        "pd.qcut(df_test['Age'], q =4).head(10)"
      ],
      "execution_count": 20,
      "outputs": [
        {
          "output_type": "execute_result",
          "data": {
            "text/plain": [
              "0     (34.0, 36.0]\n",
              "1     (34.0, 36.0]\n",
              "2    (0.999, 34.0]\n",
              "3     (34.0, 36.0]\n",
              "4    (0.999, 34.0]\n",
              "5     (36.0, 43.0]\n",
              "6     (34.0, 36.0]\n",
              "7    (0.999, 34.0]\n",
              "8    (43.0, 118.0]\n",
              "9     (34.0, 36.0]\n",
              "Name: Age, dtype: category\n",
              "Categories (4, interval[float64]): [(0.999, 34.0] < (34.0, 36.0] < (36.0, 43.0] < (43.0, 118.0]]"
            ]
          },
          "metadata": {
            "tags": []
          },
          "execution_count": 20
        }
      ]
    },
    {
      "cell_type": "code",
      "metadata": {
        "id": "J-MzrekcbZtq",
        "colab_type": "code",
        "colab": {
          "base_uri": "https://localhost:8080/",
          "height": 272
        },
        "outputId": "686964eb-e0ba-43c8-e1da-6fd322840d36"
      },
      "source": [
        "df_test['Age_band'] = pd.qcut(df_test.Age, q=4, labels=['<34', '34-36','36-43', '<43']) \n",
        "df_test.head()"
      ],
      "execution_count": 21,
      "outputs": [
        {
          "output_type": "execute_result",
          "data": {
            "text/html": [
              "<div>\n",
              "<style scoped>\n",
              "    .dataframe tbody tr th:only-of-type {\n",
              "        vertical-align: middle;\n",
              "    }\n",
              "\n",
              "    .dataframe tbody tr th {\n",
              "        vertical-align: top;\n",
              "    }\n",
              "\n",
              "    .dataframe thead th {\n",
              "        text-align: right;\n",
              "    }\n",
              "</style>\n",
              "<table border=\"1\" class=\"dataframe\">\n",
              "  <thead>\n",
              "    <tr style=\"text-align: right;\">\n",
              "      <th></th>\n",
              "      <th>ID</th>\n",
              "      <th>Agency</th>\n",
              "      <th>Agency Type</th>\n",
              "      <th>Distribution Channel</th>\n",
              "      <th>Product Name</th>\n",
              "      <th>Duration</th>\n",
              "      <th>Destination</th>\n",
              "      <th>Net Sales</th>\n",
              "      <th>Commision (in value)</th>\n",
              "      <th>Age</th>\n",
              "      <th>Age_band</th>\n",
              "    </tr>\n",
              "  </thead>\n",
              "  <tbody>\n",
              "    <tr>\n",
              "      <th>0</th>\n",
              "      <td>17631</td>\n",
              "      <td>EPX</td>\n",
              "      <td>Travel Agency</td>\n",
              "      <td>Online</td>\n",
              "      <td>Cancellation Plan</td>\n",
              "      <td>192</td>\n",
              "      <td>HONG KONG</td>\n",
              "      <td>18.0</td>\n",
              "      <td>0.00</td>\n",
              "      <td>36</td>\n",
              "      <td>34-36</td>\n",
              "    </tr>\n",
              "    <tr>\n",
              "      <th>1</th>\n",
              "      <td>15064</td>\n",
              "      <td>EPX</td>\n",
              "      <td>Travel Agency</td>\n",
              "      <td>Online</td>\n",
              "      <td>1 way Comprehensive Plan</td>\n",
              "      <td>2</td>\n",
              "      <td>SINGAPORE</td>\n",
              "      <td>20.0</td>\n",
              "      <td>0.00</td>\n",
              "      <td>36</td>\n",
              "      <td>34-36</td>\n",
              "    </tr>\n",
              "    <tr>\n",
              "      <th>2</th>\n",
              "      <td>14139</td>\n",
              "      <td>C2B</td>\n",
              "      <td>Airlines</td>\n",
              "      <td>Online</td>\n",
              "      <td>Bronze Plan</td>\n",
              "      <td>13</td>\n",
              "      <td>SINGAPORE</td>\n",
              "      <td>13.5</td>\n",
              "      <td>3.38</td>\n",
              "      <td>24</td>\n",
              "      <td>&lt;34</td>\n",
              "    </tr>\n",
              "    <tr>\n",
              "      <th>3</th>\n",
              "      <td>19754</td>\n",
              "      <td>EPX</td>\n",
              "      <td>Travel Agency</td>\n",
              "      <td>Online</td>\n",
              "      <td>2 way Comprehensive Plan</td>\n",
              "      <td>133</td>\n",
              "      <td>TAIWAN, PROVINCE OF CHINA</td>\n",
              "      <td>41.0</td>\n",
              "      <td>0.00</td>\n",
              "      <td>36</td>\n",
              "      <td>34-36</td>\n",
              "    </tr>\n",
              "    <tr>\n",
              "      <th>4</th>\n",
              "      <td>16439</td>\n",
              "      <td>C2B</td>\n",
              "      <td>Airlines</td>\n",
              "      <td>Online</td>\n",
              "      <td>Silver Plan</td>\n",
              "      <td>2</td>\n",
              "      <td>SINGAPORE</td>\n",
              "      <td>30.0</td>\n",
              "      <td>7.50</td>\n",
              "      <td>32</td>\n",
              "      <td>&lt;34</td>\n",
              "    </tr>\n",
              "  </tbody>\n",
              "</table>\n",
              "</div>"
            ],
            "text/plain": [
              "      ID Agency    Agency Type  ... Commision (in value) Age  Age_band\n",
              "0  17631    EPX  Travel Agency  ...                 0.00  36     34-36\n",
              "1  15064    EPX  Travel Agency  ...                 0.00  36     34-36\n",
              "2  14139    C2B       Airlines  ...                 3.38  24       <34\n",
              "3  19754    EPX  Travel Agency  ...                 0.00  36     34-36\n",
              "4  16439    C2B       Airlines  ...                 7.50  32       <34\n",
              "\n",
              "[5 rows x 11 columns]"
            ]
          },
          "metadata": {
            "tags": []
          },
          "execution_count": 21
        }
      ]
    },
    {
      "cell_type": "code",
      "metadata": {
        "id": "3Xke4O7adQ-e",
        "colab_type": "code",
        "colab": {
          "base_uri": "https://localhost:8080/",
          "height": 102
        },
        "outputId": "cce8a4e2-69e8-4fa0-aa07-58284436fd71"
      },
      "source": [
        "df_test['Age_band'].value_counts()"
      ],
      "execution_count": 22,
      "outputs": [
        {
          "output_type": "execute_result",
          "data": {
            "text/plain": [
              "34-36    8630\n",
              "<34      5896\n",
              "<43      5605\n",
              "36-43    2290\n",
              "Name: Age_band, dtype: int64"
            ]
          },
          "metadata": {
            "tags": []
          },
          "execution_count": 22
        }
      ]
    },
    {
      "cell_type": "markdown",
      "metadata": {
        "id": "fzlluJ4CECvf",
        "colab_type": "text"
      },
      "source": [
        "In the above two cells, we created a column as Age_Band and insterted values based on classification in AGe column\n",
        "\n",
        "Lets check the claim numbers based these age bands we created"
      ]
    },
    {
      "cell_type": "code",
      "metadata": {
        "id": "74BlYvQ_C2OA",
        "colab_type": "code",
        "colab": {
          "base_uri": "https://localhost:8080/",
          "height": 519
        },
        "outputId": "c5aae78a-59c8-4319-9421-17470ebe5720"
      },
      "source": [
        "fig_dims = (12, 8)\n",
        "fig, ax = plt.subplots(figsize=fig_dims)\n",
        "sns.set(style=\"darkgrid\")\n",
        "sns.countplot(x = 'Age_band', hue = 'Claim', data = df_train, ax = ax)"
      ],
      "execution_count": 23,
      "outputs": [
        {
          "output_type": "execute_result",
          "data": {
            "text/plain": [
              "<matplotlib.axes._subplots.AxesSubplot at 0x7f287006e358>"
            ]
          },
          "metadata": {
            "tags": []
          },
          "execution_count": 23
        },
        {
          "output_type": "display_data",
          "data": {
            "image/png": "[encoded data removed]",
            "text/plain": [
              "<Figure size 864x576 with 1 Axes>"
            ]
          },
          "metadata": {
            "tags": []
          }
        }
      ]
    },
    {
      "cell_type": "markdown",
      "metadata": {
        "id": "jEfRIz55EOSE",
        "colab_type": "text"
      },
      "source": [
        "The plot shows the highest claims ratio is among 36-43 age group"
      ]
    },
    {
      "cell_type": "code",
      "metadata": {
        "id": "gYJSmiT1r_5e",
        "colab_type": "code",
        "colab": {
          "base_uri": "https://localhost:8080/",
          "height": 221
        },
        "outputId": "b3f345f4-af71-4b72-dd91-2314d291e29c"
      },
      "source": [
        "pd.qcut(df_train['Duration'], q =4).head(10)"
      ],
      "execution_count": 24,
      "outputs": [
        {
          "output_type": "execute_result",
          "data": {
            "text/plain": [
              "0    (57.0, 4881.0]\n",
              "1    (-2.001, 10.0]\n",
              "2      (24.0, 57.0]\n",
              "3      (10.0, 24.0]\n",
              "4      (10.0, 24.0]\n",
              "5    (-2.001, 10.0]\n",
              "6    (57.0, 4881.0]\n",
              "7      (24.0, 57.0]\n",
              "8      (10.0, 24.0]\n",
              "9    (-2.001, 10.0]\n",
              "Name: Duration, dtype: category\n",
              "Categories (4, interval[float64]): [(-2.001, 10.0] < (10.0, 24.0] < (24.0, 57.0] < (57.0, 4881.0]]"
            ]
          },
          "metadata": {
            "tags": []
          },
          "execution_count": 24
        }
      ]
    },
    {
      "cell_type": "code",
      "metadata": {
        "id": "2OYRwgGKsr2c",
        "colab_type": "code",
        "colab": {
          "base_uri": "https://localhost:8080/",
          "height": 306
        },
        "outputId": "c04b6f9d-12d5-49fe-f58a-2ab68c35a82f"
      },
      "source": [
        "df_train['Duration_interval'] = pd.qcut(df_train.Duration, q=4, labels=['<10', '10-24','24-57', '<57']) \n",
        "df_train.head()"
      ],
      "execution_count": 25,
      "outputs": [
        {
          "output_type": "execute_result",
          "data": {
            "text/html": [
              "<div>\n",
              "<style scoped>\n",
              "    .dataframe tbody tr th:only-of-type {\n",
              "        vertical-align: middle;\n",
              "    }\n",
              "\n",
              "    .dataframe tbody tr th {\n",
              "        vertical-align: top;\n",
              "    }\n",
              "\n",
              "    .dataframe thead th {\n",
              "        text-align: right;\n",
              "    }\n",
              "</style>\n",
              "<table border=\"1\" class=\"dataframe\">\n",
              "  <thead>\n",
              "    <tr style=\"text-align: right;\">\n",
              "      <th></th>\n",
              "      <th>ID</th>\n",
              "      <th>Agency</th>\n",
              "      <th>Agency Type</th>\n",
              "      <th>Distribution Channel</th>\n",
              "      <th>Product Name</th>\n",
              "      <th>Duration</th>\n",
              "      <th>Destination</th>\n",
              "      <th>Net Sales</th>\n",
              "      <th>Commision (in value)</th>\n",
              "      <th>Age</th>\n",
              "      <th>Claim</th>\n",
              "      <th>Age_band</th>\n",
              "      <th>Duration_interval</th>\n",
              "    </tr>\n",
              "  </thead>\n",
              "  <tbody>\n",
              "    <tr>\n",
              "      <th>0</th>\n",
              "      <td>2010</td>\n",
              "      <td>EPX</td>\n",
              "      <td>Travel Agency</td>\n",
              "      <td>Online</td>\n",
              "      <td>Cancellation Plan</td>\n",
              "      <td>61</td>\n",
              "      <td>PHILIPPINES</td>\n",
              "      <td>12.0</td>\n",
              "      <td>0.00</td>\n",
              "      <td>41</td>\n",
              "      <td>0</td>\n",
              "      <td>36-43</td>\n",
              "      <td>&lt;57</td>\n",
              "    </tr>\n",
              "    <tr>\n",
              "      <th>1</th>\n",
              "      <td>4245</td>\n",
              "      <td>EPX</td>\n",
              "      <td>Travel Agency</td>\n",
              "      <td>Online</td>\n",
              "      <td>Cancellation Plan</td>\n",
              "      <td>4</td>\n",
              "      <td>MALAYSIA</td>\n",
              "      <td>17.0</td>\n",
              "      <td>0.00</td>\n",
              "      <td>35</td>\n",
              "      <td>0</td>\n",
              "      <td>33-36</td>\n",
              "      <td>&lt;10</td>\n",
              "    </tr>\n",
              "    <tr>\n",
              "      <th>2</th>\n",
              "      <td>9251</td>\n",
              "      <td>CWT</td>\n",
              "      <td>Travel Agency</td>\n",
              "      <td>Online</td>\n",
              "      <td>Rental Vehicle Excess Insurance</td>\n",
              "      <td>26</td>\n",
              "      <td>THAILAND</td>\n",
              "      <td>19.8</td>\n",
              "      <td>11.88</td>\n",
              "      <td>47</td>\n",
              "      <td>0</td>\n",
              "      <td>&lt;43</td>\n",
              "      <td>24-57</td>\n",
              "    </tr>\n",
              "    <tr>\n",
              "      <th>3</th>\n",
              "      <td>4754</td>\n",
              "      <td>EPX</td>\n",
              "      <td>Travel Agency</td>\n",
              "      <td>Online</td>\n",
              "      <td>2 way Comprehensive Plan</td>\n",
              "      <td>15</td>\n",
              "      <td>HONG KONG</td>\n",
              "      <td>27.0</td>\n",
              "      <td>0.00</td>\n",
              "      <td>48</td>\n",
              "      <td>0</td>\n",
              "      <td>&lt;43</td>\n",
              "      <td>10-24</td>\n",
              "    </tr>\n",
              "    <tr>\n",
              "      <th>4</th>\n",
              "      <td>8840</td>\n",
              "      <td>EPX</td>\n",
              "      <td>Travel Agency</td>\n",
              "      <td>Online</td>\n",
              "      <td>2 way Comprehensive Plan</td>\n",
              "      <td>15</td>\n",
              "      <td>MALAYSIA</td>\n",
              "      <td>37.0</td>\n",
              "      <td>0.00</td>\n",
              "      <td>36</td>\n",
              "      <td>0</td>\n",
              "      <td>33-36</td>\n",
              "      <td>10-24</td>\n",
              "    </tr>\n",
              "  </tbody>\n",
              "</table>\n",
              "</div>"
            ],
            "text/plain": [
              "     ID Agency    Agency Type  ... Claim Age_band  Duration_interval\n",
              "0  2010    EPX  Travel Agency  ...     0    36-43                <57\n",
              "1  4245    EPX  Travel Agency  ...     0    33-36                <10\n",
              "2  9251    CWT  Travel Agency  ...     0      <43              24-57\n",
              "3  4754    EPX  Travel Agency  ...     0      <43              10-24\n",
              "4  8840    EPX  Travel Agency  ...     0    33-36              10-24\n",
              "\n",
              "[5 rows x 13 columns]"
            ]
          },
          "metadata": {
            "tags": []
          },
          "execution_count": 25
        }
      ]
    },
    {
      "cell_type": "code",
      "metadata": {
        "id": "tT8oczDztGnq",
        "colab_type": "code",
        "colab": {
          "base_uri": "https://localhost:8080/",
          "height": 102
        },
        "outputId": "ff6df209-ef68-4cfa-a40c-812f6a7ec58e"
      },
      "source": [
        "df_train['Duration_interval'].value_counts()"
      ],
      "execution_count": 26,
      "outputs": [
        {
          "output_type": "execute_result",
          "data": {
            "text/plain": [
              "<10      13659\n",
              "<57      13059\n",
              "24-57    12800\n",
              "10-24    12792\n",
              "Name: Duration_interval, dtype: int64"
            ]
          },
          "metadata": {
            "tags": []
          },
          "execution_count": 26
        }
      ]
    },
    {
      "cell_type": "code",
      "metadata": {
        "id": "RLVgz_RbJyqU",
        "colab_type": "code",
        "colab": {
          "base_uri": "https://localhost:8080/",
          "height": 519
        },
        "outputId": "a6d688d0-f5ee-4361-f19b-f4da99b5e379"
      },
      "source": [
        "fig_dims = (12, 8)\n",
        "fig, ax = plt.subplots(figsize=fig_dims)\n",
        "sns.set(style=\"darkgrid\")\n",
        "sns.countplot(x = 'Duration_interval', hue = 'Claim', data = df_train, ax = ax)"
      ],
      "execution_count": 27,
      "outputs": [
        {
          "output_type": "execute_result",
          "data": {
            "text/plain": [
              "<matplotlib.axes._subplots.AxesSubplot at 0x7f2870059cc0>"
            ]
          },
          "metadata": {
            "tags": []
          },
          "execution_count": 27
        },
        {
          "output_type": "display_data",
          "data": {
            "image/png": "[encoded data removed]",
            "text/plain": [
              "<Figure size 864x576 with 1 Axes>"
            ]
          },
          "metadata": {
            "tags": []
          }
        }
      ]
    },
    {
      "cell_type": "code",
      "metadata": {
        "id": "1f3oEtuCuxxU",
        "colab_type": "code",
        "colab": {
          "base_uri": "https://localhost:8080/",
          "height": 272
        },
        "outputId": "4697e916-54ab-4d8b-c256-e666ddbfeb1e"
      },
      "source": [
        "pd.qcut(df_test['Duration'], q =4).head(10)\n",
        "df_test['Duration_interval'] = pd.qcut(df_test.Duration, q=4, labels=['<10', '10-24','24-57', '<57']) \n",
        "df_test.head()"
      ],
      "execution_count": 28,
      "outputs": [
        {
          "output_type": "execute_result",
          "data": {
            "text/html": [
              "<div>\n",
              "<style scoped>\n",
              "    .dataframe tbody tr th:only-of-type {\n",
              "        vertical-align: middle;\n",
              "    }\n",
              "\n",
              "    .dataframe tbody tr th {\n",
              "        vertical-align: top;\n",
              "    }\n",
              "\n",
              "    .dataframe thead th {\n",
              "        text-align: right;\n",
              "    }\n",
              "</style>\n",
              "<table border=\"1\" class=\"dataframe\">\n",
              "  <thead>\n",
              "    <tr style=\"text-align: right;\">\n",
              "      <th></th>\n",
              "      <th>ID</th>\n",
              "      <th>Agency</th>\n",
              "      <th>Agency Type</th>\n",
              "      <th>Distribution Channel</th>\n",
              "      <th>Product Name</th>\n",
              "      <th>Duration</th>\n",
              "      <th>Destination</th>\n",
              "      <th>Net Sales</th>\n",
              "      <th>Commision (in value)</th>\n",
              "      <th>Age</th>\n",
              "      <th>Age_band</th>\n",
              "      <th>Duration_interval</th>\n",
              "    </tr>\n",
              "  </thead>\n",
              "  <tbody>\n",
              "    <tr>\n",
              "      <th>0</th>\n",
              "      <td>17631</td>\n",
              "      <td>EPX</td>\n",
              "      <td>Travel Agency</td>\n",
              "      <td>Online</td>\n",
              "      <td>Cancellation Plan</td>\n",
              "      <td>192</td>\n",
              "      <td>HONG KONG</td>\n",
              "      <td>18.0</td>\n",
              "      <td>0.00</td>\n",
              "      <td>36</td>\n",
              "      <td>34-36</td>\n",
              "      <td>&lt;57</td>\n",
              "    </tr>\n",
              "    <tr>\n",
              "      <th>1</th>\n",
              "      <td>15064</td>\n",
              "      <td>EPX</td>\n",
              "      <td>Travel Agency</td>\n",
              "      <td>Online</td>\n",
              "      <td>1 way Comprehensive Plan</td>\n",
              "      <td>2</td>\n",
              "      <td>SINGAPORE</td>\n",
              "      <td>20.0</td>\n",
              "      <td>0.00</td>\n",
              "      <td>36</td>\n",
              "      <td>34-36</td>\n",
              "      <td>&lt;10</td>\n",
              "    </tr>\n",
              "    <tr>\n",
              "      <th>2</th>\n",
              "      <td>14139</td>\n",
              "      <td>C2B</td>\n",
              "      <td>Airlines</td>\n",
              "      <td>Online</td>\n",
              "      <td>Bronze Plan</td>\n",
              "      <td>13</td>\n",
              "      <td>SINGAPORE</td>\n",
              "      <td>13.5</td>\n",
              "      <td>3.38</td>\n",
              "      <td>24</td>\n",
              "      <td>&lt;34</td>\n",
              "      <td>10-24</td>\n",
              "    </tr>\n",
              "    <tr>\n",
              "      <th>3</th>\n",
              "      <td>19754</td>\n",
              "      <td>EPX</td>\n",
              "      <td>Travel Agency</td>\n",
              "      <td>Online</td>\n",
              "      <td>2 way Comprehensive Plan</td>\n",
              "      <td>133</td>\n",
              "      <td>TAIWAN, PROVINCE OF CHINA</td>\n",
              "      <td>41.0</td>\n",
              "      <td>0.00</td>\n",
              "      <td>36</td>\n",
              "      <td>34-36</td>\n",
              "      <td>&lt;57</td>\n",
              "    </tr>\n",
              "    <tr>\n",
              "      <th>4</th>\n",
              "      <td>16439</td>\n",
              "      <td>C2B</td>\n",
              "      <td>Airlines</td>\n",
              "      <td>Online</td>\n",
              "      <td>Silver Plan</td>\n",
              "      <td>2</td>\n",
              "      <td>SINGAPORE</td>\n",
              "      <td>30.0</td>\n",
              "      <td>7.50</td>\n",
              "      <td>32</td>\n",
              "      <td>&lt;34</td>\n",
              "      <td>&lt;10</td>\n",
              "    </tr>\n",
              "  </tbody>\n",
              "</table>\n",
              "</div>"
            ],
            "text/plain": [
              "      ID Agency    Agency Type  ... Age Age_band  Duration_interval\n",
              "0  17631    EPX  Travel Agency  ...  36    34-36                <57\n",
              "1  15064    EPX  Travel Agency  ...  36    34-36                <10\n",
              "2  14139    C2B       Airlines  ...  24      <34              10-24\n",
              "3  19754    EPX  Travel Agency  ...  36    34-36                <57\n",
              "4  16439    C2B       Airlines  ...  32      <34                <10\n",
              "\n",
              "[5 rows x 12 columns]"
            ]
          },
          "metadata": {
            "tags": []
          },
          "execution_count": 28
        }
      ]
    },
    {
      "cell_type": "code",
      "metadata": {
        "id": "WLJVn1DPu7sL",
        "colab_type": "code",
        "colab": {
          "base_uri": "https://localhost:8080/",
          "height": 102
        },
        "outputId": "b78b9850-a9e5-4464-cf2a-1cfeeb80e37a"
      },
      "source": [
        "df_test['Duration_interval'].value_counts()"
      ],
      "execution_count": 29,
      "outputs": [
        {
          "output_type": "execute_result",
          "data": {
            "text/plain": [
              "<10      5849\n",
              "24-57    5532\n",
              "<57      5524\n",
              "10-24    5516\n",
              "Name: Duration_interval, dtype: int64"
            ]
          },
          "metadata": {
            "tags": []
          },
          "execution_count": 29
        }
      ]
    },
    {
      "cell_type": "code",
      "metadata": {
        "id": "MpeIOJiNtRNh",
        "colab_type": "code",
        "colab": {}
      },
      "source": [
        "df_train = df_train.rename({'Commision (in value)' : 'Comission'}, axis = 'columns')\n",
        "df_test = df_test.rename({'Commision (in value)' : 'Comission'}, axis = 'columns')\n",
        "df_train = df_train.rename({'Net Sales' : 'Net_Sales'}, axis = 'columns')\n",
        "df_test = df_test.rename({'Net Sales' : 'Net_Sales'}, axis = 'columns')"
      ],
      "execution_count": 30,
      "outputs": []
    },
    {
      "cell_type": "code",
      "metadata": {
        "id": "yFuMLu60FFmO",
        "colab_type": "code",
        "colab": {
          "base_uri": "https://localhost:8080/",
          "height": 306
        },
        "outputId": "e00b6626-48e2-4c1b-ca8c-f0169890f115"
      },
      "source": [
        "df_train.head()"
      ],
      "execution_count": 31,
      "outputs": [
        {
          "output_type": "execute_result",
          "data": {
            "text/html": [
              "<div>\n",
              "<style scoped>\n",
              "    .dataframe tbody tr th:only-of-type {\n",
              "        vertical-align: middle;\n",
              "    }\n",
              "\n",
              "    .dataframe tbody tr th {\n",
              "        vertical-align: top;\n",
              "    }\n",
              "\n",
              "    .dataframe thead th {\n",
              "        text-align: right;\n",
              "    }\n",
              "</style>\n",
              "<table border=\"1\" class=\"dataframe\">\n",
              "  <thead>\n",
              "    <tr style=\"text-align: right;\">\n",
              "      <th></th>\n",
              "      <th>ID</th>\n",
              "      <th>Agency</th>\n",
              "      <th>Agency Type</th>\n",
              "      <th>Distribution Channel</th>\n",
              "      <th>Product Name</th>\n",
              "      <th>Duration</th>\n",
              "      <th>Destination</th>\n",
              "      <th>Net_Sales</th>\n",
              "      <th>Comission</th>\n",
              "      <th>Age</th>\n",
              "      <th>Claim</th>\n",
              "      <th>Age_band</th>\n",
              "      <th>Duration_interval</th>\n",
              "    </tr>\n",
              "  </thead>\n",
              "  <tbody>\n",
              "    <tr>\n",
              "      <th>0</th>\n",
              "      <td>2010</td>\n",
              "      <td>EPX</td>\n",
              "      <td>Travel Agency</td>\n",
              "      <td>Online</td>\n",
              "      <td>Cancellation Plan</td>\n",
              "      <td>61</td>\n",
              "      <td>PHILIPPINES</td>\n",
              "      <td>12.0</td>\n",
              "      <td>0.00</td>\n",
              "      <td>41</td>\n",
              "      <td>0</td>\n",
              "      <td>36-43</td>\n",
              "      <td>&lt;57</td>\n",
              "    </tr>\n",
              "    <tr>\n",
              "      <th>1</th>\n",
              "      <td>4245</td>\n",
              "      <td>EPX</td>\n",
              "      <td>Travel Agency</td>\n",
              "      <td>Online</td>\n",
              "      <td>Cancellation Plan</td>\n",
              "      <td>4</td>\n",
              "      <td>MALAYSIA</td>\n",
              "      <td>17.0</td>\n",
              "      <td>0.00</td>\n",
              "      <td>35</td>\n",
              "      <td>0</td>\n",
              "      <td>33-36</td>\n",
              "      <td>&lt;10</td>\n",
              "    </tr>\n",
              "    <tr>\n",
              "      <th>2</th>\n",
              "      <td>9251</td>\n",
              "      <td>CWT</td>\n",
              "      <td>Travel Agency</td>\n",
              "      <td>Online</td>\n",
              "      <td>Rental Vehicle Excess Insurance</td>\n",
              "      <td>26</td>\n",
              "      <td>THAILAND</td>\n",
              "      <td>19.8</td>\n",
              "      <td>11.88</td>\n",
              "      <td>47</td>\n",
              "      <td>0</td>\n",
              "      <td>&lt;43</td>\n",
              "      <td>24-57</td>\n",
              "    </tr>\n",
              "    <tr>\n",
              "      <th>3</th>\n",
              "      <td>4754</td>\n",
              "      <td>EPX</td>\n",
              "      <td>Travel Agency</td>\n",
              "      <td>Online</td>\n",
              "      <td>2 way Comprehensive Plan</td>\n",
              "      <td>15</td>\n",
              "      <td>HONG KONG</td>\n",
              "      <td>27.0</td>\n",
              "      <td>0.00</td>\n",
              "      <td>48</td>\n",
              "      <td>0</td>\n",
              "      <td>&lt;43</td>\n",
              "      <td>10-24</td>\n",
              "    </tr>\n",
              "    <tr>\n",
              "      <th>4</th>\n",
              "      <td>8840</td>\n",
              "      <td>EPX</td>\n",
              "      <td>Travel Agency</td>\n",
              "      <td>Online</td>\n",
              "      <td>2 way Comprehensive Plan</td>\n",
              "      <td>15</td>\n",
              "      <td>MALAYSIA</td>\n",
              "      <td>37.0</td>\n",
              "      <td>0.00</td>\n",
              "      <td>36</td>\n",
              "      <td>0</td>\n",
              "      <td>33-36</td>\n",
              "      <td>10-24</td>\n",
              "    </tr>\n",
              "  </tbody>\n",
              "</table>\n",
              "</div>"
            ],
            "text/plain": [
              "     ID Agency    Agency Type  ... Claim Age_band  Duration_interval\n",
              "0  2010    EPX  Travel Agency  ...     0    36-43                <57\n",
              "1  4245    EPX  Travel Agency  ...     0    33-36                <10\n",
              "2  9251    CWT  Travel Agency  ...     0      <43              24-57\n",
              "3  4754    EPX  Travel Agency  ...     0      <43              10-24\n",
              "4  8840    EPX  Travel Agency  ...     0    33-36              10-24\n",
              "\n",
              "[5 rows x 13 columns]"
            ]
          },
          "metadata": {
            "tags": []
          },
          "execution_count": 31
        }
      ]
    },
    {
      "cell_type": "code",
      "metadata": {
        "id": "gmaC-zfMFioX",
        "colab_type": "code",
        "colab": {
          "base_uri": "https://localhost:8080/",
          "height": 255
        },
        "outputId": "d2e0e949-8697-4c84-c3fe-9cf6205dbd19"
      },
      "source": [
        "df_train.dtypes"
      ],
      "execution_count": 32,
      "outputs": [
        {
          "output_type": "execute_result",
          "data": {
            "text/plain": [
              "ID                         int64\n",
              "Agency                    object\n",
              "Agency Type               object\n",
              "Distribution Channel      object\n",
              "Product Name              object\n",
              "Duration                   int64\n",
              "Destination               object\n",
              "Net_Sales                float64\n",
              "Comission                float64\n",
              "Age                        int64\n",
              "Claim                      int64\n",
              "Age_band                category\n",
              "Duration_interval       category\n",
              "dtype: object"
            ]
          },
          "metadata": {
            "tags": []
          },
          "execution_count": 32
        }
      ]
    },
    {
      "cell_type": "code",
      "metadata": {
        "id": "3X-VWKVWGb1E",
        "colab_type": "code",
        "colab": {}
      },
      "source": [
        "df_train['Comission'] = df_train['Comission'].astype('int')\n",
        "df_train['Net_Sales'] = df_train['Net_Sales'].astype('object')\n",
        "df_test['Comission'] = df_test['Comission'].astype('int')\n",
        "df_test['Net_Sales'] = df_test['Net_Sales'].astype('object')"
      ],
      "execution_count": 33,
      "outputs": []
    },
    {
      "cell_type": "code",
      "metadata": {
        "id": "81snEPhIHOoK",
        "colab_type": "code",
        "colab": {
          "base_uri": "https://localhost:8080/",
          "height": 221
        },
        "outputId": "2c105951-9b06-479b-c980-9fe003208f42"
      },
      "source": [
        "pd.qcut(df_train['Net_Sales'], q =4).head(10)\n"
      ],
      "execution_count": 34,
      "outputs": [
        {
          "output_type": "execute_result",
          "data": {
            "text/plain": [
              "0    (-389.001, 19.8]\n",
              "1    (-389.001, 19.8]\n",
              "2    (-389.001, 19.8]\n",
              "3        (19.8, 29.5]\n",
              "4        (29.5, 55.0]\n",
              "5        (19.8, 29.5]\n",
              "6       (55.0, 682.0]\n",
              "7        (19.8, 29.5]\n",
              "8        (29.5, 55.0]\n",
              "9        (19.8, 29.5]\n",
              "Name: Net_Sales, dtype: category\n",
              "Categories (4, interval[float64]): [(-389.001, 19.8] < (19.8, 29.5] < (29.5, 55.0] < (55.0, 682.0]]"
            ]
          },
          "metadata": {
            "tags": []
          },
          "execution_count": 34
        }
      ]
    },
    {
      "cell_type": "code",
      "metadata": {
        "id": "2mABdXkZHPfK",
        "colab_type": "code",
        "colab": {
          "base_uri": "https://localhost:8080/",
          "height": 340
        },
        "outputId": "aa09281a-da0d-4fc8-e3e2-4dda951f4ed4"
      },
      "source": [
        "df_train['Net_Sales_Interval'] = pd.qcut(df_train.Net_Sales, q=4, labels=['<20', '20-29','30-55', '<55']) \n",
        "df_train.head()"
      ],
      "execution_count": 35,
      "outputs": [
        {
          "output_type": "execute_result",
          "data": {
            "text/html": [
              "<div>\n",
              "<style scoped>\n",
              "    .dataframe tbody tr th:only-of-type {\n",
              "        vertical-align: middle;\n",
              "    }\n",
              "\n",
              "    .dataframe tbody tr th {\n",
              "        vertical-align: top;\n",
              "    }\n",
              "\n",
              "    .dataframe thead th {\n",
              "        text-align: right;\n",
              "    }\n",
              "</style>\n",
              "<table border=\"1\" class=\"dataframe\">\n",
              "  <thead>\n",
              "    <tr style=\"text-align: right;\">\n",
              "      <th></th>\n",
              "      <th>ID</th>\n",
              "      <th>Agency</th>\n",
              "      <th>Agency Type</th>\n",
              "      <th>Distribution Channel</th>\n",
              "      <th>Product Name</th>\n",
              "      <th>Duration</th>\n",
              "      <th>Destination</th>\n",
              "      <th>Net_Sales</th>\n",
              "      <th>Comission</th>\n",
              "      <th>Age</th>\n",
              "      <th>Claim</th>\n",
              "      <th>Age_band</th>\n",
              "      <th>Duration_interval</th>\n",
              "      <th>Net_Sales_Interval</th>\n",
              "    </tr>\n",
              "  </thead>\n",
              "  <tbody>\n",
              "    <tr>\n",
              "      <th>0</th>\n",
              "      <td>2010</td>\n",
              "      <td>EPX</td>\n",
              "      <td>Travel Agency</td>\n",
              "      <td>Online</td>\n",
              "      <td>Cancellation Plan</td>\n",
              "      <td>61</td>\n",
              "      <td>PHILIPPINES</td>\n",
              "      <td>12</td>\n",
              "      <td>0</td>\n",
              "      <td>41</td>\n",
              "      <td>0</td>\n",
              "      <td>36-43</td>\n",
              "      <td>&lt;57</td>\n",
              "      <td>&lt;20</td>\n",
              "    </tr>\n",
              "    <tr>\n",
              "      <th>1</th>\n",
              "      <td>4245</td>\n",
              "      <td>EPX</td>\n",
              "      <td>Travel Agency</td>\n",
              "      <td>Online</td>\n",
              "      <td>Cancellation Plan</td>\n",
              "      <td>4</td>\n",
              "      <td>MALAYSIA</td>\n",
              "      <td>17</td>\n",
              "      <td>0</td>\n",
              "      <td>35</td>\n",
              "      <td>0</td>\n",
              "      <td>33-36</td>\n",
              "      <td>&lt;10</td>\n",
              "      <td>&lt;20</td>\n",
              "    </tr>\n",
              "    <tr>\n",
              "      <th>2</th>\n",
              "      <td>9251</td>\n",
              "      <td>CWT</td>\n",
              "      <td>Travel Agency</td>\n",
              "      <td>Online</td>\n",
              "      <td>Rental Vehicle Excess Insurance</td>\n",
              "      <td>26</td>\n",
              "      <td>THAILAND</td>\n",
              "      <td>19.8</td>\n",
              "      <td>11</td>\n",
              "      <td>47</td>\n",
              "      <td>0</td>\n",
              "      <td>&lt;43</td>\n",
              "      <td>24-57</td>\n",
              "      <td>&lt;20</td>\n",
              "    </tr>\n",
              "    <tr>\n",
              "      <th>3</th>\n",
              "      <td>4754</td>\n",
              "      <td>EPX</td>\n",
              "      <td>Travel Agency</td>\n",
              "      <td>Online</td>\n",
              "      <td>2 way Comprehensive Plan</td>\n",
              "      <td>15</td>\n",
              "      <td>HONG KONG</td>\n",
              "      <td>27</td>\n",
              "      <td>0</td>\n",
              "      <td>48</td>\n",
              "      <td>0</td>\n",
              "      <td>&lt;43</td>\n",
              "      <td>10-24</td>\n",
              "      <td>20-29</td>\n",
              "    </tr>\n",
              "    <tr>\n",
              "      <th>4</th>\n",
              "      <td>8840</td>\n",
              "      <td>EPX</td>\n",
              "      <td>Travel Agency</td>\n",
              "      <td>Online</td>\n",
              "      <td>2 way Comprehensive Plan</td>\n",
              "      <td>15</td>\n",
              "      <td>MALAYSIA</td>\n",
              "      <td>37</td>\n",
              "      <td>0</td>\n",
              "      <td>36</td>\n",
              "      <td>0</td>\n",
              "      <td>33-36</td>\n",
              "      <td>10-24</td>\n",
              "      <td>30-55</td>\n",
              "    </tr>\n",
              "  </tbody>\n",
              "</table>\n",
              "</div>"
            ],
            "text/plain": [
              "     ID Agency    Agency Type  ... Age_band Duration_interval  Net_Sales_Interval\n",
              "0  2010    EPX  Travel Agency  ...    36-43               <57                 <20\n",
              "1  4245    EPX  Travel Agency  ...    33-36               <10                 <20\n",
              "2  9251    CWT  Travel Agency  ...      <43             24-57                 <20\n",
              "3  4754    EPX  Travel Agency  ...      <43             10-24               20-29\n",
              "4  8840    EPX  Travel Agency  ...    33-36             10-24               30-55\n",
              "\n",
              "[5 rows x 14 columns]"
            ]
          },
          "metadata": {
            "tags": []
          },
          "execution_count": 35
        }
      ]
    },
    {
      "cell_type": "code",
      "metadata": {
        "id": "7XvzXO2yHlt1",
        "colab_type": "code",
        "colab": {
          "base_uri": "https://localhost:8080/",
          "height": 102
        },
        "outputId": "8def8607-9b43-436d-f422-cf362c9e91b4"
      },
      "source": [
        "df_train['Net_Sales_Interval'].value_counts()"
      ],
      "execution_count": 36,
      "outputs": [
        {
          "output_type": "execute_result",
          "data": {
            "text/plain": [
              "<20      13193\n",
              "<55      13061\n",
              "20-29    13059\n",
              "30-55    12997\n",
              "Name: Net_Sales_Interval, dtype: int64"
            ]
          },
          "metadata": {
            "tags": []
          },
          "execution_count": 36
        }
      ]
    },
    {
      "cell_type": "code",
      "metadata": {
        "id": "GDQ0ocsSJ7Re",
        "colab_type": "code",
        "colab": {
          "base_uri": "https://localhost:8080/",
          "height": 519
        },
        "outputId": "8d1cbf73-9dfb-4c7a-cbaf-625e0ab85f41"
      },
      "source": [
        "fig_dims = (12, 8)\n",
        "fig, ax = plt.subplots(figsize=fig_dims)\n",
        "sns.set(style=\"darkgrid\")\n",
        "sns.countplot(x = 'Net_Sales_Interval', hue = 'Claim', data = df_train, ax = ax)"
      ],
      "execution_count": 37,
      "outputs": [
        {
          "output_type": "execute_result",
          "data": {
            "text/plain": [
              "<matplotlib.axes._subplots.AxesSubplot at 0x7f286ff9d2e8>"
            ]
          },
          "metadata": {
            "tags": []
          },
          "execution_count": 37
        },
        {
          "output_type": "display_data",
          "data": {
            "image/png": "[encoded data removed]",
            "text/plain": [
              "<Figure size 864x576 with 1 Axes>"
            ]
          },
          "metadata": {
            "tags": []
          }
        }
      ]
    },
    {
      "cell_type": "code",
      "metadata": {
        "id": "8kmVIZykI1CN",
        "colab_type": "code",
        "colab": {
          "base_uri": "https://localhost:8080/",
          "height": 221
        },
        "outputId": "dcba031b-d950-4c2d-fe4b-db0725a85e91"
      },
      "source": [
        "pd.qcut(df_test['Net_Sales'], q =4).head(10)\n"
      ],
      "execution_count": 38,
      "outputs": [
        {
          "output_type": "execute_result",
          "data": {
            "text/plain": [
              "0    (-297.001, 19.8]\n",
              "1      (19.8, 29.519]\n",
              "2    (-297.001, 19.8]\n",
              "3      (29.519, 56.0]\n",
              "4      (29.519, 56.0]\n",
              "5    (-297.001, 19.8]\n",
              "6      (19.8, 29.519]\n",
              "7       (56.0, 810.0]\n",
              "8    (-297.001, 19.8]\n",
              "9      (29.519, 56.0]\n",
              "Name: Net_Sales, dtype: category\n",
              "Categories (4, interval[float64]): [(-297.001, 19.8] < (19.8, 29.519] < (29.519, 56.0] < (56.0, 810.0]]"
            ]
          },
          "metadata": {
            "tags": []
          },
          "execution_count": 38
        }
      ]
    },
    {
      "cell_type": "code",
      "metadata": {
        "id": "LYedLdm7Jdgt",
        "colab_type": "code",
        "colab": {
          "base_uri": "https://localhost:8080/",
          "height": 306
        },
        "outputId": "3e92d0bd-e9d4-4061-ffa3-7a75a28d95ac"
      },
      "source": [
        "df_test['Net_Sales_Interval'] = pd.qcut(df_test.Net_Sales, q=4, labels=['<20', '20-29','30-56', '<56']) \n",
        "df_test.head()"
      ],
      "execution_count": 39,
      "outputs": [
        {
          "output_type": "execute_result",
          "data": {
            "text/html": [
              "<div>\n",
              "<style scoped>\n",
              "    .dataframe tbody tr th:only-of-type {\n",
              "        vertical-align: middle;\n",
              "    }\n",
              "\n",
              "    .dataframe tbody tr th {\n",
              "        vertical-align: top;\n",
              "    }\n",
              "\n",
              "    .dataframe thead th {\n",
              "        text-align: right;\n",
              "    }\n",
              "</style>\n",
              "<table border=\"1\" class=\"dataframe\">\n",
              "  <thead>\n",
              "    <tr style=\"text-align: right;\">\n",
              "      <th></th>\n",
              "      <th>ID</th>\n",
              "      <th>Agency</th>\n",
              "      <th>Agency Type</th>\n",
              "      <th>Distribution Channel</th>\n",
              "      <th>Product Name</th>\n",
              "      <th>Duration</th>\n",
              "      <th>Destination</th>\n",
              "      <th>Net_Sales</th>\n",
              "      <th>Comission</th>\n",
              "      <th>Age</th>\n",
              "      <th>Age_band</th>\n",
              "      <th>Duration_interval</th>\n",
              "      <th>Net_Sales_Interval</th>\n",
              "    </tr>\n",
              "  </thead>\n",
              "  <tbody>\n",
              "    <tr>\n",
              "      <th>0</th>\n",
              "      <td>17631</td>\n",
              "      <td>EPX</td>\n",
              "      <td>Travel Agency</td>\n",
              "      <td>Online</td>\n",
              "      <td>Cancellation Plan</td>\n",
              "      <td>192</td>\n",
              "      <td>HONG KONG</td>\n",
              "      <td>18</td>\n",
              "      <td>0</td>\n",
              "      <td>36</td>\n",
              "      <td>34-36</td>\n",
              "      <td>&lt;57</td>\n",
              "      <td>&lt;20</td>\n",
              "    </tr>\n",
              "    <tr>\n",
              "      <th>1</th>\n",
              "      <td>15064</td>\n",
              "      <td>EPX</td>\n",
              "      <td>Travel Agency</td>\n",
              "      <td>Online</td>\n",
              "      <td>1 way Comprehensive Plan</td>\n",
              "      <td>2</td>\n",
              "      <td>SINGAPORE</td>\n",
              "      <td>20</td>\n",
              "      <td>0</td>\n",
              "      <td>36</td>\n",
              "      <td>34-36</td>\n",
              "      <td>&lt;10</td>\n",
              "      <td>20-29</td>\n",
              "    </tr>\n",
              "    <tr>\n",
              "      <th>2</th>\n",
              "      <td>14139</td>\n",
              "      <td>C2B</td>\n",
              "      <td>Airlines</td>\n",
              "      <td>Online</td>\n",
              "      <td>Bronze Plan</td>\n",
              "      <td>13</td>\n",
              "      <td>SINGAPORE</td>\n",
              "      <td>13.5</td>\n",
              "      <td>3</td>\n",
              "      <td>24</td>\n",
              "      <td>&lt;34</td>\n",
              "      <td>10-24</td>\n",
              "      <td>&lt;20</td>\n",
              "    </tr>\n",
              "    <tr>\n",
              "      <th>3</th>\n",
              "      <td>19754</td>\n",
              "      <td>EPX</td>\n",
              "      <td>Travel Agency</td>\n",
              "      <td>Online</td>\n",
              "      <td>2 way Comprehensive Plan</td>\n",
              "      <td>133</td>\n",
              "      <td>TAIWAN, PROVINCE OF CHINA</td>\n",
              "      <td>41</td>\n",
              "      <td>0</td>\n",
              "      <td>36</td>\n",
              "      <td>34-36</td>\n",
              "      <td>&lt;57</td>\n",
              "      <td>30-56</td>\n",
              "    </tr>\n",
              "    <tr>\n",
              "      <th>4</th>\n",
              "      <td>16439</td>\n",
              "      <td>C2B</td>\n",
              "      <td>Airlines</td>\n",
              "      <td>Online</td>\n",
              "      <td>Silver Plan</td>\n",
              "      <td>2</td>\n",
              "      <td>SINGAPORE</td>\n",
              "      <td>30</td>\n",
              "      <td>7</td>\n",
              "      <td>32</td>\n",
              "      <td>&lt;34</td>\n",
              "      <td>&lt;10</td>\n",
              "      <td>30-56</td>\n",
              "    </tr>\n",
              "  </tbody>\n",
              "</table>\n",
              "</div>"
            ],
            "text/plain": [
              "      ID Agency    Agency Type  ... Age_band Duration_interval  Net_Sales_Interval\n",
              "0  17631    EPX  Travel Agency  ...    34-36               <57                 <20\n",
              "1  15064    EPX  Travel Agency  ...    34-36               <10               20-29\n",
              "2  14139    C2B       Airlines  ...      <34             10-24                 <20\n",
              "3  19754    EPX  Travel Agency  ...    34-36               <57               30-56\n",
              "4  16439    C2B       Airlines  ...      <34               <10               30-56\n",
              "\n",
              "[5 rows x 13 columns]"
            ]
          },
          "metadata": {
            "tags": []
          },
          "execution_count": 39
        }
      ]
    },
    {
      "cell_type": "code",
      "metadata": {
        "id": "3KzW0tppJg5T",
        "colab_type": "code",
        "colab": {
          "base_uri": "https://localhost:8080/",
          "height": 102
        },
        "outputId": "fb925d77-0176-4ebe-d1ba-4e799effd289"
      },
      "source": [
        "df_test['Net_Sales_Interval'].value_counts()"
      ],
      "execution_count": 40,
      "outputs": [
        {
          "output_type": "execute_result",
          "data": {
            "text/plain": [
              "<20      5688\n",
              "30-56    5618\n",
              "<56      5592\n",
              "20-29    5523\n",
              "Name: Net_Sales_Interval, dtype: int64"
            ]
          },
          "metadata": {
            "tags": []
          },
          "execution_count": 40
        }
      ]
    },
    {
      "cell_type": "code",
      "metadata": {
        "id": "XCDUmJPfTAde",
        "colab_type": "code",
        "colab": {
          "base_uri": "https://localhost:8080/",
          "height": 85
        },
        "outputId": "3afc6ea3-8a62-4660-b0fe-10ce6fba858f"
      },
      "source": [
        "df_train['Comission_band'] = 0\n",
        "df_train['Comission_band'] = df_train['Comission'].apply(lambda x: 1 if x<=0 else 2 if 0<x<26 else 3 ) \n",
        "df_train['Comission_band'].value_counts()"
      ],
      "execution_count": 46,
      "outputs": [
        {
          "output_type": "execute_result",
          "data": {
            "text/plain": [
              "1    26611\n",
              "2    18104\n",
              "3     7595\n",
              "Name: Comission_band, dtype: int64"
            ]
          },
          "metadata": {
            "tags": []
          },
          "execution_count": 46
        }
      ]
    },
    {
      "cell_type": "code",
      "metadata": {
        "id": "xMQyunwrVF_a",
        "colab_type": "code",
        "colab": {
          "base_uri": "https://localhost:8080/",
          "height": 85
        },
        "outputId": "7c30b86a-9908-46a0-e5a0-5aec00b2ef04"
      },
      "source": [
        "df_test['Comission_band'] = 0\n",
        "df_test['Comission_band'] = df_test['Comission'].apply(lambda x: 1 if x<=0 else 2 if 0<x<26 else 3 ) \n",
        "df_test['Comission_band'].value_counts()"
      ],
      "execution_count": 49,
      "outputs": [
        {
          "output_type": "execute_result",
          "data": {
            "text/plain": [
              "1    11421\n",
              "2     7687\n",
              "3     3313\n",
              "Name: Comission_band, dtype: int64"
            ]
          },
          "metadata": {
            "tags": []
          },
          "execution_count": 49
        }
      ]
    },
    {
      "cell_type": "code",
      "metadata": {
        "id": "1qnv__kETkj_",
        "colab_type": "code",
        "colab": {
          "base_uri": "https://localhost:8080/",
          "height": 377
        },
        "outputId": "fe678472-106a-45bc-d9a1-4af3cdcb6b87"
      },
      "source": [
        "df_train.head()"
      ],
      "execution_count": 48,
      "outputs": [
        {
          "output_type": "execute_result",
          "data": {
            "text/html": [
              "<div>\n",
              "<style scoped>\n",
              "    .dataframe tbody tr th:only-of-type {\n",
              "        vertical-align: middle;\n",
              "    }\n",
              "\n",
              "    .dataframe tbody tr th {\n",
              "        vertical-align: top;\n",
              "    }\n",
              "\n",
              "    .dataframe thead th {\n",
              "        text-align: right;\n",
              "    }\n",
              "</style>\n",
              "<table border=\"1\" class=\"dataframe\">\n",
              "  <thead>\n",
              "    <tr style=\"text-align: right;\">\n",
              "      <th></th>\n",
              "      <th>ID</th>\n",
              "      <th>Agency</th>\n",
              "      <th>Agency Type</th>\n",
              "      <th>Distribution Channel</th>\n",
              "      <th>Product Name</th>\n",
              "      <th>Duration</th>\n",
              "      <th>Destination</th>\n",
              "      <th>Net_Sales</th>\n",
              "      <th>Comission</th>\n",
              "      <th>Age</th>\n",
              "      <th>Claim</th>\n",
              "      <th>Age_band</th>\n",
              "      <th>Duration_interval</th>\n",
              "      <th>Net_Sales_Interval</th>\n",
              "      <th>Comission_band</th>\n",
              "    </tr>\n",
              "  </thead>\n",
              "  <tbody>\n",
              "    <tr>\n",
              "      <th>0</th>\n",
              "      <td>2010</td>\n",
              "      <td>EPX</td>\n",
              "      <td>Travel Agency</td>\n",
              "      <td>Online</td>\n",
              "      <td>Cancellation Plan</td>\n",
              "      <td>61</td>\n",
              "      <td>PHILIPPINES</td>\n",
              "      <td>12</td>\n",
              "      <td>0</td>\n",
              "      <td>41</td>\n",
              "      <td>0</td>\n",
              "      <td>36-43</td>\n",
              "      <td>&lt;57</td>\n",
              "      <td>&lt;20</td>\n",
              "      <td>1</td>\n",
              "    </tr>\n",
              "    <tr>\n",
              "      <th>1</th>\n",
              "      <td>4245</td>\n",
              "      <td>EPX</td>\n",
              "      <td>Travel Agency</td>\n",
              "      <td>Online</td>\n",
              "      <td>Cancellation Plan</td>\n",
              "      <td>4</td>\n",
              "      <td>MALAYSIA</td>\n",
              "      <td>17</td>\n",
              "      <td>0</td>\n",
              "      <td>35</td>\n",
              "      <td>0</td>\n",
              "      <td>33-36</td>\n",
              "      <td>&lt;10</td>\n",
              "      <td>&lt;20</td>\n",
              "      <td>1</td>\n",
              "    </tr>\n",
              "    <tr>\n",
              "      <th>2</th>\n",
              "      <td>9251</td>\n",
              "      <td>CWT</td>\n",
              "      <td>Travel Agency</td>\n",
              "      <td>Online</td>\n",
              "      <td>Rental Vehicle Excess Insurance</td>\n",
              "      <td>26</td>\n",
              "      <td>THAILAND</td>\n",
              "      <td>19.8</td>\n",
              "      <td>11</td>\n",
              "      <td>47</td>\n",
              "      <td>0</td>\n",
              "      <td>&lt;43</td>\n",
              "      <td>24-57</td>\n",
              "      <td>&lt;20</td>\n",
              "      <td>2</td>\n",
              "    </tr>\n",
              "    <tr>\n",
              "      <th>3</th>\n",
              "      <td>4754</td>\n",
              "      <td>EPX</td>\n",
              "      <td>Travel Agency</td>\n",
              "      <td>Online</td>\n",
              "      <td>2 way Comprehensive Plan</td>\n",
              "      <td>15</td>\n",
              "      <td>HONG KONG</td>\n",
              "      <td>27</td>\n",
              "      <td>0</td>\n",
              "      <td>48</td>\n",
              "      <td>0</td>\n",
              "      <td>&lt;43</td>\n",
              "      <td>10-24</td>\n",
              "      <td>20-29</td>\n",
              "      <td>1</td>\n",
              "    </tr>\n",
              "    <tr>\n",
              "      <th>4</th>\n",
              "      <td>8840</td>\n",
              "      <td>EPX</td>\n",
              "      <td>Travel Agency</td>\n",
              "      <td>Online</td>\n",
              "      <td>2 way Comprehensive Plan</td>\n",
              "      <td>15</td>\n",
              "      <td>MALAYSIA</td>\n",
              "      <td>37</td>\n",
              "      <td>0</td>\n",
              "      <td>36</td>\n",
              "      <td>0</td>\n",
              "      <td>33-36</td>\n",
              "      <td>10-24</td>\n",
              "      <td>30-55</td>\n",
              "      <td>1</td>\n",
              "    </tr>\n",
              "  </tbody>\n",
              "</table>\n",
              "</div>"
            ],
            "text/plain": [
              "     ID Agency  ... Net_Sales_Interval Comission_band\n",
              "0  2010    EPX  ...                <20              1\n",
              "1  4245    EPX  ...                <20              1\n",
              "2  9251    CWT  ...                <20              2\n",
              "3  4754    EPX  ...              20-29              1\n",
              "4  8840    EPX  ...              30-55              1\n",
              "\n",
              "[5 rows x 15 columns]"
            ]
          },
          "metadata": {
            "tags": []
          },
          "execution_count": 48
        }
      ]
    },
    {
      "cell_type": "code",
      "metadata": {
        "id": "_0a1GUBuVBLu",
        "colab_type": "code",
        "colab": {
          "base_uri": "https://localhost:8080/",
          "height": 519
        },
        "outputId": "e3ce332d-0855-4b65-b7e6-14b52f1fdcae"
      },
      "source": [
        "fig_dims = (12, 8)\n",
        "fig, ax = plt.subplots(figsize=fig_dims)\n",
        "sns.set(style=\"darkgrid\")\n",
        "sns.countplot(x = 'Comission_band', hue = 'Claim', data = df_train, ax = ax)"
      ],
      "execution_count": 50,
      "outputs": [
        {
          "output_type": "execute_result",
          "data": {
            "text/plain": [
              "<matplotlib.axes._subplots.AxesSubplot at 0x7f2867e266d8>"
            ]
          },
          "metadata": {
            "tags": []
          },
          "execution_count": 50
        },
        {
          "output_type": "display_data",
          "data": {
            "image/png": "[encoded data removed]",
            "text/plain": [
              "<Figure size 864x576 with 1 Axes>"
            ]
          },
          "metadata": {
            "tags": []
          }
        }
      ]
    },
    {
      "cell_type": "code",
      "metadata": {
        "id": "QAuGS_C5VUvy",
        "colab_type": "code",
        "colab": {}
      },
      "source": [
        ""
      ],
      "execution_count": null,
      "outputs": []
    }
  ]
}